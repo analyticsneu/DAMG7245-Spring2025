{
 "cells": [
  {
   "cell_type": "markdown",
   "id": "90875fdf",
   "metadata": {},
   "source": [
    "# CrewAI: Core Concepts and Working Examples\n",
    "\n",
    "This notebook provides a comprehensive introduction to CrewAI, covering its core concepts and demonstrating them with working code examples.\n",
    "\n",
    "## What is CrewAI?\n",
    "\n",
    "CrewAI is a framework for orchestrating role-playing, autonomous AI agents. It allows multiple agents with different roles to collaborate and solve complex tasks. The framework is designed to facilitate the creation of specialized AI teams that can work together to accomplish goals.\n",
    "\n",
    "## Setting Up the Environment\n",
    "\n",
    "Let's start by installing CrewAI and the necessary dependencies:"
   ]
  },
  {
   "cell_type": "code",
   "execution_count": null,
   "id": "3612a4c7",
   "metadata": {},
   "outputs": [],
   "source": [
    "!pip install crewai crewai-tools"
   ]
  },
  {
   "cell_type": "markdown",
   "id": "f79fdb5e",
   "metadata": {},
   "source": [
    "Now let's import the required modules:"
   ]
  },
  {
   "cell_type": "code",
   "execution_count": 1,
   "id": "0238fccb",
   "metadata": {},
   "outputs": [
    {
     "name": "stderr",
     "output_type": "stream",
     "text": [
      "/opt/anaconda3/envs/getting_started_llmops/lib/python3.11/site-packages/pydantic/_internal/_config.py:295: PydanticDeprecatedSince20: Support for class-based `config` is deprecated, use ConfigDict instead. Deprecated in Pydantic V2.0 to be removed in V3.0. See Pydantic V2 Migration Guide at https://errors.pydantic.dev/2.10/migration/\n",
      "  warnings.warn(DEPRECATION_MESSAGE, DeprecationWarning)\n",
      "/opt/anaconda3/envs/getting_started_llmops/lib/python3.11/site-packages/pydantic/_internal/_fields.py:192: UserWarning: Field name \"schema\" in \"DatabricksQueryToolSchema\" shadows an attribute in parent \"BaseModel\"\n",
      "  warnings.warn(\n",
      "/opt/anaconda3/envs/getting_started_llmops/lib/python3.11/site-packages/pydantic/_internal/_generate_schema.py:502: UserWarning: <built-in function callable> is not a Python type (it may be an instance of an object), Pydantic will allow any object with no validation since we cannot even enforce that the input is an instance of the given type. To get rid of this error wrap the type with `pydantic.SkipValidation`.\n",
      "  warn(\n",
      "/opt/anaconda3/envs/getting_started_llmops/lib/python3.11/site-packages/crewai_tools/tools/scrapegraph_scrape_tool/scrapegraph_scrape_tool.py:34: PydanticDeprecatedSince20: Pydantic V1 style `@validator` validators are deprecated. You should migrate to Pydantic V2 style `@field_validator` validators, see the migration guide for more details. Deprecated in Pydantic V2.0 to be removed in V3.0. See Pydantic V2 Migration Guide at https://errors.pydantic.dev/2.10/migration/\n",
      "  @validator(\"website_url\")\n",
      "/opt/anaconda3/envs/getting_started_llmops/lib/python3.11/site-packages/crewai_tools/tools/selenium_scraping_tool/selenium_scraping_tool.py:26: PydanticDeprecatedSince20: Pydantic V1 style `@validator` validators are deprecated. You should migrate to Pydantic V2 style `@field_validator` validators, see the migration guide for more details. Deprecated in Pydantic V2.0 to be removed in V3.0. See Pydantic V2 Migration Guide at https://errors.pydantic.dev/2.10/migration/\n",
      "  @validator(\"website_url\")\n",
      "/opt/anaconda3/envs/getting_started_llmops/lib/python3.11/site-packages/crewai_tools/tools/vision_tool/vision_tool.py:15: PydanticDeprecatedSince20: Pydantic V1 style `@validator` validators are deprecated. You should migrate to Pydantic V2 style `@field_validator` validators, see the migration guide for more details. Deprecated in Pydantic V2.0 to be removed in V3.0. See Pydantic V2 Migration Guide at https://errors.pydantic.dev/2.10/migration/\n",
      "  @validator(\"image_path_url\")\n"
     ]
    }
   ],
   "source": [
    "import os\n",
    "from crewai import Agent, Task, Crew, Process, LLM\n",
    "from crewai_tools import SerperDevTool, WebsiteSearchTool"
   ]
  },
  {
   "cell_type": "markdown",
   "id": "2b0a4c03",
   "metadata": {},
   "source": [
    "## Core Concepts\n",
    "\n",
    "### 1. Agents\n",
    "\n",
    "Agents are the building blocks of CrewAI. Each agent has a specific role, goal, and backstory, which defines its behavior and expertise.\n",
    "\n",
    "Let's create our first agent:"
   ]
  },
  {
   "cell_type": "code",
   "execution_count": 2,
   "id": "a0225d0e",
   "metadata": {},
   "outputs": [
    {
     "name": "stdout",
     "output_type": "stream",
     "text": [
      "Created agents: Research Analyst and Content Writer\n"
     ]
    }
   ],
   "source": [
    "# Define our LLM - using Ollama with Gemma 3\n",
    "llm = LLM(model=\"ollama/gemma3:4b\")\n",
    "\n",
    "# Create a researcher agent\n",
    "researcher = Agent(\n",
    "    role=\"Research Analyst\",\n",
    "    goal=\"Find accurate and relevant information on the given topic\",\n",
    "    backstory=\"You are an experienced researcher with expertise in data collection and analysis. You have a knack for finding the most relevant information quickly.\",\n",
    "    verbose=True,\n",
    "    llm=llm\n",
    ")\n",
    "\n",
    "# Create a writer agent\n",
    "writer = Agent(\n",
    "    role=\"Content Writer\",\n",
    "    goal=\"Create engaging and informative content based on research\",\n",
    "    backstory=\"You are a skilled writer with years of experience in creating compelling content. You excel at transforming complex information into clear, engaging narratives.\",\n",
    "    verbose=True,\n",
    "    llm=llm\n",
    ")\n",
    "\n",
    "print(f\"Created agents: {researcher.role} and {writer.role}\")"
   ]
  },
  {
   "cell_type": "markdown",
   "id": "d9a88b34",
   "metadata": {},
   "source": [
    "### 2. Tasks\n",
    "\n",
    "Tasks represent the specific actions that agents need to perform. Each task has a description, expected output, and is assigned to a specific agent."
   ]
  },
  {
   "cell_type": "code",
   "execution_count": 3,
   "id": "4ad0ec65",
   "metadata": {},
   "outputs": [
    {
     "name": "stdout",
     "output_type": "stream",
     "text": [
      "Created tasks for Research Analyst and Content Writer\n"
     ]
    }
   ],
   "source": [
    "# Create a research task\n",
    "research_task = Task(\n",
    "    description=\"Research the topic of 'Artificial Intelligence in Healthcare'. Focus on recent applications, benefits, and challenges.\",\n",
    "    expected_output=\"A comprehensive summary of AI applications in healthcare, including recent developments, benefits, and challenges.\",\n",
    "    agent=researcher\n",
    ")\n",
    "\n",
    "# Create a writing task\n",
    "writing_task = Task(\n",
    "    description=\"Using the research provided, write an informative article about 'Artificial Intelligence in Healthcare'. The article should be engaging, clear, and suitable for a general audience.\",\n",
    "    expected_output=\"A well-structured article about AI in healthcare that explains key concepts, applications, benefits, and challenges in an engaging way.\",\n",
    "    agent=writer\n",
    ")\n",
    "\n",
    "print(f\"Created tasks for {research_task.agent.role} and {writing_task.agent.role}\")"
   ]
  },
  {
   "cell_type": "markdown",
   "id": "b0460b9b",
   "metadata": {},
   "source": [
    "### 3. Crews\n",
    "\n",
    "A Crew is a team of agents working together to complete a set of tasks. The crew orchestrates the collaboration between agents and manages the execution of tasks."
   ]
  },
  {
   "cell_type": "code",
   "execution_count": 4,
   "id": "b0771e27",
   "metadata": {},
   "outputs": [
    {
     "name": "stdout",
     "output_type": "stream",
     "text": [
      "Created crew with 2 agents and 2 tasks\n"
     ]
    }
   ],
   "source": [
    "# Create a crew with our agents and tasks\n",
    "ai_healthcare_crew = Crew(\n",
    "    agents=[researcher, writer],\n",
    "    tasks=[research_task, writing_task],\n",
    "    verbose=True,\n",
    "    process=Process.sequential,  # Tasks will be executed one after another\n",
    ")\n",
    "\n",
    "print(f\"Created crew with {len(ai_healthcare_crew.agents)} agents and {len(ai_healthcare_crew.tasks)} tasks\")"
   ]
  },
  {
   "cell_type": "markdown",
   "id": "1c9c29a8",
   "metadata": {},
   "source": [
    "### 4. Process Types\n",
    "\n",
    "CrewAI supports different process types for task execution:\n",
    "\n",
    "1. **Sequential Process**: Tasks are executed one after another in the order they are defined.\n",
    "2. **Hierarchical Process**: A manager agent coordinates the crew, delegating tasks and validating outcomes.\n",
    "\n",
    "Let's see how to use both process types:"
   ]
  },
  {
   "cell_type": "code",
   "execution_count": 5,
   "id": "983b64b9",
   "metadata": {},
   "outputs": [
    {
     "name": "stdout",
     "output_type": "stream",
     "text": [
      "Created crews with different process types: Sequential and Hierarchical\n"
     ]
    }
   ],
   "source": [
    "# Sequential process (already shown above)\n",
    "sequential_crew = Crew(\n",
    "    agents=[researcher, writer],\n",
    "    tasks=[research_task, writing_task],\n",
    "    process=Process.sequential,\n",
    "    verbose=True,\n",
    "    llm=llm\n",
    ")\n",
    "\n",
    "# Hierarchical process\n",
    "hierarchical_crew = Crew(\n",
    "    agents=[researcher, writer],\n",
    "    tasks=[research_task, writing_task],\n",
    "    process=Process.hierarchical,\n",
    "    verbose=True,\n",
    "    manager_llm=llm  # Manager LLM is required for hierarchical process\n",
    ")\n",
    "\n",
    "print(\"Created crews with different process types: Sequential and Hierarchical\")"
   ]
  },
  {
   "cell_type": "markdown",
   "id": "7d3c7d43",
   "metadata": {},
   "source": [
    "### 5. Tools\n",
    "\n",
    "Tools extend the capabilities of agents, allowing them to perform specific actions like web searches or API calls."
   ]
  },
  {
   "cell_type": "code",
   "execution_count": 6,
   "id": "d915dfb1",
   "metadata": {},
   "outputs": [
    {
     "name": "stdout",
     "output_type": "stream",
     "text": [
      "Created an agent with 1 tool(s)\n"
     ]
    }
   ],
   "source": [
    "# Create a web search tool (requires API key)\n",
    "# For this example, we'll just define it without actual API keys\n",
    "search_tool = WebsiteSearchTool()\n",
    "\n",
    "# Create a new agent with tools\n",
    "researcher_with_tools = Agent(\n",
    "    role=\"Advanced Research Analyst\",\n",
    "    goal=\"Find accurate and relevant information on the given topic using various online sources\",\n",
    "    backstory=\"You are an experienced researcher with expertise in data collection and analysis. You leverage various tools to find the most relevant information quickly.\",\n",
    "    verbose=True,\n",
    "    llm=llm,\n",
    "    tools=[search_tool]\n",
    ")\n",
    "\n",
    "# Create a new task for this agent\n",
    "advanced_research_task = Task(\n",
    "    description=\"Research the topic of 'Artificial Intelligence in Healthcare'. Use the search tool to find recent applications, benefits, and challenges.\",\n",
    "    expected_output=\"A comprehensive summary of AI applications in healthcare, including recent developments, benefits, and challenges.\",\n",
    "    agent=researcher_with_tools\n",
    ")\n",
    "\n",
    "print(f\"Created an agent with {len(researcher_with_tools.tools)} tool(s)\")"
   ]
  },
  {
   "cell_type": "markdown",
   "id": "a24fc86a",
   "metadata": {},
   "source": [
    "## Working Example: AI Technology Report Crew\n",
    "\n",
    "Now, let's put everything together in a working example to create a report on AI technology:"
   ]
  },
  {
   "cell_type": "code",
   "execution_count": 8,
   "id": "cec4864a",
   "metadata": {},
   "outputs": [
    {
     "name": "stdout",
     "output_type": "stream",
     "text": [
      "Running the AI Technology Report Crew...\n"
     ]
    },
    {
     "data": {
      "text/html": [
       "<pre style=\"white-space:pre;overflow-x:auto;line-height:normal;font-family:Menlo,'DejaVu Sans Mono',consolas,'Courier New',monospace\"><span style=\"color: #008080; text-decoration-color: #008080\">╭──────────────────────────────────────────── Crew Execution Started ─────────────────────────────────────────────╮</span>\n",
       "<span style=\"color: #008080; text-decoration-color: #008080\">│</span>                                                                                                                 <span style=\"color: #008080; text-decoration-color: #008080\">│</span>\n",
       "<span style=\"color: #008080; text-decoration-color: #008080\">│</span>  <span style=\"color: #008080; text-decoration-color: #008080; font-weight: bold\">Crew Execution Started</span>                                                                                         <span style=\"color: #008080; text-decoration-color: #008080\">│</span>\n",
       "<span style=\"color: #008080; text-decoration-color: #008080\">│</span>  <span style=\"color: #c0c0c0; text-decoration-color: #c0c0c0\">Name: </span><span style=\"color: #008080; text-decoration-color: #008080\">crew</span>                                                                                                     <span style=\"color: #008080; text-decoration-color: #008080\">│</span>\n",
       "<span style=\"color: #008080; text-decoration-color: #008080\">│</span>  <span style=\"color: #c0c0c0; text-decoration-color: #c0c0c0\">ID: </span><span style=\"color: #008080; text-decoration-color: #008080\">79c7fcc1-7cf7-4bb5-868f-f021e5b16a06</span>                                                                       <span style=\"color: #008080; text-decoration-color: #008080\">│</span>\n",
       "<span style=\"color: #008080; text-decoration-color: #008080\">│</span>                                                                                                                 <span style=\"color: #008080; text-decoration-color: #008080\">│</span>\n",
       "<span style=\"color: #008080; text-decoration-color: #008080\">│</span>                                                                                                                 <span style=\"color: #008080; text-decoration-color: #008080\">│</span>\n",
       "<span style=\"color: #008080; text-decoration-color: #008080\">╰─────────────────────────────────────────────────────────────────────────────────────────────────────────────────╯</span>\n",
       "</pre>\n"
      ],
      "text/plain": [
       "\u001b[36m╭─\u001b[0m\u001b[36m───────────────────────────────────────────\u001b[0m\u001b[36m Crew Execution Started \u001b[0m\u001b[36m────────────────────────────────────────────\u001b[0m\u001b[36m─╮\u001b[0m\n",
       "\u001b[36m│\u001b[0m                                                                                                                 \u001b[36m│\u001b[0m\n",
       "\u001b[36m│\u001b[0m  \u001b[1;36mCrew Execution Started\u001b[0m                                                                                         \u001b[36m│\u001b[0m\n",
       "\u001b[36m│\u001b[0m  \u001b[37mName: \u001b[0m\u001b[36mcrew\u001b[0m                                                                                                     \u001b[36m│\u001b[0m\n",
       "\u001b[36m│\u001b[0m  \u001b[37mID: \u001b[0m\u001b[36m79c7fcc1-7cf7-4bb5-868f-f021e5b16a06\u001b[0m                                                                       \u001b[36m│\u001b[0m\n",
       "\u001b[36m│\u001b[0m                                                                                                                 \u001b[36m│\u001b[0m\n",
       "\u001b[36m│\u001b[0m                                                                                                                 \u001b[36m│\u001b[0m\n",
       "\u001b[36m╰─────────────────────────────────────────────────────────────────────────────────────────────────────────────────╯\u001b[0m\n"
      ]
     },
     "metadata": {},
     "output_type": "display_data"
    },
    {
     "data": {
      "text/html": [
       "<pre style=\"white-space:pre;overflow-x:auto;line-height:normal;font-family:Menlo,'DejaVu Sans Mono',consolas,'Courier New',monospace\">\n",
       "</pre>\n"
      ],
      "text/plain": [
       "\n"
      ]
     },
     "metadata": {},
     "output_type": "display_data"
    },
    {
     "data": {
      "text/html": [
       "<pre style=\"white-space:pre;overflow-x:auto;line-height:normal;font-family:Menlo,'DejaVu Sans Mono',consolas,'Courier New',monospace\"><span style=\"color: #008080; text-decoration-color: #008080; font-weight: bold\">🚀 Crew: crew</span>\n",
       "└── <span style=\"color: #808000; text-decoration-color: #808000; font-weight: bold\">📋 Task: 5552636b-2eca-4ed6-b797-e7ca2000865e</span>\n",
       "    <span style=\"color: #c0c0c0; text-decoration-color: #c0c0c0\">   Status: </span><span style=\"color: #bfbf7f; text-decoration-color: #bfbf7f\">Executing Task...</span>\n",
       "</pre>\n"
      ],
      "text/plain": [
       "\u001b[1;36m🚀 Crew: \u001b[0m\u001b[1;36mcrew\u001b[0m\n",
       "└── \u001b[1;33m📋 Task: 5552636b-2eca-4ed6-b797-e7ca2000865e\u001b[0m\n",
       "    \u001b[37m   Status: \u001b[0m\u001b[2;33mExecuting Task...\u001b[0m\n"
      ]
     },
     "metadata": {},
     "output_type": "display_data"
    },
    {
     "data": {
      "text/html": [
       "<pre style=\"white-space:pre;overflow-x:auto;line-height:normal;font-family:Menlo,'DejaVu Sans Mono',consolas,'Courier New',monospace\">\n",
       "</pre>\n"
      ],
      "text/plain": [
       "\n"
      ]
     },
     "metadata": {},
     "output_type": "display_data"
    },
    {
     "data": {
      "text/html": [
       "<pre style=\"white-space:pre;overflow-x:auto;line-height:normal;font-family:Menlo,'DejaVu Sans Mono',consolas,'Courier New',monospace\"><span style=\"color: #008080; text-decoration-color: #008080; font-weight: bold\">🚀 Crew: crew</span>\n",
       "└── <span style=\"color: #808000; text-decoration-color: #808000; font-weight: bold\">📋 Task: 5552636b-2eca-4ed6-b797-e7ca2000865e</span>\n",
       "    <span style=\"color: #c0c0c0; text-decoration-color: #c0c0c0\">   Status: </span><span style=\"color: #bfbf7f; text-decoration-color: #bfbf7f\">Executing Task...</span>\n",
       "    └── <span style=\"color: #008000; text-decoration-color: #008000; font-weight: bold\">🤖 Agent: </span><span style=\"color: #008000; text-decoration-color: #008000\">Technology Researcher</span>\n",
       "        <span style=\"color: #c0c0c0; text-decoration-color: #c0c0c0\">    Status: </span><span style=\"color: #008000; text-decoration-color: #008000; font-weight: bold\">In Progress</span>\n",
       "</pre>\n"
      ],
      "text/plain": [
       "\u001b[1;36m🚀 Crew: \u001b[0m\u001b[1;36mcrew\u001b[0m\n",
       "└── \u001b[1;33m📋 Task: 5552636b-2eca-4ed6-b797-e7ca2000865e\u001b[0m\n",
       "    \u001b[37m   Status: \u001b[0m\u001b[2;33mExecuting Task...\u001b[0m\n",
       "    └── \u001b[1;32m🤖 Agent: \u001b[0m\u001b[32mTechnology Researcher\u001b[0m\n",
       "        \u001b[37m    Status: \u001b[0m\u001b[1;32mIn Progress\u001b[0m\n"
      ]
     },
     "metadata": {},
     "output_type": "display_data"
    },
    {
     "data": {
      "text/html": [
       "<pre style=\"white-space:pre;overflow-x:auto;line-height:normal;font-family:Menlo,'DejaVu Sans Mono',consolas,'Courier New',monospace\">\n",
       "</pre>\n"
      ],
      "text/plain": [
       "\n"
      ]
     },
     "metadata": {},
     "output_type": "display_data"
    },
    {
     "name": "stdout",
     "output_type": "stream",
     "text": [
      "\u001b[1m\u001b[95m# Agent:\u001b[00m \u001b[1m\u001b[92mTechnology Researcher\u001b[00m\n",
      "\u001b[95m## Task:\u001b[00m \u001b[92mResearch the latest developments in artificial intelligence. Focus on recent breakthroughs, practical applications, and future trends.\u001b[00m\n"
     ]
    },
    {
     "data": {
      "text/html": [
       "<pre style=\"white-space:pre;overflow-x:auto;line-height:normal;font-family:Menlo,'DejaVu Sans Mono',consolas,'Courier New',monospace\"><span style=\"color: #008080; text-decoration-color: #008080; font-weight: bold\">🚀 Crew: crew</span>\n",
       "└── <span style=\"color: #808000; text-decoration-color: #808000; font-weight: bold\">📋 Task: 5552636b-2eca-4ed6-b797-e7ca2000865e</span>\n",
       "    <span style=\"color: #c0c0c0; text-decoration-color: #c0c0c0\">   Status: </span><span style=\"color: #bfbf7f; text-decoration-color: #bfbf7f\">Executing Task...</span>\n",
       "    └── <span style=\"color: #008000; text-decoration-color: #008000; font-weight: bold\">🤖 Agent: </span><span style=\"color: #008000; text-decoration-color: #008000\">Technology Researcher</span>\n",
       "        <span style=\"color: #c0c0c0; text-decoration-color: #c0c0c0\">    Status: </span><span style=\"color: #008000; text-decoration-color: #008000; font-weight: bold\">In Progress</span>\n",
       "        └── <span style=\"color: #000080; text-decoration-color: #000080; font-weight: bold\">🧠 </span><span style=\"color: #000080; text-decoration-color: #000080\">Thinking...</span>\n",
       "</pre>\n"
      ],
      "text/plain": [
       "\u001b[1;36m🚀 Crew: \u001b[0m\u001b[1;36mcrew\u001b[0m\n",
       "└── \u001b[1;33m📋 Task: 5552636b-2eca-4ed6-b797-e7ca2000865e\u001b[0m\n",
       "    \u001b[37m   Status: \u001b[0m\u001b[2;33mExecuting Task...\u001b[0m\n",
       "    └── \u001b[1;32m🤖 Agent: \u001b[0m\u001b[32mTechnology Researcher\u001b[0m\n",
       "        \u001b[37m    Status: \u001b[0m\u001b[1;32mIn Progress\u001b[0m\n",
       "        └── \u001b[1;34m🧠 \u001b[0m\u001b[34mThinking...\u001b[0m\n"
      ]
     },
     "metadata": {},
     "output_type": "display_data"
    },
    {
     "data": {
      "text/html": [
       "<pre style=\"white-space:pre;overflow-x:auto;line-height:normal;font-family:Menlo,'DejaVu Sans Mono',consolas,'Courier New',monospace\">\n",
       "</pre>\n"
      ],
      "text/plain": [
       "\n"
      ]
     },
     "metadata": {},
     "output_type": "display_data"
    },
    {
     "data": {
      "text/html": [
       "<pre style=\"white-space:pre;overflow-x:auto;line-height:normal;font-family:Menlo,'DejaVu Sans Mono',consolas,'Courier New',monospace\"><span style=\"color: #008080; text-decoration-color: #008080; font-weight: bold\">🚀 Crew: crew</span>\n",
       "└── <span style=\"color: #808000; text-decoration-color: #808000; font-weight: bold\">📋 Task: 5552636b-2eca-4ed6-b797-e7ca2000865e</span>\n",
       "    <span style=\"color: #c0c0c0; text-decoration-color: #c0c0c0\">   Status: </span><span style=\"color: #bfbf7f; text-decoration-color: #bfbf7f\">Executing Task...</span>\n",
       "    └── <span style=\"color: #008000; text-decoration-color: #008000; font-weight: bold\">🤖 Agent: </span><span style=\"color: #008000; text-decoration-color: #008000\">Technology Researcher</span>\n",
       "        <span style=\"color: #c0c0c0; text-decoration-color: #c0c0c0\">    Status: </span><span style=\"color: #008000; text-decoration-color: #008000; font-weight: bold\">In Progress</span>\n",
       "</pre>\n"
      ],
      "text/plain": [
       "\u001b[1;36m🚀 Crew: \u001b[0m\u001b[1;36mcrew\u001b[0m\n",
       "└── \u001b[1;33m📋 Task: 5552636b-2eca-4ed6-b797-e7ca2000865e\u001b[0m\n",
       "    \u001b[37m   Status: \u001b[0m\u001b[2;33mExecuting Task...\u001b[0m\n",
       "    └── \u001b[1;32m🤖 Agent: \u001b[0m\u001b[32mTechnology Researcher\u001b[0m\n",
       "        \u001b[37m    Status: \u001b[0m\u001b[1;32mIn Progress\u001b[0m\n"
      ]
     },
     "metadata": {},
     "output_type": "display_data"
    },
    {
     "data": {
      "text/html": [
       "<pre style=\"white-space:pre;overflow-x:auto;line-height:normal;font-family:Menlo,'DejaVu Sans Mono',consolas,'Courier New',monospace\">\n",
       "</pre>\n"
      ],
      "text/plain": [
       "\n"
      ]
     },
     "metadata": {},
     "output_type": "display_data"
    },
    {
     "name": "stdout",
     "output_type": "stream",
     "text": [
      "\n",
      "\n",
      "\u001b[1m\u001b[95m# Agent:\u001b[00m \u001b[1m\u001b[92mTechnology Researcher\u001b[00m\n",
      "\u001b[95m## Final Answer:\u001b[00m \u001b[92m\n",
      "The field of Artificial Intelligence is currently experiencing a period of intense and rapid development, marked by significant breakthroughs and expanding practical applications. The most prominent trend is the dominance of generative AI models like GPT-4, Gemini, and Claude 3, which are demonstrating remarkable capabilities in text, image, code, and even video generation. These advancements are fueled by architectural innovations such as Mixture of Experts (MoE) and continued refinement through Reinforcement Learning from Human Feedback (RLHF), alongside the increasingly common use of Retrieval-Augmented Generation (RAG) to enhance accuracy and knowledge integration.\n",
      "\n",
      "Beyond generative AI, several other key trends are shaping the landscape:\n",
      "\n",
      "*   **Multimodal AI:** AI systems are increasingly capable of processing and generating content across multiple modalities – text, images, audio, and video – leading to applications in areas like automated video editing, visual question answering, and advanced image search.\n",
      "*   **Edge AI & TinyML:** The rise of TinyML – machine learning on microcontrollers – is enabling AI applications in resource-constrained environments, such as smart sensors and wearable devices.\n",
      "*   **Neuro-Symbolic AI:** Combining neural networks with symbolic AI is gaining traction, aiming to create more robust and explainable AI systems.\n",
      "*   **Practical Applications are Expanding Rapidly:** AI is transforming industries across the board:\n",
      "    *   **Healthcare:** Drug discovery, medical imaging analysis, and personalized medicine are being revolutionized.\n",
      "    *   **Finance:** Fraud detection, algorithmic trading, and risk management are benefiting from AI.\n",
      "    *   **Manufacturing:** AI optimizes production processes and enhances quality control.\n",
      "    *   **Retail:** Personalized recommendations and automated checkout systems are becoming commonplace.\n",
      "    *   **Automotive:** Self-driving car technology is advancing, with a focus on higher levels of autonomy.\n",
      "    *   **Customer Service:** Generative AI is powering advanced chatbots and virtual assistants.\n",
      "\n",
      "Looking ahead, several key trends are expected to continue and accelerate:\n",
      "\n",
      "*   **Artificial General Intelligence (AGI):** While still a long-term goal, research into AGI is intensifying.\n",
      "*   **Foundation Models as a Service:** More companies will offer access to large, pre-trained AI models via APIs, lowering the barrier to entry for developers.\n",
      "*   **AI Hardware Acceleration:** Specialized AI chips (GPUs, TPUs, NPUs) will continue to improve, enabling faster and more efficient AI processing.\n",
      "*   **Explainable AI (XAI):** Demand for XAI – AI systems that can explain their decisions – will increase, particularly in regulated industries.\n",
      "*   **Synthetic Data Generation:** As data privacy concerns grow, synthetic data – artificially generated data – will become increasingly important for training AI models.\n",
      "*   **Quantum AI:** While still nascent, research into quantum AI – using quantum computers to accelerate AI algorithms – is underway.\n",
      "*   **Decentralized AI:** Blockchain-based AI systems that allow for secure and transparent data sharing and model training are emerging.\n",
      "\n",
      "In conclusion, the field of AI is characterized by rapid innovation and expanding applications. The convergence of generative AI with other advancements promises to reshape industries and drive further technological progress in the years to come. The ongoing research and development efforts are focused on creating more powerful, efficient, and accessible AI systems, ultimately pushing the boundaries of what's possible.\u001b[00m\n",
      "\n",
      "\n"
     ]
    },
    {
     "data": {
      "text/html": [
       "<pre style=\"white-space:pre;overflow-x:auto;line-height:normal;font-family:Menlo,'DejaVu Sans Mono',consolas,'Courier New',monospace\"><span style=\"color: #008080; text-decoration-color: #008080; font-weight: bold\">🚀 Crew: crew</span>\n",
       "└── <span style=\"color: #808000; text-decoration-color: #808000; font-weight: bold\">📋 Task: 5552636b-2eca-4ed6-b797-e7ca2000865e</span>\n",
       "    <span style=\"color: #c0c0c0; text-decoration-color: #c0c0c0\">   Status: </span><span style=\"color: #bfbf7f; text-decoration-color: #bfbf7f\">Executing Task...</span>\n",
       "    └── <span style=\"color: #008000; text-decoration-color: #008000; font-weight: bold\">🤖 Agent: </span><span style=\"color: #008000; text-decoration-color: #008000\">Technology Researcher</span>\n",
       "        <span style=\"color: #c0c0c0; text-decoration-color: #c0c0c0\">    Status: </span><span style=\"color: #008000; text-decoration-color: #008000; font-weight: bold\">✅ Completed</span>\n",
       "</pre>\n"
      ],
      "text/plain": [
       "\u001b[1;36m🚀 Crew: \u001b[0m\u001b[1;36mcrew\u001b[0m\n",
       "└── \u001b[1;33m📋 Task: 5552636b-2eca-4ed6-b797-e7ca2000865e\u001b[0m\n",
       "    \u001b[37m   Status: \u001b[0m\u001b[2;33mExecuting Task...\u001b[0m\n",
       "    └── \u001b[1;32m🤖 Agent: \u001b[0m\u001b[32mTechnology Researcher\u001b[0m\n",
       "        \u001b[37m    Status: \u001b[0m\u001b[1;32m✅ Completed\u001b[0m\n"
      ]
     },
     "metadata": {},
     "output_type": "display_data"
    },
    {
     "data": {
      "text/html": [
       "<pre style=\"white-space:pre;overflow-x:auto;line-height:normal;font-family:Menlo,'DejaVu Sans Mono',consolas,'Courier New',monospace\">\n",
       "</pre>\n"
      ],
      "text/plain": [
       "\n"
      ]
     },
     "metadata": {},
     "output_type": "display_data"
    },
    {
     "data": {
      "text/html": [
       "<pre style=\"white-space:pre;overflow-x:auto;line-height:normal;font-family:Menlo,'DejaVu Sans Mono',consolas,'Courier New',monospace\"><span style=\"color: #008080; text-decoration-color: #008080; font-weight: bold\">🚀 Crew: crew</span>\n",
       "└── <span style=\"color: #008000; text-decoration-color: #008000; font-weight: bold\">📋 Task: 5552636b-2eca-4ed6-b797-e7ca2000865e</span>\n",
       "    <span style=\"color: #c0c0c0; text-decoration-color: #c0c0c0\">   Assigned to: </span><span style=\"color: #008000; text-decoration-color: #008000\">Technology Researcher</span>\n",
       "    <span style=\"color: #c0c0c0; text-decoration-color: #c0c0c0\">   Status: </span><span style=\"color: #008000; text-decoration-color: #008000; font-weight: bold\">✅ Completed</span>\n",
       "    └── <span style=\"color: #008000; text-decoration-color: #008000; font-weight: bold\">🤖 Agent: </span><span style=\"color: #008000; text-decoration-color: #008000\">Technology Researcher</span>\n",
       "        <span style=\"color: #c0c0c0; text-decoration-color: #c0c0c0\">    Status: </span><span style=\"color: #008000; text-decoration-color: #008000; font-weight: bold\">✅ Completed</span>\n",
       "</pre>\n"
      ],
      "text/plain": [
       "\u001b[1;36m🚀 Crew: \u001b[0m\u001b[1;36mcrew\u001b[0m\n",
       "└── \u001b[1;32m📋 Task: 5552636b-2eca-4ed6-b797-e7ca2000865e\u001b[0m\n",
       "    \u001b[37m   Assigned to: \u001b[0m\u001b[32mTechnology Researcher\u001b[0m\n",
       "    \u001b[37m   Status: \u001b[0m\u001b[1;32m✅ Completed\u001b[0m\n",
       "    └── \u001b[1;32m🤖 Agent: \u001b[0m\u001b[32mTechnology Researcher\u001b[0m\n",
       "        \u001b[37m    Status: \u001b[0m\u001b[1;32m✅ Completed\u001b[0m\n"
      ]
     },
     "metadata": {},
     "output_type": "display_data"
    },
    {
     "data": {
      "text/html": [
       "<pre style=\"white-space:pre;overflow-x:auto;line-height:normal;font-family:Menlo,'DejaVu Sans Mono',consolas,'Courier New',monospace\"><span style=\"color: #008000; text-decoration-color: #008000\">╭──────────────────────────────────────────────── Task Completion ────────────────────────────────────────────────╮</span>\n",
       "<span style=\"color: #008000; text-decoration-color: #008000\">│</span>                                                                                                                 <span style=\"color: #008000; text-decoration-color: #008000\">│</span>\n",
       "<span style=\"color: #008000; text-decoration-color: #008000\">│</span>  <span style=\"color: #008000; text-decoration-color: #008000; font-weight: bold\">Task Completed</span>                                                                                                 <span style=\"color: #008000; text-decoration-color: #008000\">│</span>\n",
       "<span style=\"color: #008000; text-decoration-color: #008000\">│</span>  <span style=\"color: #c0c0c0; text-decoration-color: #c0c0c0\">Name: </span><span style=\"color: #008000; text-decoration-color: #008000\">5552636b-2eca-4ed6-b797-e7ca2000865e</span>                                                                     <span style=\"color: #008000; text-decoration-color: #008000\">│</span>\n",
       "<span style=\"color: #008000; text-decoration-color: #008000\">│</span>  <span style=\"color: #c0c0c0; text-decoration-color: #c0c0c0\">Agent: </span><span style=\"color: #008000; text-decoration-color: #008000\">Technology Researcher</span>                                                                                   <span style=\"color: #008000; text-decoration-color: #008000\">│</span>\n",
       "<span style=\"color: #008000; text-decoration-color: #008000\">│</span>                                                                                                                 <span style=\"color: #008000; text-decoration-color: #008000\">│</span>\n",
       "<span style=\"color: #008000; text-decoration-color: #008000\">│</span>                                                                                                                 <span style=\"color: #008000; text-decoration-color: #008000\">│</span>\n",
       "<span style=\"color: #008000; text-decoration-color: #008000\">╰─────────────────────────────────────────────────────────────────────────────────────────────────────────────────╯</span>\n",
       "</pre>\n"
      ],
      "text/plain": [
       "\u001b[32m╭─\u001b[0m\u001b[32m───────────────────────────────────────────────\u001b[0m\u001b[32m Task Completion \u001b[0m\u001b[32m───────────────────────────────────────────────\u001b[0m\u001b[32m─╮\u001b[0m\n",
       "\u001b[32m│\u001b[0m                                                                                                                 \u001b[32m│\u001b[0m\n",
       "\u001b[32m│\u001b[0m  \u001b[1;32mTask Completed\u001b[0m                                                                                                 \u001b[32m│\u001b[0m\n",
       "\u001b[32m│\u001b[0m  \u001b[37mName: \u001b[0m\u001b[32m5552636b-2eca-4ed6-b797-e7ca2000865e\u001b[0m                                                                     \u001b[32m│\u001b[0m\n",
       "\u001b[32m│\u001b[0m  \u001b[37mAgent: \u001b[0m\u001b[32mTechnology Researcher\u001b[0m                                                                                   \u001b[32m│\u001b[0m\n",
       "\u001b[32m│\u001b[0m                                                                                                                 \u001b[32m│\u001b[0m\n",
       "\u001b[32m│\u001b[0m                                                                                                                 \u001b[32m│\u001b[0m\n",
       "\u001b[32m╰─────────────────────────────────────────────────────────────────────────────────────────────────────────────────╯\u001b[0m\n"
      ]
     },
     "metadata": {},
     "output_type": "display_data"
    },
    {
     "data": {
      "text/html": [
       "<pre style=\"white-space:pre;overflow-x:auto;line-height:normal;font-family:Menlo,'DejaVu Sans Mono',consolas,'Courier New',monospace\">\n",
       "</pre>\n"
      ],
      "text/plain": [
       "\n"
      ]
     },
     "metadata": {},
     "output_type": "display_data"
    },
    {
     "data": {
      "text/html": [
       "<pre style=\"white-space:pre;overflow-x:auto;line-height:normal;font-family:Menlo,'DejaVu Sans Mono',consolas,'Courier New',monospace\"><span style=\"color: #008080; text-decoration-color: #008080; font-weight: bold\">🚀 Crew: crew</span>\n",
       "├── <span style=\"color: #008000; text-decoration-color: #008000; font-weight: bold\">📋 Task: 5552636b-2eca-4ed6-b797-e7ca2000865e</span>\n",
       "│   <span style=\"color: #c0c0c0; text-decoration-color: #c0c0c0\">   Assigned to: </span><span style=\"color: #008000; text-decoration-color: #008000\">Technology Researcher</span>\n",
       "│   <span style=\"color: #c0c0c0; text-decoration-color: #c0c0c0\">   Status: </span><span style=\"color: #008000; text-decoration-color: #008000; font-weight: bold\">✅ Completed</span>\n",
       "│   └── <span style=\"color: #008000; text-decoration-color: #008000; font-weight: bold\">🤖 Agent: </span><span style=\"color: #008000; text-decoration-color: #008000\">Technology Researcher</span>\n",
       "│       <span style=\"color: #c0c0c0; text-decoration-color: #c0c0c0\">    Status: </span><span style=\"color: #008000; text-decoration-color: #008000; font-weight: bold\">✅ Completed</span>\n",
       "└── <span style=\"color: #808000; text-decoration-color: #808000; font-weight: bold\">📋 Task: 4d364013-5e4a-4cf1-ba9e-3b79d05169fb</span>\n",
       "    <span style=\"color: #c0c0c0; text-decoration-color: #c0c0c0\">   Status: </span><span style=\"color: #bfbf7f; text-decoration-color: #bfbf7f\">Executing Task...</span>\n",
       "</pre>\n"
      ],
      "text/plain": [
       "\u001b[1;36m🚀 Crew: \u001b[0m\u001b[1;36mcrew\u001b[0m\n",
       "├── \u001b[1;32m📋 Task: 5552636b-2eca-4ed6-b797-e7ca2000865e\u001b[0m\n",
       "│   \u001b[37m   Assigned to: \u001b[0m\u001b[32mTechnology Researcher\u001b[0m\n",
       "│   \u001b[37m   Status: \u001b[0m\u001b[1;32m✅ Completed\u001b[0m\n",
       "│   └── \u001b[1;32m🤖 Agent: \u001b[0m\u001b[32mTechnology Researcher\u001b[0m\n",
       "│       \u001b[37m    Status: \u001b[0m\u001b[1;32m✅ Completed\u001b[0m\n",
       "└── \u001b[1;33m📋 Task: 4d364013-5e4a-4cf1-ba9e-3b79d05169fb\u001b[0m\n",
       "    \u001b[37m   Status: \u001b[0m\u001b[2;33mExecuting Task...\u001b[0m\n"
      ]
     },
     "metadata": {},
     "output_type": "display_data"
    },
    {
     "data": {
      "text/html": [
       "<pre style=\"white-space:pre;overflow-x:auto;line-height:normal;font-family:Menlo,'DejaVu Sans Mono',consolas,'Courier New',monospace\">\n",
       "</pre>\n"
      ],
      "text/plain": [
       "\n"
      ]
     },
     "metadata": {},
     "output_type": "display_data"
    },
    {
     "data": {
      "text/html": [
       "<pre style=\"white-space:pre;overflow-x:auto;line-height:normal;font-family:Menlo,'DejaVu Sans Mono',consolas,'Courier New',monospace\"><span style=\"color: #008080; text-decoration-color: #008080; font-weight: bold\">🚀 Crew: crew</span>\n",
       "├── <span style=\"color: #008000; text-decoration-color: #008000; font-weight: bold\">📋 Task: 5552636b-2eca-4ed6-b797-e7ca2000865e</span>\n",
       "│   <span style=\"color: #c0c0c0; text-decoration-color: #c0c0c0\">   Assigned to: </span><span style=\"color: #008000; text-decoration-color: #008000\">Technology Researcher</span>\n",
       "│   <span style=\"color: #c0c0c0; text-decoration-color: #c0c0c0\">   Status: </span><span style=\"color: #008000; text-decoration-color: #008000; font-weight: bold\">✅ Completed</span>\n",
       "│   └── <span style=\"color: #008000; text-decoration-color: #008000; font-weight: bold\">🤖 Agent: </span><span style=\"color: #008000; text-decoration-color: #008000\">Technology Researcher</span>\n",
       "│       <span style=\"color: #c0c0c0; text-decoration-color: #c0c0c0\">    Status: </span><span style=\"color: #008000; text-decoration-color: #008000; font-weight: bold\">✅ Completed</span>\n",
       "└── <span style=\"color: #808000; text-decoration-color: #808000; font-weight: bold\">📋 Task: 4d364013-5e4a-4cf1-ba9e-3b79d05169fb</span>\n",
       "    <span style=\"color: #c0c0c0; text-decoration-color: #c0c0c0\">   Status: </span><span style=\"color: #bfbf7f; text-decoration-color: #bfbf7f\">Executing Task...</span>\n",
       "    └── <span style=\"color: #008000; text-decoration-color: #008000; font-weight: bold\">🤖 Agent: </span><span style=\"color: #008000; text-decoration-color: #008000\">Technology Writer</span>\n",
       "        <span style=\"color: #c0c0c0; text-decoration-color: #c0c0c0\">    Status: </span><span style=\"color: #008000; text-decoration-color: #008000; font-weight: bold\">In Progress</span>\n",
       "</pre>\n"
      ],
      "text/plain": [
       "\u001b[1;36m🚀 Crew: \u001b[0m\u001b[1;36mcrew\u001b[0m\n",
       "├── \u001b[1;32m📋 Task: 5552636b-2eca-4ed6-b797-e7ca2000865e\u001b[0m\n",
       "│   \u001b[37m   Assigned to: \u001b[0m\u001b[32mTechnology Researcher\u001b[0m\n",
       "│   \u001b[37m   Status: \u001b[0m\u001b[1;32m✅ Completed\u001b[0m\n",
       "│   └── \u001b[1;32m🤖 Agent: \u001b[0m\u001b[32mTechnology Researcher\u001b[0m\n",
       "│       \u001b[37m    Status: \u001b[0m\u001b[1;32m✅ Completed\u001b[0m\n",
       "└── \u001b[1;33m📋 Task: 4d364013-5e4a-4cf1-ba9e-3b79d05169fb\u001b[0m\n",
       "    \u001b[37m   Status: \u001b[0m\u001b[2;33mExecuting Task...\u001b[0m\n",
       "    └── \u001b[1;32m🤖 Agent: \u001b[0m\u001b[32mTechnology Writer\u001b[0m\n",
       "        \u001b[37m    Status: \u001b[0m\u001b[1;32mIn Progress\u001b[0m\n"
      ]
     },
     "metadata": {},
     "output_type": "display_data"
    },
    {
     "data": {
      "text/html": [
       "<pre style=\"white-space:pre;overflow-x:auto;line-height:normal;font-family:Menlo,'DejaVu Sans Mono',consolas,'Courier New',monospace\">\n",
       "</pre>\n"
      ],
      "text/plain": [
       "\n"
      ]
     },
     "metadata": {},
     "output_type": "display_data"
    },
    {
     "name": "stdout",
     "output_type": "stream",
     "text": [
      "\u001b[1m\u001b[95m# Agent:\u001b[00m \u001b[1m\u001b[92mTechnology Writer\u001b[00m\n",
      "\u001b[95m## Task:\u001b[00m \u001b[92mUsing the research provided, create a comprehensive report on 'The State of AI Technology in 2024'. The report should cover key developments, applications across industries, and future outlook.\u001b[00m\n"
     ]
    },
    {
     "data": {
      "text/html": [
       "<pre style=\"white-space:pre;overflow-x:auto;line-height:normal;font-family:Menlo,'DejaVu Sans Mono',consolas,'Courier New',monospace\"><span style=\"color: #008080; text-decoration-color: #008080; font-weight: bold\">🚀 Crew: crew</span>\n",
       "├── <span style=\"color: #008000; text-decoration-color: #008000; font-weight: bold\">📋 Task: 5552636b-2eca-4ed6-b797-e7ca2000865e</span>\n",
       "│   <span style=\"color: #c0c0c0; text-decoration-color: #c0c0c0\">   Assigned to: </span><span style=\"color: #008000; text-decoration-color: #008000\">Technology Researcher</span>\n",
       "│   <span style=\"color: #c0c0c0; text-decoration-color: #c0c0c0\">   Status: </span><span style=\"color: #008000; text-decoration-color: #008000; font-weight: bold\">✅ Completed</span>\n",
       "│   └── <span style=\"color: #008000; text-decoration-color: #008000; font-weight: bold\">🤖 Agent: </span><span style=\"color: #008000; text-decoration-color: #008000\">Technology Researcher</span>\n",
       "│       <span style=\"color: #c0c0c0; text-decoration-color: #c0c0c0\">    Status: </span><span style=\"color: #008000; text-decoration-color: #008000; font-weight: bold\">✅ Completed</span>\n",
       "└── <span style=\"color: #808000; text-decoration-color: #808000; font-weight: bold\">📋 Task: 4d364013-5e4a-4cf1-ba9e-3b79d05169fb</span>\n",
       "    <span style=\"color: #c0c0c0; text-decoration-color: #c0c0c0\">   Status: </span><span style=\"color: #bfbf7f; text-decoration-color: #bfbf7f\">Executing Task...</span>\n",
       "    └── <span style=\"color: #008000; text-decoration-color: #008000; font-weight: bold\">🤖 Agent: </span><span style=\"color: #008000; text-decoration-color: #008000\">Technology Writer</span>\n",
       "        <span style=\"color: #c0c0c0; text-decoration-color: #c0c0c0\">    Status: </span><span style=\"color: #008000; text-decoration-color: #008000; font-weight: bold\">In Progress</span>\n",
       "        └── <span style=\"color: #000080; text-decoration-color: #000080; font-weight: bold\">🧠 </span><span style=\"color: #000080; text-decoration-color: #000080\">Thinking...</span>\n",
       "</pre>\n"
      ],
      "text/plain": [
       "\u001b[1;36m🚀 Crew: \u001b[0m\u001b[1;36mcrew\u001b[0m\n",
       "├── \u001b[1;32m📋 Task: 5552636b-2eca-4ed6-b797-e7ca2000865e\u001b[0m\n",
       "│   \u001b[37m   Assigned to: \u001b[0m\u001b[32mTechnology Researcher\u001b[0m\n",
       "│   \u001b[37m   Status: \u001b[0m\u001b[1;32m✅ Completed\u001b[0m\n",
       "│   └── \u001b[1;32m🤖 Agent: \u001b[0m\u001b[32mTechnology Researcher\u001b[0m\n",
       "│       \u001b[37m    Status: \u001b[0m\u001b[1;32m✅ Completed\u001b[0m\n",
       "└── \u001b[1;33m📋 Task: 4d364013-5e4a-4cf1-ba9e-3b79d05169fb\u001b[0m\n",
       "    \u001b[37m   Status: \u001b[0m\u001b[2;33mExecuting Task...\u001b[0m\n",
       "    └── \u001b[1;32m🤖 Agent: \u001b[0m\u001b[32mTechnology Writer\u001b[0m\n",
       "        \u001b[37m    Status: \u001b[0m\u001b[1;32mIn Progress\u001b[0m\n",
       "        └── \u001b[1;34m🧠 \u001b[0m\u001b[34mThinking...\u001b[0m\n"
      ]
     },
     "metadata": {},
     "output_type": "display_data"
    },
    {
     "data": {
      "text/html": [
       "<pre style=\"white-space:pre;overflow-x:auto;line-height:normal;font-family:Menlo,'DejaVu Sans Mono',consolas,'Courier New',monospace\">\n",
       "</pre>\n"
      ],
      "text/plain": [
       "\n"
      ]
     },
     "metadata": {},
     "output_type": "display_data"
    },
    {
     "data": {
      "text/html": [
       "<pre style=\"white-space:pre;overflow-x:auto;line-height:normal;font-family:Menlo,'DejaVu Sans Mono',consolas,'Courier New',monospace\"><span style=\"color: #008080; text-decoration-color: #008080; font-weight: bold\">🚀 Crew: crew</span>\n",
       "├── <span style=\"color: #008000; text-decoration-color: #008000; font-weight: bold\">📋 Task: 5552636b-2eca-4ed6-b797-e7ca2000865e</span>\n",
       "│   <span style=\"color: #c0c0c0; text-decoration-color: #c0c0c0\">   Assigned to: </span><span style=\"color: #008000; text-decoration-color: #008000\">Technology Researcher</span>\n",
       "│   <span style=\"color: #c0c0c0; text-decoration-color: #c0c0c0\">   Status: </span><span style=\"color: #008000; text-decoration-color: #008000; font-weight: bold\">✅ Completed</span>\n",
       "│   └── <span style=\"color: #008000; text-decoration-color: #008000; font-weight: bold\">🤖 Agent: </span><span style=\"color: #008000; text-decoration-color: #008000\">Technology Researcher</span>\n",
       "│       <span style=\"color: #c0c0c0; text-decoration-color: #c0c0c0\">    Status: </span><span style=\"color: #008000; text-decoration-color: #008000; font-weight: bold\">✅ Completed</span>\n",
       "└── <span style=\"color: #808000; text-decoration-color: #808000; font-weight: bold\">📋 Task: 4d364013-5e4a-4cf1-ba9e-3b79d05169fb</span>\n",
       "    <span style=\"color: #c0c0c0; text-decoration-color: #c0c0c0\">   Status: </span><span style=\"color: #bfbf7f; text-decoration-color: #bfbf7f\">Executing Task...</span>\n",
       "    └── <span style=\"color: #008000; text-decoration-color: #008000; font-weight: bold\">🤖 Agent: </span><span style=\"color: #008000; text-decoration-color: #008000\">Technology Writer</span>\n",
       "        <span style=\"color: #c0c0c0; text-decoration-color: #c0c0c0\">    Status: </span><span style=\"color: #008000; text-decoration-color: #008000; font-weight: bold\">In Progress</span>\n",
       "</pre>\n"
      ],
      "text/plain": [
       "\u001b[1;36m🚀 Crew: \u001b[0m\u001b[1;36mcrew\u001b[0m\n",
       "├── \u001b[1;32m📋 Task: 5552636b-2eca-4ed6-b797-e7ca2000865e\u001b[0m\n",
       "│   \u001b[37m   Assigned to: \u001b[0m\u001b[32mTechnology Researcher\u001b[0m\n",
       "│   \u001b[37m   Status: \u001b[0m\u001b[1;32m✅ Completed\u001b[0m\n",
       "│   └── \u001b[1;32m🤖 Agent: \u001b[0m\u001b[32mTechnology Researcher\u001b[0m\n",
       "│       \u001b[37m    Status: \u001b[0m\u001b[1;32m✅ Completed\u001b[0m\n",
       "└── \u001b[1;33m📋 Task: 4d364013-5e4a-4cf1-ba9e-3b79d05169fb\u001b[0m\n",
       "    \u001b[37m   Status: \u001b[0m\u001b[2;33mExecuting Task...\u001b[0m\n",
       "    └── \u001b[1;32m🤖 Agent: \u001b[0m\u001b[32mTechnology Writer\u001b[0m\n",
       "        \u001b[37m    Status: \u001b[0m\u001b[1;32mIn Progress\u001b[0m\n"
      ]
     },
     "metadata": {},
     "output_type": "display_data"
    },
    {
     "data": {
      "text/html": [
       "<pre style=\"white-space:pre;overflow-x:auto;line-height:normal;font-family:Menlo,'DejaVu Sans Mono',consolas,'Courier New',monospace\">\n",
       "</pre>\n"
      ],
      "text/plain": [
       "\n"
      ]
     },
     "metadata": {},
     "output_type": "display_data"
    },
    {
     "name": "stdout",
     "output_type": "stream",
     "text": [
      "\n",
      "\n",
      "\u001b[1m\u001b[95m# Agent:\u001b[00m \u001b[1m\u001b[92mTechnology Writer\u001b[00m\n",
      "\u001b[95m## Final Answer:\u001b[00m \u001b[92m\n",
      "## The State of AI Technology in 2024: A Rapidly Evolving Landscape\n",
      "\n",
      "Artificial Intelligence is experiencing a period of unprecedented growth and transformation in 2024, driven by breakthroughs in generative AI and a broadening range of applications across industries. This report outlines the key developments, current applications, and future outlook shaping this dynamic field.\n",
      "\n",
      "**Key Developments & Trends:**\n",
      "\n",
      "* **Dominance of Generative AI Models:** Models like GPT-4, Gemini, and Claude 3 remain at the forefront, showcasing remarkable abilities in generating text, images, code, and even video. Architectural innovations like Mixture of Experts (MoE) and Reinforcement Learning from Human Feedback (RLHF) are continually refining these models. Retrieval-Augmented Generation (RAG) is increasingly utilized to enhance accuracy and knowledge integration, addressing limitations in the models’ inherent knowledge.\n",
      "* **Multimodal AI Ascendancy:** AI systems are no longer confined to single modalities. The ability to process and generate content across text, images, audio, and video is becoming increasingly sophisticated, leading to applications like automated video editing, advanced visual question answering, and improved image search capabilities.\n",
      "* **Edge AI & TinyML Expansion:** TinyML – machine learning on microcontrollers – is facilitating AI deployment in resource-constrained environments. This enables AI applications in smart sensors, wearable devices, and IoT devices, opening up new possibilities for real-time data analysis and control.\n",
      "* **Neuro-Symbolic AI Emergence:** A significant trend is the combination of neural networks with symbolic AI. This approach aims to create more robust, reliable, and explainable AI systems by leveraging the strengths of both paradigms.\n",
      "* **Rapidly Expanding Practical Applications:** AI is fundamentally changing numerous industries:\n",
      "    * **Healthcare:** AI is revolutionizing drug discovery, accelerating medical imaging analysis, and enabling personalized medicine.\n",
      "    * **Finance:** Fraud detection, algorithmic trading, and sophisticated risk management are being enhanced by AI.\n",
      "    * **Manufacturing:** AI is optimizing production processes, improving quality control, and enabling predictive maintenance.\n",
      "    * **Retail:** Personalized recommendations, automated checkout systems, and supply chain optimization are becoming commonplace.\n",
      "    * **Automotive:** Self-driving car technology continues to advance, with a focus on achieving higher levels of autonomy.\n",
      "    * **Customer Service:** Generative AI is powering advanced chatbots and virtual assistants, providing more natural and effective customer interactions.\n",
      "\n",
      "**Looking Ahead: Future Trends & Developments:**\n",
      "\n",
      "* **The Pursuit of Artificial General Intelligence (AGI):** While AGI remains a long-term goal, research continues to intensify, exploring the potential for AI systems with human-level intelligence.\n",
      "* **Foundation Models as a Service:** The trend of offering access to large, pre-trained AI models via APIs is accelerating, lowering the barrier to entry for developers and enabling wider adoption.\n",
      "* **AI Hardware Acceleration:** Specialized AI chips (GPUs, TPUs, NPUs) are becoming increasingly powerful and efficient, driving down the cost and energy consumption of AI processing.\n",
      "* **Explainable AI (XAI) Demand Growth:**  As AI becomes more integrated into critical applications, the demand for XAI – systems that can explain their decisions – is rising, particularly in regulated industries where transparency and accountability are paramount.\n",
      "* **Synthetic Data Generation:**  Concerns about data privacy are fueling the growth of synthetic data – artificially generated data – which is increasingly used to train AI models without relying on sensitive real-world data.\n",
      "* **Quantum AI – A Distant Horizon:** Research into quantum AI – leveraging the power of quantum computers to accelerate AI algorithms – is still in its early stages, but holds immense potential for future advancements.\n",
      "* **Decentralized AI – Emerging Technologies:** Blockchain-based AI systems are beginning to emerge, offering the potential for secure and transparent data sharing and model training.\n",
      "\n",
      "**Conclusion:**\n",
      "\n",
      "The state of AI technology in 2024 is characterized by rapid innovation, expanding applications, and a growing ecosystem of tools and services. The convergence of generative AI with other advancements promises to reshape industries and drive further technological progress.  Continued research and development efforts are focused on creating more powerful, efficient, and accessible AI systems, ultimately pushing the boundaries of what’s possible and transforming the world around us.\u001b[00m\n",
      "\n",
      "\n"
     ]
    },
    {
     "data": {
      "text/html": [
       "<pre style=\"white-space:pre;overflow-x:auto;line-height:normal;font-family:Menlo,'DejaVu Sans Mono',consolas,'Courier New',monospace\"><span style=\"color: #008080; text-decoration-color: #008080; font-weight: bold\">🚀 Crew: crew</span>\n",
       "├── <span style=\"color: #008000; text-decoration-color: #008000; font-weight: bold\">📋 Task: 5552636b-2eca-4ed6-b797-e7ca2000865e</span>\n",
       "│   <span style=\"color: #c0c0c0; text-decoration-color: #c0c0c0\">   Assigned to: </span><span style=\"color: #008000; text-decoration-color: #008000\">Technology Researcher</span>\n",
       "│   <span style=\"color: #c0c0c0; text-decoration-color: #c0c0c0\">   Status: </span><span style=\"color: #008000; text-decoration-color: #008000; font-weight: bold\">✅ Completed</span>\n",
       "│   └── <span style=\"color: #008000; text-decoration-color: #008000; font-weight: bold\">🤖 Agent: </span><span style=\"color: #008000; text-decoration-color: #008000\">Technology Researcher</span>\n",
       "│       <span style=\"color: #c0c0c0; text-decoration-color: #c0c0c0\">    Status: </span><span style=\"color: #008000; text-decoration-color: #008000; font-weight: bold\">✅ Completed</span>\n",
       "└── <span style=\"color: #808000; text-decoration-color: #808000; font-weight: bold\">📋 Task: 4d364013-5e4a-4cf1-ba9e-3b79d05169fb</span>\n",
       "    <span style=\"color: #c0c0c0; text-decoration-color: #c0c0c0\">   Status: </span><span style=\"color: #bfbf7f; text-decoration-color: #bfbf7f\">Executing Task...</span>\n",
       "    └── <span style=\"color: #008000; text-decoration-color: #008000; font-weight: bold\">🤖 Agent: </span><span style=\"color: #008000; text-decoration-color: #008000\">Technology Writer</span>\n",
       "        <span style=\"color: #c0c0c0; text-decoration-color: #c0c0c0\">    Status: </span><span style=\"color: #008000; text-decoration-color: #008000; font-weight: bold\">✅ Completed</span>\n",
       "</pre>\n"
      ],
      "text/plain": [
       "\u001b[1;36m🚀 Crew: \u001b[0m\u001b[1;36mcrew\u001b[0m\n",
       "├── \u001b[1;32m📋 Task: 5552636b-2eca-4ed6-b797-e7ca2000865e\u001b[0m\n",
       "│   \u001b[37m   Assigned to: \u001b[0m\u001b[32mTechnology Researcher\u001b[0m\n",
       "│   \u001b[37m   Status: \u001b[0m\u001b[1;32m✅ Completed\u001b[0m\n",
       "│   └── \u001b[1;32m🤖 Agent: \u001b[0m\u001b[32mTechnology Researcher\u001b[0m\n",
       "│       \u001b[37m    Status: \u001b[0m\u001b[1;32m✅ Completed\u001b[0m\n",
       "└── \u001b[1;33m📋 Task: 4d364013-5e4a-4cf1-ba9e-3b79d05169fb\u001b[0m\n",
       "    \u001b[37m   Status: \u001b[0m\u001b[2;33mExecuting Task...\u001b[0m\n",
       "    └── \u001b[1;32m🤖 Agent: \u001b[0m\u001b[32mTechnology Writer\u001b[0m\n",
       "        \u001b[37m    Status: \u001b[0m\u001b[1;32m✅ Completed\u001b[0m\n"
      ]
     },
     "metadata": {},
     "output_type": "display_data"
    },
    {
     "data": {
      "text/html": [
       "<pre style=\"white-space:pre;overflow-x:auto;line-height:normal;font-family:Menlo,'DejaVu Sans Mono',consolas,'Courier New',monospace\">\n",
       "</pre>\n"
      ],
      "text/plain": [
       "\n"
      ]
     },
     "metadata": {},
     "output_type": "display_data"
    },
    {
     "data": {
      "text/html": [
       "<pre style=\"white-space:pre;overflow-x:auto;line-height:normal;font-family:Menlo,'DejaVu Sans Mono',consolas,'Courier New',monospace\"><span style=\"color: #008080; text-decoration-color: #008080; font-weight: bold\">🚀 Crew: crew</span>\n",
       "├── <span style=\"color: #008000; text-decoration-color: #008000; font-weight: bold\">📋 Task: 5552636b-2eca-4ed6-b797-e7ca2000865e</span>\n",
       "│   <span style=\"color: #c0c0c0; text-decoration-color: #c0c0c0\">   Assigned to: </span><span style=\"color: #008000; text-decoration-color: #008000\">Technology Researcher</span>\n",
       "│   <span style=\"color: #c0c0c0; text-decoration-color: #c0c0c0\">   Status: </span><span style=\"color: #008000; text-decoration-color: #008000; font-weight: bold\">✅ Completed</span>\n",
       "│   └── <span style=\"color: #008000; text-decoration-color: #008000; font-weight: bold\">🤖 Agent: </span><span style=\"color: #008000; text-decoration-color: #008000\">Technology Researcher</span>\n",
       "│       <span style=\"color: #c0c0c0; text-decoration-color: #c0c0c0\">    Status: </span><span style=\"color: #008000; text-decoration-color: #008000; font-weight: bold\">✅ Completed</span>\n",
       "└── <span style=\"color: #008000; text-decoration-color: #008000; font-weight: bold\">📋 Task: 4d364013-5e4a-4cf1-ba9e-3b79d05169fb</span>\n",
       "    <span style=\"color: #c0c0c0; text-decoration-color: #c0c0c0\">   Assigned to: </span><span style=\"color: #008000; text-decoration-color: #008000\">Technology Writer</span>\n",
       "    <span style=\"color: #c0c0c0; text-decoration-color: #c0c0c0\">   Status: </span><span style=\"color: #008000; text-decoration-color: #008000; font-weight: bold\">✅ Completed</span>\n",
       "    └── <span style=\"color: #008000; text-decoration-color: #008000; font-weight: bold\">🤖 Agent: </span><span style=\"color: #008000; text-decoration-color: #008000\">Technology Writer</span>\n",
       "        <span style=\"color: #c0c0c0; text-decoration-color: #c0c0c0\">    Status: </span><span style=\"color: #008000; text-decoration-color: #008000; font-weight: bold\">✅ Completed</span>\n",
       "</pre>\n"
      ],
      "text/plain": [
       "\u001b[1;36m🚀 Crew: \u001b[0m\u001b[1;36mcrew\u001b[0m\n",
       "├── \u001b[1;32m📋 Task: 5552636b-2eca-4ed6-b797-e7ca2000865e\u001b[0m\n",
       "│   \u001b[37m   Assigned to: \u001b[0m\u001b[32mTechnology Researcher\u001b[0m\n",
       "│   \u001b[37m   Status: \u001b[0m\u001b[1;32m✅ Completed\u001b[0m\n",
       "│   └── \u001b[1;32m🤖 Agent: \u001b[0m\u001b[32mTechnology Researcher\u001b[0m\n",
       "│       \u001b[37m    Status: \u001b[0m\u001b[1;32m✅ Completed\u001b[0m\n",
       "└── \u001b[1;32m📋 Task: 4d364013-5e4a-4cf1-ba9e-3b79d05169fb\u001b[0m\n",
       "    \u001b[37m   Assigned to: \u001b[0m\u001b[32mTechnology Writer\u001b[0m\n",
       "    \u001b[37m   Status: \u001b[0m\u001b[1;32m✅ Completed\u001b[0m\n",
       "    └── \u001b[1;32m🤖 Agent: \u001b[0m\u001b[32mTechnology Writer\u001b[0m\n",
       "        \u001b[37m    Status: \u001b[0m\u001b[1;32m✅ Completed\u001b[0m\n"
      ]
     },
     "metadata": {},
     "output_type": "display_data"
    },
    {
     "data": {
      "text/html": [
       "<pre style=\"white-space:pre;overflow-x:auto;line-height:normal;font-family:Menlo,'DejaVu Sans Mono',consolas,'Courier New',monospace\"><span style=\"color: #008000; text-decoration-color: #008000\">╭──────────────────────────────────────────────── Task Completion ────────────────────────────────────────────────╮</span>\n",
       "<span style=\"color: #008000; text-decoration-color: #008000\">│</span>                                                                                                                 <span style=\"color: #008000; text-decoration-color: #008000\">│</span>\n",
       "<span style=\"color: #008000; text-decoration-color: #008000\">│</span>  <span style=\"color: #008000; text-decoration-color: #008000; font-weight: bold\">Task Completed</span>                                                                                                 <span style=\"color: #008000; text-decoration-color: #008000\">│</span>\n",
       "<span style=\"color: #008000; text-decoration-color: #008000\">│</span>  <span style=\"color: #c0c0c0; text-decoration-color: #c0c0c0\">Name: </span><span style=\"color: #008000; text-decoration-color: #008000\">4d364013-5e4a-4cf1-ba9e-3b79d05169fb</span>                                                                     <span style=\"color: #008000; text-decoration-color: #008000\">│</span>\n",
       "<span style=\"color: #008000; text-decoration-color: #008000\">│</span>  <span style=\"color: #c0c0c0; text-decoration-color: #c0c0c0\">Agent: </span><span style=\"color: #008000; text-decoration-color: #008000\">Technology Writer</span>                                                                                       <span style=\"color: #008000; text-decoration-color: #008000\">│</span>\n",
       "<span style=\"color: #008000; text-decoration-color: #008000\">│</span>                                                                                                                 <span style=\"color: #008000; text-decoration-color: #008000\">│</span>\n",
       "<span style=\"color: #008000; text-decoration-color: #008000\">│</span>                                                                                                                 <span style=\"color: #008000; text-decoration-color: #008000\">│</span>\n",
       "<span style=\"color: #008000; text-decoration-color: #008000\">╰─────────────────────────────────────────────────────────────────────────────────────────────────────────────────╯</span>\n",
       "</pre>\n"
      ],
      "text/plain": [
       "\u001b[32m╭─\u001b[0m\u001b[32m───────────────────────────────────────────────\u001b[0m\u001b[32m Task Completion \u001b[0m\u001b[32m───────────────────────────────────────────────\u001b[0m\u001b[32m─╮\u001b[0m\n",
       "\u001b[32m│\u001b[0m                                                                                                                 \u001b[32m│\u001b[0m\n",
       "\u001b[32m│\u001b[0m  \u001b[1;32mTask Completed\u001b[0m                                                                                                 \u001b[32m│\u001b[0m\n",
       "\u001b[32m│\u001b[0m  \u001b[37mName: \u001b[0m\u001b[32m4d364013-5e4a-4cf1-ba9e-3b79d05169fb\u001b[0m                                                                     \u001b[32m│\u001b[0m\n",
       "\u001b[32m│\u001b[0m  \u001b[37mAgent: \u001b[0m\u001b[32mTechnology Writer\u001b[0m                                                                                       \u001b[32m│\u001b[0m\n",
       "\u001b[32m│\u001b[0m                                                                                                                 \u001b[32m│\u001b[0m\n",
       "\u001b[32m│\u001b[0m                                                                                                                 \u001b[32m│\u001b[0m\n",
       "\u001b[32m╰─────────────────────────────────────────────────────────────────────────────────────────────────────────────────╯\u001b[0m\n"
      ]
     },
     "metadata": {},
     "output_type": "display_data"
    },
    {
     "data": {
      "text/html": [
       "<pre style=\"white-space:pre;overflow-x:auto;line-height:normal;font-family:Menlo,'DejaVu Sans Mono',consolas,'Courier New',monospace\">\n",
       "</pre>\n"
      ],
      "text/plain": [
       "\n"
      ]
     },
     "metadata": {},
     "output_type": "display_data"
    },
    {
     "data": {
      "text/html": [
       "<pre style=\"white-space:pre;overflow-x:auto;line-height:normal;font-family:Menlo,'DejaVu Sans Mono',consolas,'Courier New',monospace\"><span style=\"color: #008000; text-decoration-color: #008000\">╭──────────────────────────────────────────────── Crew Completion ────────────────────────────────────────────────╮</span>\n",
       "<span style=\"color: #008000; text-decoration-color: #008000\">│</span>                                                                                                                 <span style=\"color: #008000; text-decoration-color: #008000\">│</span>\n",
       "<span style=\"color: #008000; text-decoration-color: #008000\">│</span>  <span style=\"color: #008000; text-decoration-color: #008000; font-weight: bold\">Crew Execution Completed</span>                                                                                       <span style=\"color: #008000; text-decoration-color: #008000\">│</span>\n",
       "<span style=\"color: #008000; text-decoration-color: #008000\">│</span>  <span style=\"color: #c0c0c0; text-decoration-color: #c0c0c0\">Name: </span><span style=\"color: #008000; text-decoration-color: #008000\">crew</span>                                                                                                     <span style=\"color: #008000; text-decoration-color: #008000\">│</span>\n",
       "<span style=\"color: #008000; text-decoration-color: #008000\">│</span>  <span style=\"color: #c0c0c0; text-decoration-color: #c0c0c0\">ID: </span><span style=\"color: #008000; text-decoration-color: #008000\">79c7fcc1-7cf7-4bb5-868f-f021e5b16a06</span>                                                                       <span style=\"color: #008000; text-decoration-color: #008000\">│</span>\n",
       "<span style=\"color: #008000; text-decoration-color: #008000\">│</span>                                                                                                                 <span style=\"color: #008000; text-decoration-color: #008000\">│</span>\n",
       "<span style=\"color: #008000; text-decoration-color: #008000\">│</span>                                                                                                                 <span style=\"color: #008000; text-decoration-color: #008000\">│</span>\n",
       "<span style=\"color: #008000; text-decoration-color: #008000\">╰─────────────────────────────────────────────────────────────────────────────────────────────────────────────────╯</span>\n",
       "</pre>\n"
      ],
      "text/plain": [
       "\u001b[32m╭─\u001b[0m\u001b[32m───────────────────────────────────────────────\u001b[0m\u001b[32m Crew Completion \u001b[0m\u001b[32m───────────────────────────────────────────────\u001b[0m\u001b[32m─╮\u001b[0m\n",
       "\u001b[32m│\u001b[0m                                                                                                                 \u001b[32m│\u001b[0m\n",
       "\u001b[32m│\u001b[0m  \u001b[1;32mCrew Execution Completed\u001b[0m                                                                                       \u001b[32m│\u001b[0m\n",
       "\u001b[32m│\u001b[0m  \u001b[37mName: \u001b[0m\u001b[32mcrew\u001b[0m                                                                                                     \u001b[32m│\u001b[0m\n",
       "\u001b[32m│\u001b[0m  \u001b[37mID: \u001b[0m\u001b[32m79c7fcc1-7cf7-4bb5-868f-f021e5b16a06\u001b[0m                                                                       \u001b[32m│\u001b[0m\n",
       "\u001b[32m│\u001b[0m                                                                                                                 \u001b[32m│\u001b[0m\n",
       "\u001b[32m│\u001b[0m                                                                                                                 \u001b[32m│\u001b[0m\n",
       "\u001b[32m╰─────────────────────────────────────────────────────────────────────────────────────────────────────────────────╯\u001b[0m\n"
      ]
     },
     "metadata": {},
     "output_type": "display_data"
    },
    {
     "data": {
      "text/html": [
       "<pre style=\"white-space:pre;overflow-x:auto;line-height:normal;font-family:Menlo,'DejaVu Sans Mono',consolas,'Courier New',monospace\">\n",
       "</pre>\n"
      ],
      "text/plain": [
       "\n"
      ]
     },
     "metadata": {},
     "output_type": "display_data"
    },
    {
     "name": "stdout",
     "output_type": "stream",
     "text": [
      "\n",
      "----- Final Report -----\n",
      "\n",
      "## The State of AI Technology in 2024: A Rapidly Evolving Landscape\n",
      "\n",
      "Artificial Intelligence is experiencing a period of unprecedented growth and transformation in 2024, driven by breakthroughs in generative AI and a broadening range of applications across industries. This report outlines the key developments, current applications, and future outlook shaping this dynamic field.\n",
      "\n",
      "**Key Developments & Trends:**\n",
      "\n",
      "* **Dominance of Generative AI Models:** Models like GPT-4, Gemini, and Claude 3 remain at the forefront, showcasing remarkable abilities in generating text, images, code, and even video. Architectural innovations like Mixture of Experts (MoE) and Reinforcement Learning from Human Feedback (RLHF) are continually refining these models. Retrieval-Augmented Generation (RAG) is increasingly utilized to enhance accuracy and knowledge integration, addressing limitations in the models’ inherent knowledge.\n",
      "* **Multimodal AI Ascendancy:** AI systems are no longer confined to single modalities. The ability to process and generate content across text, images, audio, and video is becoming increasingly sophisticated, leading to applications like automated video editing, advanced visual question answering, and improved image search capabilities.\n",
      "* **Edge AI & TinyML Expansion:** TinyML – machine learning on microcontrollers – is facilitating AI deployment in resource-constrained environments. This enables AI applications in smart sensors, wearable devices, and IoT devices, opening up new possibilities for real-time data analysis and control.\n",
      "* **Neuro-Symbolic AI Emergence:** A significant trend is the combination of neural networks with symbolic AI. This approach aims to create more robust, reliable, and explainable AI systems by leveraging the strengths of both paradigms.\n",
      "* **Rapidly Expanding Practical Applications:** AI is fundamentally changing numerous industries:\n",
      "    * **Healthcare:** AI is revolutionizing drug discovery, accelerating medical imaging analysis, and enabling personalized medicine.\n",
      "    * **Finance:** Fraud detection, algorithmic trading, and sophisticated risk management are being enhanced by AI.\n",
      "    * **Manufacturing:** AI is optimizing production processes, improving quality control, and enabling predictive maintenance.\n",
      "    * **Retail:** Personalized recommendations, automated checkout systems, and supply chain optimization are becoming commonplace.\n",
      "    * **Automotive:** Self-driving car technology continues to advance, with a focus on achieving higher levels of autonomy.\n",
      "    * **Customer Service:** Generative AI is powering advanced chatbots and virtual assistants, providing more natural and effective customer interactions.\n",
      "\n",
      "**Looking Ahead: Future Trends & Developments:**\n",
      "\n",
      "* **The Pursuit of Artificial General Intelligence (AGI):** While AGI remains a long-term goal, research continues to intensify, exploring the potential for AI systems with human-level intelligence.\n",
      "* **Foundation Models as a Service:** The trend of offering access to large, pre-trained AI models via APIs is accelerating, lowering the barrier to entry for developers and enabling wider adoption.\n",
      "* **AI Hardware Acceleration:** Specialized AI chips (GPUs, TPUs, NPUs) are becoming increasingly powerful and efficient, driving down the cost and energy consumption of AI processing.\n",
      "* **Explainable AI (XAI) Demand Growth:**  As AI becomes more integrated into critical applications, the demand for XAI – systems that can explain their decisions – is rising, particularly in regulated industries where transparency and accountability are paramount.\n",
      "* **Synthetic Data Generation:**  Concerns about data privacy are fueling the growth of synthetic data – artificially generated data – which is increasingly used to train AI models without relying on sensitive real-world data.\n",
      "* **Quantum AI – A Distant Horizon:** Research into quantum AI – leveraging the power of quantum computers to accelerate AI algorithms – is still in its early stages, but holds immense potential for future advancements.\n",
      "* **Decentralized AI – Emerging Technologies:** Blockchain-based AI systems are beginning to emerge, offering the potential for secure and transparent data sharing and model training.\n",
      "\n",
      "**Conclusion:**\n",
      "\n",
      "The state of AI technology in 2024 is characterized by rapid innovation, expanding applications, and a growing ecosystem of tools and services. The convergence of generative AI with other advancements promises to reshape industries and drive further technological progress.  Continued research and development efforts are focused on creating more powerful, efficient, and accessible AI systems, ultimately pushing the boundaries of what’s possible and transforming the world around us.\n"
     ]
    }
   ],
   "source": [
    "# Define our LLM\n",
    "llm = LLM(model=\"ollama/gemma3:4b\")\n",
    "\n",
    "# Create agents\n",
    "tech_researcher = Agent(\n",
    "    role=\"Technology Researcher\",\n",
    "    goal=\"Research cutting-edge AI technologies and their applications\",\n",
    "    backstory=\"You are a technology analyst with expertise in AI and emerging technologies. You stay up-to-date with the latest developments in the field.\",\n",
    "    verbose=True,\n",
    "    llm=llm\n",
    ")\n",
    "\n",
    "tech_writer = Agent(\n",
    "    role=\"Technology Writer\",\n",
    "    goal=\"Create clear and engaging reports on complex technology topics\",\n",
    "    backstory=\"You are a skilled technology writer who excels at explaining complex concepts in simple terms. Your articles are both informative and engaging.\",\n",
    "    verbose=True,\n",
    "    llm=llm\n",
    ")\n",
    "\n",
    "# Create tasks\n",
    "research_task = Task(\n",
    "    description=\"Research the latest developments in artificial intelligence. Focus on recent breakthroughs, practical applications, and future trends.\",\n",
    "    expected_output=\"A detailed summary of recent AI developments, applications, and trends.\",\n",
    "    agent=tech_researcher\n",
    ")\n",
    "\n",
    "report_task = Task(\n",
    "    description=\"Using the research provided, create a comprehensive report on 'The State of AI Technology in 2024'. The report should cover key developments, applications across industries, and future outlook.\",\n",
    "    expected_output=\"A well-structured, informative report on AI technology that covers recent developments, current applications, and future trends.\",\n",
    "    agent=tech_writer\n",
    ")\n",
    "\n",
    "# Create the crew\n",
    "tech_report_crew = Crew(\n",
    "    agents=[tech_researcher, tech_writer],\n",
    "    tasks=[research_task, report_task],\n",
    "    verbose=True,\n",
    "    process=Process.sequential\n",
    ")\n",
    "\n",
    "# Run the crew\n",
    "print(\"Running the AI Technology Report Crew...\")\n",
    "result = tech_report_crew.kickoff()\n",
    "\n",
    "print(\"\\n----- Final Report -----\\n\")\n",
    "print(result)"
   ]
  },
  {
   "cell_type": "markdown",
   "id": "5941ff0a",
   "metadata": {},
   "source": [
    "## Memory and State Management in CrewAI\n",
    "\n",
    "CrewAI allows agents to maintain memory across tasks, which is useful for context preservation and more complex interactions:"
   ]
  },
  {
   "cell_type": "code",
   "execution_count": 9,
   "id": "f416402b",
   "metadata": {},
   "outputs": [
    {
     "name": "stdout",
     "output_type": "stream",
     "text": [
      "Created a crew with memory enabled\n"
     ]
    }
   ],
   "source": [
    "# Create agents with memory enabled\n",
    "researcher_with_memory = Agent(\n",
    "    role=\"Research Specialist\",\n",
    "    goal=\"Conduct in-depth research on specified topics\",\n",
    "    backstory=\"You are a meticulous researcher with a strong analytical mind. You excel at finding connections between different pieces of information.\",\n",
    "    verbose=True,\n",
    "    llm=llm\n",
    ")\n",
    "\n",
    "writer_with_memory = Agent(\n",
    "    role=\"Content Specialist\",\n",
    "    goal=\"Create engaging content based on research findings\",\n",
    "    backstory=\"You are a versatile writer who can adapt to different tones and styles. You excel at turning research into compelling narratives.\",\n",
    "    verbose=True,\n",
    "    llm=llm\n",
    ")\n",
    "\n",
    "# Create tasks for a two-part project\n",
    "initial_research_task = Task(\n",
    "    description=\"Research the history and evolution of artificial intelligence from its inception to the present day.\",\n",
    "    expected_output=\"A chronological summary of AI development, highlighting key milestones and breakthroughs.\",\n",
    "    agent=researcher_with_memory\n",
    ")\n",
    "\n",
    "follow_up_research_task = Task(\n",
    "    description=\"Building on your previous research, investigate the potential future developments in AI over the next decade.\",\n",
    "    expected_output=\"A summary of projected AI developments, based on current trends and expert predictions.\",\n",
    "    agent=researcher_with_memory\n",
    ")\n",
    "\n",
    "writing_task = Task(\n",
    "    description=\"Using the research on AI history and future projections, write a comprehensive article titled 'AI: Past, Present, and Future'.\",\n",
    "    expected_output=\"A well-structured article that covers the evolution of AI and its potential future developments.\",\n",
    "    agent=writer_with_memory\n",
    ")\n",
    "\n",
    "# Create a crew with memory enabled\n",
    "memory_crew = Crew(\n",
    "    agents=[researcher_with_memory, writer_with_memory],\n",
    "    tasks=[initial_research_task, follow_up_research_task, writing_task],\n",
    "    verbose=True,\n",
    "    process=Process.sequential,\n",
    "    memory=True  # Enable memory for the crew\n",
    ")\n",
    "\n",
    "print(\"Created a crew with memory enabled\")"
   ]
  },
  {
   "cell_type": "markdown",
   "id": "9649a532",
   "metadata": {},
   "source": [
    "## Example of Custom Tool Integration\n",
    "\n",
    "Here's how to create and use a custom tool with CrewAI:"
   ]
  },
  {
   "cell_type": "code",
   "execution_count": 10,
   "id": "29bed87d",
   "metadata": {},
   "outputs": [
    {
     "name": "stdout",
     "output_type": "stream",
     "text": [
      "Created a crew with a custom tool\n"
     ]
    }
   ],
   "source": [
    "from crewai.tools import BaseTool\n",
    "from pydantic import BaseModel, Field\n",
    "from typing import Type\n",
    "\n",
    "# Define the input schema for our tool\n",
    "class SummarizeTextInput(BaseModel):\n",
    "    \"\"\"Input schema for SummarizeTextTool.\"\"\"\n",
    "    text: str = Field(..., description=\"The text to be summarized.\")\n",
    "    max_length: int = Field(100, description=\"Maximum length of the summary in words.\")\n",
    "\n",
    "# Create a custom summarization tool\n",
    "class SummarizeTextTool(BaseTool):\n",
    "    name: str = \"Summarize Text\"\n",
    "    description: str = \"Summarizes a given text to a specified maximum length.\"\n",
    "    args_schema: Type[BaseModel] = SummarizeTextInput\n",
    "\n",
    "    def _run(self, text: str, max_length: int = 100) -> str:\n",
    "        \"\"\"Summarize the input text.\"\"\"\n",
    "        # In a real implementation, you might use an NLP library or API\n",
    "        # For this example, we'll use a simple approach\n",
    "        words = text.split()\n",
    "        if len(words) <= max_length:\n",
    "            return text\n",
    "        \n",
    "        return ' '.join(words[:max_length]) + '...'\n",
    "\n",
    "# Create an agent with the custom tool\n",
    "editor_agent = Agent(\n",
    "    role=\"Content Editor\",\n",
    "    goal=\"Edit and refine content to improve clarity and conciseness\",\n",
    "    backstory=\"You are an experienced editor with a keen eye for detail. You excel at refining text to make it clearer and more engaging.\",\n",
    "    verbose=True,\n",
    "    llm=llm,\n",
    "    tools=[SummarizeTextTool()]\n",
    ")\n",
    "\n",
    "# Create a task for the editor agent\n",
    "editing_task = Task(\n",
    "    description=\"Review and edit the following text to make it more concise while preserving the key information:\\n\\n'Artificial Intelligence (AI) refers to the simulation of human intelligence in machines that are programmed to think and learn like humans. The term may also be applied to any machine that exhibits traits associated with a human mind such as learning and problem-solving. The ideal characteristic of artificial intelligence is its ability to rationalize and take actions that have the best chance of achieving a specific goal. AI has various applications across industries, including healthcare, finance, education, transportation, and entertainment. Recent advances in machine learning, particularly deep learning, have led to significant improvements in AI capabilities. However, the development of AI also raises ethical concerns and challenges related to privacy, security, and the potential impact on employment.'\",\n",
    "    expected_output=\"A concise, edited version of the text that preserves the key information.\",\n",
    "    agent=editor_agent\n",
    ")\n",
    "\n",
    "# Create a crew with the editor agent\n",
    "editing_crew = Crew(\n",
    "    agents=[editor_agent],\n",
    "    tasks=[editing_task],\n",
    "    verbose=True,\n",
    "    process=Process.sequential\n",
    ")\n",
    "\n",
    "print(\"Created a crew with a custom tool\")"
   ]
  },
  {
   "cell_type": "markdown",
   "id": "6ba074da",
   "metadata": {},
   "source": [
    "## Conclusion\n",
    "\n",
    "In this notebook, we've explored the core concepts of CrewAI:\n",
    "\n",
    "1. **Agents**: The autonomous entities with specific roles, goals, and backstories.\n",
    "2. **Tasks**: The specific actions assigned to agents.\n",
    "3. **Crews**: Teams of agents working together to complete tasks.\n",
    "4. **Processes**: Different ways to orchestrate task execution (Sequential and Hierarchical).\n",
    "5. **Tools**: Extending agent capabilities with specific functionalities.\n",
    "6. **Memory**: Maintaining context across tasks.\n",
    "\n",
    "CrewAI provides a powerful framework for orchestrating AI agents to collaborate on complex tasks. By combining agents with different roles and expertise, you can create AI teams capable of tackling sophisticated problems.\n",
    "\n",
    "In the next notebook, we'll explore how to build a book writer system using CrewAI's Crew and Flow functionalities."
   ]
  }
 ],
 "metadata": {
  "jupytext": {
   "cell_metadata_filter": "-all",
   "main_language": "python",
   "notebook_metadata_filter": "-all"
  },
  "kernelspec": {
   "display_name": "getting-started-llmops",
   "language": "python",
   "name": "getting-started-llmops"
  },
  "language_info": {
   "codemirror_mode": {
    "name": "ipython",
    "version": 3
   },
   "file_extension": ".py",
   "mimetype": "text/x-python",
   "name": "python",
   "nbconvert_exporter": "python",
   "pygments_lexer": "ipython3",
   "version": "3.11.8"
  }
 },
 "nbformat": 4,
 "nbformat_minor": 5
}
