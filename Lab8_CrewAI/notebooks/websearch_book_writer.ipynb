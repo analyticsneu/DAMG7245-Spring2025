{
 "cells": [
  {
   "cell_type": "markdown",
   "id": "5edd6cc5",
   "metadata": {},
   "source": [
    "# Building a Book Writer with Web Research Capabilities\n",
    "\n",
    "This notebook demonstrates how to create a system that researches a topic using web search, creates an outline, and then writes a book based on the gathered information. We'll use the SerperDevTool to perform internet searches and ensure our content is well-researched and factually accurate.\n",
    "\n",
    "## Introduction\n",
    "\n",
    "When creating informational content, having access to the latest information is crucial. By integrating web search capabilities, we can create an AI system that:\n",
    "\n",
    "1. Researches any topic using real-time internet searches\n",
    "2. Creates a structured outline based on that research\n",
    "3. Writes informative content incorporating the gathered information\n",
    "4. Saves the completed book to the filesystem\n",
    "\n",
    "This approach ensures our content is factual, up-to-date, and well-sourced.\n",
    "\n",
    "## Setting Up the Environment\n",
    "\n",
    "First, let's install the necessary packages:"
   ]
  },
  {
   "cell_type": "code",
   "execution_count": 13,
   "id": "85daee58",
   "metadata": {},
   "outputs": [
    {
     "name": "stderr",
     "output_type": "stream",
     "text": [
      "python(5789) MallocStackLogging: can't turn off malloc stack logging because it was not enabled.\n"
     ]
    },
    {
     "name": "stdout",
     "output_type": "stream",
     "text": [
      "Requirement already satisfied: crewai in /opt/anaconda3/envs/getting_started_llmops/lib/python3.11/site-packages (0.108.0)\n",
      "Requirement already satisfied: crewai-tools in /opt/anaconda3/envs/getting_started_llmops/lib/python3.11/site-packages (0.38.1)\n",
      "Requirement already satisfied: appdirs>=1.4.4 in /opt/anaconda3/envs/getting_started_llmops/lib/python3.11/site-packages (from crewai) (1.4.4)\n",
      "Requirement already satisfied: auth0-python>=4.7.1 in /opt/anaconda3/envs/getting_started_llmops/lib/python3.11/site-packages (from crewai) (4.8.1)\n",
      "Requirement already satisfied: blinker>=1.9.0 in /opt/anaconda3/envs/getting_started_llmops/lib/python3.11/site-packages (from crewai) (1.9.0)\n",
      "Requirement already satisfied: chromadb>=0.5.23 in /opt/anaconda3/envs/getting_started_llmops/lib/python3.11/site-packages (from crewai) (0.5.23)\n",
      "Requirement already satisfied: click>=8.1.7 in /opt/anaconda3/envs/getting_started_llmops/lib/python3.11/site-packages (from crewai) (8.1.8)\n",
      "Requirement already satisfied: instructor>=1.3.3 in /opt/anaconda3/envs/getting_started_llmops/lib/python3.11/site-packages (from crewai) (1.7.7)\n",
      "Requirement already satisfied: json-repair>=0.25.2 in /opt/anaconda3/envs/getting_started_llmops/lib/python3.11/site-packages (from crewai) (0.40.0)\n",
      "Requirement already satisfied: json5>=0.10.0 in /opt/anaconda3/envs/getting_started_llmops/lib/python3.11/site-packages (from crewai) (0.10.0)\n",
      "Requirement already satisfied: jsonref>=1.1.0 in /opt/anaconda3/envs/getting_started_llmops/lib/python3.11/site-packages (from crewai) (1.1.0)\n",
      "Requirement already satisfied: litellm==1.60.2 in /opt/anaconda3/envs/getting_started_llmops/lib/python3.11/site-packages (from crewai) (1.60.2)\n",
      "Requirement already satisfied: openai>=1.13.3 in /opt/anaconda3/envs/getting_started_llmops/lib/python3.11/site-packages (from crewai) (1.68.2)\n",
      "Requirement already satisfied: openpyxl>=3.1.5 in /opt/anaconda3/envs/getting_started_llmops/lib/python3.11/site-packages (from crewai) (3.1.5)\n",
      "Requirement already satisfied: opentelemetry-api>=1.22.0 in /opt/anaconda3/envs/getting_started_llmops/lib/python3.11/site-packages (from crewai) (1.31.1)\n",
      "Requirement already satisfied: opentelemetry-exporter-otlp-proto-http>=1.22.0 in /opt/anaconda3/envs/getting_started_llmops/lib/python3.11/site-packages (from crewai) (1.31.1)\n",
      "Requirement already satisfied: opentelemetry-sdk>=1.22.0 in /opt/anaconda3/envs/getting_started_llmops/lib/python3.11/site-packages (from crewai) (1.31.1)\n",
      "Requirement already satisfied: pdfplumber>=0.11.4 in /opt/anaconda3/envs/getting_started_llmops/lib/python3.11/site-packages (from crewai) (0.11.5)\n",
      "Requirement already satisfied: pydantic>=2.4.2 in /opt/anaconda3/envs/getting_started_llmops/lib/python3.11/site-packages (from crewai) (2.10.6)\n",
      "Requirement already satisfied: python-dotenv>=1.0.0 in /opt/anaconda3/envs/getting_started_llmops/lib/python3.11/site-packages (from crewai) (1.0.1)\n",
      "Requirement already satisfied: pyvis>=0.3.2 in /opt/anaconda3/envs/getting_started_llmops/lib/python3.11/site-packages (from crewai) (0.3.2)\n",
      "Requirement already satisfied: regex>=2024.9.11 in /opt/anaconda3/envs/getting_started_llmops/lib/python3.11/site-packages (from crewai) (2024.11.6)\n",
      "Requirement already satisfied: tomli-w>=1.1.0 in /opt/anaconda3/envs/getting_started_llmops/lib/python3.11/site-packages (from crewai) (1.2.0)\n",
      "Requirement already satisfied: tomli>=2.0.2 in /opt/anaconda3/envs/getting_started_llmops/lib/python3.11/site-packages (from crewai) (2.2.1)\n",
      "Requirement already satisfied: uv>=0.4.25 in /opt/anaconda3/envs/getting_started_llmops/lib/python3.11/site-packages (from crewai) (0.6.9)\n",
      "Requirement already satisfied: aiohttp in /opt/anaconda3/envs/getting_started_llmops/lib/python3.11/site-packages (from litellm==1.60.2->crewai) (3.10.11)\n",
      "Requirement already satisfied: httpx<0.28.0,>=0.23.0 in /opt/anaconda3/envs/getting_started_llmops/lib/python3.11/site-packages (from litellm==1.60.2->crewai) (0.27.2)\n",
      "Requirement already satisfied: importlib-metadata>=6.8.0 in /opt/anaconda3/envs/getting_started_llmops/lib/python3.11/site-packages (from litellm==1.60.2->crewai) (8.5.0)\n",
      "Requirement already satisfied: jinja2<4.0.0,>=3.1.2 in /opt/anaconda3/envs/getting_started_llmops/lib/python3.11/site-packages (from litellm==1.60.2->crewai) (3.1.4)\n",
      "Requirement already satisfied: jsonschema<5.0.0,>=4.22.0 in /opt/anaconda3/envs/getting_started_llmops/lib/python3.11/site-packages (from litellm==1.60.2->crewai) (4.23.0)\n",
      "Requirement already satisfied: tiktoken>=0.7.0 in /opt/anaconda3/envs/getting_started_llmops/lib/python3.11/site-packages (from litellm==1.60.2->crewai) (0.7.0)\n",
      "Requirement already satisfied: tokenizers in /opt/anaconda3/envs/getting_started_llmops/lib/python3.11/site-packages (from litellm==1.60.2->crewai) (0.21.1)\n",
      "Requirement already satisfied: docker>=7.1.0 in /opt/anaconda3/envs/getting_started_llmops/lib/python3.11/site-packages (from crewai-tools) (7.1.0)\n",
      "Requirement already satisfied: embedchain>=0.1.114 in /opt/anaconda3/envs/getting_started_llmops/lib/python3.11/site-packages (from crewai-tools) (0.1.127)\n",
      "Requirement already satisfied: lancedb>=0.5.4 in /opt/anaconda3/envs/getting_started_llmops/lib/python3.11/site-packages (from crewai-tools) (0.21.1)\n",
      "Requirement already satisfied: pyright>=1.1.350 in /opt/anaconda3/envs/getting_started_llmops/lib/python3.11/site-packages (from crewai-tools) (1.1.397)\n",
      "Requirement already satisfied: pytube>=15.0.0 in /opt/anaconda3/envs/getting_started_llmops/lib/python3.11/site-packages (from crewai-tools) (15.0.0)\n",
      "Requirement already satisfied: requests>=2.31.0 in /opt/anaconda3/envs/getting_started_llmops/lib/python3.11/site-packages (from crewai-tools) (2.32.3)\n",
      "Requirement already satisfied: cryptography>=43.0.1 in /opt/anaconda3/envs/getting_started_llmops/lib/python3.11/site-packages (from auth0-python>=4.7.1->crewai) (43.0.3)\n",
      "Requirement already satisfied: pyjwt>=2.8.0 in /opt/anaconda3/envs/getting_started_llmops/lib/python3.11/site-packages (from auth0-python>=4.7.1->crewai) (2.9.0)\n",
      "Requirement already satisfied: urllib3>=2.2.3 in /opt/anaconda3/envs/getting_started_llmops/lib/python3.11/site-packages (from auth0-python>=4.7.1->crewai) (2.3.0)\n",
      "Requirement already satisfied: build>=1.0.3 in /opt/anaconda3/envs/getting_started_llmops/lib/python3.11/site-packages (from chromadb>=0.5.23->crewai) (1.2.2.post1)\n",
      "Requirement already satisfied: chroma-hnswlib==0.7.6 in /opt/anaconda3/envs/getting_started_llmops/lib/python3.11/site-packages (from chromadb>=0.5.23->crewai) (0.7.6)\n",
      "Requirement already satisfied: fastapi>=0.95.2 in /opt/anaconda3/envs/getting_started_llmops/lib/python3.11/site-packages (from chromadb>=0.5.23->crewai) (0.115.6)\n",
      "Requirement already satisfied: uvicorn>=0.18.3 in /opt/anaconda3/envs/getting_started_llmops/lib/python3.11/site-packages (from uvicorn[standard]>=0.18.3->chromadb>=0.5.23->crewai) (0.34.0)\n",
      "Requirement already satisfied: numpy>=1.22.5 in /opt/anaconda3/envs/getting_started_llmops/lib/python3.11/site-packages (from chromadb>=0.5.23->crewai) (1.26.4)\n",
      "Requirement already satisfied: posthog>=2.4.0 in /opt/anaconda3/envs/getting_started_llmops/lib/python3.11/site-packages (from chromadb>=0.5.23->crewai) (3.21.0)\n",
      "Requirement already satisfied: typing_extensions>=4.5.0 in /opt/anaconda3/envs/getting_started_llmops/lib/python3.11/site-packages (from chromadb>=0.5.23->crewai) (4.12.2)\n",
      "Requirement already satisfied: onnxruntime>=1.14.1 in /opt/anaconda3/envs/getting_started_llmops/lib/python3.11/site-packages (from chromadb>=0.5.23->crewai) (1.21.0)\n",
      "Requirement already satisfied: opentelemetry-exporter-otlp-proto-grpc>=1.2.0 in /opt/anaconda3/envs/getting_started_llmops/lib/python3.11/site-packages (from chromadb>=0.5.23->crewai) (1.31.1)\n",
      "Requirement already satisfied: opentelemetry-instrumentation-fastapi>=0.41b0 in /opt/anaconda3/envs/getting_started_llmops/lib/python3.11/site-packages (from chromadb>=0.5.23->crewai) (0.52b1)\n",
      "Collecting tokenizers (from litellm==1.60.2->crewai)\n",
      "  Downloading tokenizers-0.20.3-cp311-cp311-macosx_11_0_arm64.whl.metadata (6.7 kB)\n",
      "Requirement already satisfied: pypika>=0.48.9 in /opt/anaconda3/envs/getting_started_llmops/lib/python3.11/site-packages (from chromadb>=0.5.23->crewai) (0.48.9)\n",
      "Requirement already satisfied: tqdm>=4.65.0 in /opt/anaconda3/envs/getting_started_llmops/lib/python3.11/site-packages (from chromadb>=0.5.23->crewai) (4.67.1)\n",
      "Requirement already satisfied: overrides>=7.3.1 in /opt/anaconda3/envs/getting_started_llmops/lib/python3.11/site-packages (from chromadb>=0.5.23->crewai) (7.4.0)\n",
      "Requirement already satisfied: importlib-resources in /opt/anaconda3/envs/getting_started_llmops/lib/python3.11/site-packages (from chromadb>=0.5.23->crewai) (6.4.0)\n",
      "Requirement already satisfied: grpcio>=1.58.0 in /opt/anaconda3/envs/getting_started_llmops/lib/python3.11/site-packages (from chromadb>=0.5.23->crewai) (1.71.0)\n",
      "Requirement already satisfied: bcrypt>=4.0.1 in /opt/anaconda3/envs/getting_started_llmops/lib/python3.11/site-packages (from chromadb>=0.5.23->crewai) (4.3.0)\n",
      "Requirement already satisfied: typer>=0.9.0 in /opt/anaconda3/envs/getting_started_llmops/lib/python3.11/site-packages (from chromadb>=0.5.23->crewai) (0.12.5)\n",
      "Requirement already satisfied: kubernetes>=28.1.0 in /opt/anaconda3/envs/getting_started_llmops/lib/python3.11/site-packages (from chromadb>=0.5.23->crewai) (32.0.1)\n",
      "Requirement already satisfied: tenacity>=8.2.3 in /opt/anaconda3/envs/getting_started_llmops/lib/python3.11/site-packages (from chromadb>=0.5.23->crewai) (9.0.0)\n",
      "Requirement already satisfied: PyYAML>=6.0.0 in /opt/anaconda3/envs/getting_started_llmops/lib/python3.11/site-packages (from chromadb>=0.5.23->crewai) (6.0.2)\n",
      "Requirement already satisfied: mmh3>=4.0.1 in /opt/anaconda3/envs/getting_started_llmops/lib/python3.11/site-packages (from chromadb>=0.5.23->crewai) (5.1.0)\n",
      "Requirement already satisfied: orjson>=3.9.12 in /opt/anaconda3/envs/getting_started_llmops/lib/python3.11/site-packages (from chromadb>=0.5.23->crewai) (3.10.14)\n",
      "Requirement already satisfied: rich>=10.11.0 in /opt/anaconda3/envs/getting_started_llmops/lib/python3.11/site-packages (from chromadb>=0.5.23->crewai) (13.9.4)\n",
      "Requirement already satisfied: alembic<2.0.0,>=1.13.1 in /opt/anaconda3/envs/getting_started_llmops/lib/python3.11/site-packages (from embedchain>=0.1.114->crewai-tools) (1.14.1)\n",
      "Requirement already satisfied: beautifulsoup4<5.0.0,>=4.12.2 in /opt/anaconda3/envs/getting_started_llmops/lib/python3.11/site-packages (from embedchain>=0.1.114->crewai-tools) (4.13.3)\n",
      "Requirement already satisfied: cohere<6.0,>=5.3 in /opt/anaconda3/envs/getting_started_llmops/lib/python3.11/site-packages (from embedchain>=0.1.114->crewai-tools) (5.14.0)\n",
      "Requirement already satisfied: google-cloud-aiplatform<2.0.0,>=1.26.1 in /opt/anaconda3/envs/getting_started_llmops/lib/python3.11/site-packages (from embedchain>=0.1.114->crewai-tools) (1.85.0)\n",
      "Requirement already satisfied: gptcache<0.2.0,>=0.1.43 in /opt/anaconda3/envs/getting_started_llmops/lib/python3.11/site-packages (from embedchain>=0.1.114->crewai-tools) (0.1.44)\n",
      "Requirement already satisfied: langchain<0.4.0,>=0.3.1 in /opt/anaconda3/envs/getting_started_llmops/lib/python3.11/site-packages (from embedchain>=0.1.114->crewai-tools) (0.3.21)\n",
      "Requirement already satisfied: langchain-cohere<0.4.0,>=0.3.0 in /opt/anaconda3/envs/getting_started_llmops/lib/python3.11/site-packages (from embedchain>=0.1.114->crewai-tools) (0.3.5)\n",
      "Requirement already satisfied: langchain-community<0.4.0,>=0.3.1 in /opt/anaconda3/envs/getting_started_llmops/lib/python3.11/site-packages (from embedchain>=0.1.114->crewai-tools) (0.3.20)\n",
      "Requirement already satisfied: langchain-openai<0.3.0,>=0.2.1 in /opt/anaconda3/envs/getting_started_llmops/lib/python3.11/site-packages (from embedchain>=0.1.114->crewai-tools) (0.2.14)\n",
      "Requirement already satisfied: langsmith<0.2.0,>=0.1.17 in /opt/anaconda3/envs/getting_started_llmops/lib/python3.11/site-packages (from embedchain>=0.1.114->crewai-tools) (0.1.147)\n",
      "Requirement already satisfied: mem0ai<0.2.0,>=0.1.54 in /opt/anaconda3/envs/getting_started_llmops/lib/python3.11/site-packages (from embedchain>=0.1.114->crewai-tools) (0.1.74)\n",
      "Requirement already satisfied: pypdf<6.0.0,>=5.0.0 in /opt/anaconda3/envs/getting_started_llmops/lib/python3.11/site-packages (from embedchain>=0.1.114->crewai-tools) (5.1.0)\n",
      "Requirement already satisfied: pysbd<0.4.0,>=0.3.4 in /opt/anaconda3/envs/getting_started_llmops/lib/python3.11/site-packages (from embedchain>=0.1.114->crewai-tools) (0.3.4)\n",
      "Requirement already satisfied: schema<0.8.0,>=0.7.5 in /opt/anaconda3/envs/getting_started_llmops/lib/python3.11/site-packages (from embedchain>=0.1.114->crewai-tools) (0.7.7)\n",
      "Requirement already satisfied: sqlalchemy<3.0.0,>=2.0.27 in /opt/anaconda3/envs/getting_started_llmops/lib/python3.11/site-packages (from embedchain>=0.1.114->crewai-tools) (2.0.37)\n",
      "Requirement already satisfied: docstring-parser<1.0,>=0.16 in /opt/anaconda3/envs/getting_started_llmops/lib/python3.11/site-packages (from instructor>=1.3.3->crewai) (0.16)\n",
      "Requirement already satisfied: jiter<0.9,>=0.6.1 in /opt/anaconda3/envs/getting_started_llmops/lib/python3.11/site-packages (from instructor>=1.3.3->crewai) (0.8.2)\n",
      "Requirement already satisfied: pydantic-core<3.0.0,>=2.18.0 in /opt/anaconda3/envs/getting_started_llmops/lib/python3.11/site-packages (from instructor>=1.3.3->crewai) (2.27.2)\n",
      "Requirement already satisfied: deprecation in /opt/anaconda3/envs/getting_started_llmops/lib/python3.11/site-packages (from lancedb>=0.5.4->crewai-tools) (2.1.0)\n",
      "Requirement already satisfied: pyarrow>=14 in /opt/anaconda3/envs/getting_started_llmops/lib/python3.11/site-packages (from lancedb>=0.5.4->crewai-tools) (17.0.0)\n",
      "Requirement already satisfied: packaging in /opt/anaconda3/envs/getting_started_llmops/lib/python3.11/site-packages (from lancedb>=0.5.4->crewai-tools) (24.2)\n",
      "Requirement already satisfied: pylance>=0.23.2 in /opt/anaconda3/envs/getting_started_llmops/lib/python3.11/site-packages (from lancedb>=0.5.4->crewai-tools) (0.24.1)\n",
      "Requirement already satisfied: anyio<5,>=3.5.0 in /opt/anaconda3/envs/getting_started_llmops/lib/python3.11/site-packages (from openai>=1.13.3->crewai) (4.9.0)\n",
      "Requirement already satisfied: distro<2,>=1.7.0 in /opt/anaconda3/envs/getting_started_llmops/lib/python3.11/site-packages (from openai>=1.13.3->crewai) (1.9.0)\n",
      "Requirement already satisfied: sniffio in /opt/anaconda3/envs/getting_started_llmops/lib/python3.11/site-packages (from openai>=1.13.3->crewai) (1.3.0)\n",
      "Requirement already satisfied: et-xmlfile in /opt/anaconda3/envs/getting_started_llmops/lib/python3.11/site-packages (from openpyxl>=3.1.5->crewai) (2.0.0)\n",
      "Requirement already satisfied: deprecated>=1.2.6 in /opt/anaconda3/envs/getting_started_llmops/lib/python3.11/site-packages (from opentelemetry-api>=1.22.0->crewai) (1.2.15)\n",
      "Requirement already satisfied: googleapis-common-protos~=1.52 in /opt/anaconda3/envs/getting_started_llmops/lib/python3.11/site-packages (from opentelemetry-exporter-otlp-proto-http>=1.22.0->crewai) (1.69.2)\n",
      "Requirement already satisfied: opentelemetry-exporter-otlp-proto-common==1.31.1 in /opt/anaconda3/envs/getting_started_llmops/lib/python3.11/site-packages (from opentelemetry-exporter-otlp-proto-http>=1.22.0->crewai) (1.31.1)\n",
      "Requirement already satisfied: opentelemetry-proto==1.31.1 in /opt/anaconda3/envs/getting_started_llmops/lib/python3.11/site-packages (from opentelemetry-exporter-otlp-proto-http>=1.22.0->crewai) (1.31.1)\n",
      "Requirement already satisfied: protobuf<6.0,>=5.0 in /opt/anaconda3/envs/getting_started_llmops/lib/python3.11/site-packages (from opentelemetry-proto==1.31.1->opentelemetry-exporter-otlp-proto-http>=1.22.0->crewai) (5.29.3)\n",
      "Requirement already satisfied: opentelemetry-semantic-conventions==0.52b1 in /opt/anaconda3/envs/getting_started_llmops/lib/python3.11/site-packages (from opentelemetry-sdk>=1.22.0->crewai) (0.52b1)\n",
      "Requirement already satisfied: pdfminer.six==20231228 in /opt/anaconda3/envs/getting_started_llmops/lib/python3.11/site-packages (from pdfplumber>=0.11.4->crewai) (20231228)\n",
      "Requirement already satisfied: Pillow>=9.1 in /opt/anaconda3/envs/getting_started_llmops/lib/python3.11/site-packages (from pdfplumber>=0.11.4->crewai) (10.4.0)\n",
      "Requirement already satisfied: pypdfium2>=4.18.0 in /opt/anaconda3/envs/getting_started_llmops/lib/python3.11/site-packages (from pdfplumber>=0.11.4->crewai) (4.30.1)\n",
      "Requirement already satisfied: charset-normalizer>=2.0.0 in /opt/anaconda3/envs/getting_started_llmops/lib/python3.11/site-packages (from pdfminer.six==20231228->pdfplumber>=0.11.4->crewai) (3.3.2)\n",
      "Requirement already satisfied: annotated-types>=0.6.0 in /opt/anaconda3/envs/getting_started_llmops/lib/python3.11/site-packages (from pydantic>=2.4.2->crewai) (0.6.0)\n",
      "Requirement already satisfied: nodeenv>=1.6.0 in /opt/anaconda3/envs/getting_started_llmops/lib/python3.11/site-packages (from pyright>=1.1.350->crewai-tools) (1.9.1)\n",
      "Requirement already satisfied: ipython>=5.3.0 in /opt/anaconda3/envs/getting_started_llmops/lib/python3.11/site-packages (from pyvis>=0.3.2->crewai) (8.30.0)\n",
      "Requirement already satisfied: jsonpickle>=1.4.1 in /opt/anaconda3/envs/getting_started_llmops/lib/python3.11/site-packages (from pyvis>=0.3.2->crewai) (4.0.2)\n",
      "Requirement already satisfied: networkx>=1.11 in /opt/anaconda3/envs/getting_started_llmops/lib/python3.11/site-packages (from pyvis>=0.3.2->crewai) (3.4.2)\n",
      "Requirement already satisfied: idna<4,>=2.5 in /opt/anaconda3/envs/getting_started_llmops/lib/python3.11/site-packages (from requests>=2.31.0->crewai-tools) (3.7)\n",
      "Requirement already satisfied: certifi>=2017.4.17 in /opt/anaconda3/envs/getting_started_llmops/lib/python3.11/site-packages (from requests>=2.31.0->crewai-tools) (2025.1.31)\n",
      "Requirement already satisfied: aiohappyeyeballs>=2.3.0 in /opt/anaconda3/envs/getting_started_llmops/lib/python3.11/site-packages (from aiohttp->litellm==1.60.2->crewai) (2.4.4)\n",
      "Requirement already satisfied: aiosignal>=1.1.2 in /opt/anaconda3/envs/getting_started_llmops/lib/python3.11/site-packages (from aiohttp->litellm==1.60.2->crewai) (1.2.0)\n",
      "Requirement already satisfied: attrs>=17.3.0 in /opt/anaconda3/envs/getting_started_llmops/lib/python3.11/site-packages (from aiohttp->litellm==1.60.2->crewai) (24.3.0)\n",
      "Requirement already satisfied: frozenlist>=1.1.1 in /opt/anaconda3/envs/getting_started_llmops/lib/python3.11/site-packages (from aiohttp->litellm==1.60.2->crewai) (1.5.0)\n",
      "Requirement already satisfied: multidict<7.0,>=4.5 in /opt/anaconda3/envs/getting_started_llmops/lib/python3.11/site-packages (from aiohttp->litellm==1.60.2->crewai) (6.1.0)\n",
      "Requirement already satisfied: yarl<2.0,>=1.12.0 in /opt/anaconda3/envs/getting_started_llmops/lib/python3.11/site-packages (from aiohttp->litellm==1.60.2->crewai) (1.18.0)\n",
      "Requirement already satisfied: Mako in /opt/anaconda3/envs/getting_started_llmops/lib/python3.11/site-packages (from alembic<2.0.0,>=1.13.1->embedchain>=0.1.114->crewai-tools) (1.3.8)\n",
      "Requirement already satisfied: soupsieve>1.2 in /opt/anaconda3/envs/getting_started_llmops/lib/python3.11/site-packages (from beautifulsoup4<5.0.0,>=4.12.2->embedchain>=0.1.114->crewai-tools) (2.5)\n",
      "Requirement already satisfied: pyproject_hooks in /opt/anaconda3/envs/getting_started_llmops/lib/python3.11/site-packages (from build>=1.0.3->chromadb>=0.5.23->crewai) (1.2.0)\n",
      "Requirement already satisfied: fastavro<2.0.0,>=1.9.4 in /opt/anaconda3/envs/getting_started_llmops/lib/python3.11/site-packages (from cohere<6.0,>=5.3->embedchain>=0.1.114->crewai-tools) (1.10.0)\n",
      "Requirement already satisfied: httpx-sse==0.4.0 in /opt/anaconda3/envs/getting_started_llmops/lib/python3.11/site-packages (from cohere<6.0,>=5.3->embedchain>=0.1.114->crewai-tools) (0.4.0)\n",
      "Requirement already satisfied: types-requests<3.0.0,>=2.0.0 in /opt/anaconda3/envs/getting_started_llmops/lib/python3.11/site-packages (from cohere<6.0,>=5.3->embedchain>=0.1.114->crewai-tools) (2.32.0.20250306)\n",
      "Requirement already satisfied: cffi>=1.12 in /opt/anaconda3/envs/getting_started_llmops/lib/python3.11/site-packages (from cryptography>=43.0.1->auth0-python>=4.7.1->crewai) (1.17.1)\n",
      "Requirement already satisfied: wrapt<2,>=1.10 in /opt/anaconda3/envs/getting_started_llmops/lib/python3.11/site-packages (from deprecated>=1.2.6->opentelemetry-api>=1.22.0->crewai) (1.14.1)\n",
      "Requirement already satisfied: starlette<0.42.0,>=0.40.0 in /opt/anaconda3/envs/getting_started_llmops/lib/python3.11/site-packages (from fastapi>=0.95.2->chromadb>=0.5.23->crewai) (0.41.3)\n",
      "Requirement already satisfied: google-api-core!=2.0.*,!=2.1.*,!=2.2.*,!=2.3.*,!=2.4.*,!=2.5.*,!=2.6.*,!=2.7.*,<3.0.0,>=1.34.1 in /opt/anaconda3/envs/getting_started_llmops/lib/python3.11/site-packages (from google-api-core[grpc]!=2.0.*,!=2.1.*,!=2.2.*,!=2.3.*,!=2.4.*,!=2.5.*,!=2.6.*,!=2.7.*,<3.0.0,>=1.34.1->google-cloud-aiplatform<2.0.0,>=1.26.1->embedchain>=0.1.114->crewai-tools) (2.24.2)\n",
      "Requirement already satisfied: google-auth<3.0.0,>=2.14.1 in /opt/anaconda3/envs/getting_started_llmops/lib/python3.11/site-packages (from google-cloud-aiplatform<2.0.0,>=1.26.1->embedchain>=0.1.114->crewai-tools) (2.38.0)\n",
      "Requirement already satisfied: proto-plus<2.0.0,>=1.22.3 in /opt/anaconda3/envs/getting_started_llmops/lib/python3.11/site-packages (from google-cloud-aiplatform<2.0.0,>=1.26.1->embedchain>=0.1.114->crewai-tools) (1.26.1)\n",
      "Requirement already satisfied: google-cloud-storage<3.0.0,>=1.32.0 in /opt/anaconda3/envs/getting_started_llmops/lib/python3.11/site-packages (from google-cloud-aiplatform<2.0.0,>=1.26.1->embedchain>=0.1.114->crewai-tools) (2.19.0)\n",
      "Requirement already satisfied: google-cloud-bigquery!=3.20.0,<4.0.0,>=1.15.0 in /opt/anaconda3/envs/getting_started_llmops/lib/python3.11/site-packages (from google-cloud-aiplatform<2.0.0,>=1.26.1->embedchain>=0.1.114->crewai-tools) (3.30.0)\n",
      "Requirement already satisfied: google-cloud-resource-manager<3.0.0,>=1.3.3 in /opt/anaconda3/envs/getting_started_llmops/lib/python3.11/site-packages (from google-cloud-aiplatform<2.0.0,>=1.26.1->embedchain>=0.1.114->crewai-tools) (1.14.2)\n",
      "Requirement already satisfied: shapely<3.0.0 in /opt/anaconda3/envs/getting_started_llmops/lib/python3.11/site-packages (from google-cloud-aiplatform<2.0.0,>=1.26.1->embedchain>=0.1.114->crewai-tools) (2.0.7)\n",
      "Requirement already satisfied: cachetools in /opt/anaconda3/envs/getting_started_llmops/lib/python3.11/site-packages (from gptcache<0.2.0,>=0.1.43->embedchain>=0.1.114->crewai-tools) (5.3.3)\n",
      "Requirement already satisfied: httpcore==1.* in /opt/anaconda3/envs/getting_started_llmops/lib/python3.11/site-packages (from httpx<0.28.0,>=0.23.0->litellm==1.60.2->crewai) (1.0.2)\n",
      "Requirement already satisfied: h11<0.15,>=0.13 in /opt/anaconda3/envs/getting_started_llmops/lib/python3.11/site-packages (from httpcore==1.*->httpx<0.28.0,>=0.23.0->litellm==1.60.2->crewai) (0.14.0)\n",
      "Requirement already satisfied: zipp>=3.20 in /opt/anaconda3/envs/getting_started_llmops/lib/python3.11/site-packages (from importlib-metadata>=6.8.0->litellm==1.60.2->crewai) (3.21.0)\n",
      "Requirement already satisfied: decorator in /opt/anaconda3/envs/getting_started_llmops/lib/python3.11/site-packages (from ipython>=5.3.0->pyvis>=0.3.2->crewai) (5.1.1)\n",
      "Requirement already satisfied: jedi>=0.16 in /opt/anaconda3/envs/getting_started_llmops/lib/python3.11/site-packages (from ipython>=5.3.0->pyvis>=0.3.2->crewai) (0.19.2)\n",
      "Requirement already satisfied: matplotlib-inline in /opt/anaconda3/envs/getting_started_llmops/lib/python3.11/site-packages (from ipython>=5.3.0->pyvis>=0.3.2->crewai) (0.1.6)\n",
      "Requirement already satisfied: prompt-toolkit<3.1.0,>=3.0.41 in /opt/anaconda3/envs/getting_started_llmops/lib/python3.11/site-packages (from ipython>=5.3.0->pyvis>=0.3.2->crewai) (3.0.43)\n",
      "Requirement already satisfied: pygments>=2.4.0 in /opt/anaconda3/envs/getting_started_llmops/lib/python3.11/site-packages (from ipython>=5.3.0->pyvis>=0.3.2->crewai) (2.15.1)\n",
      "Requirement already satisfied: stack-data in /opt/anaconda3/envs/getting_started_llmops/lib/python3.11/site-packages (from ipython>=5.3.0->pyvis>=0.3.2->crewai) (0.2.0)\n",
      "Requirement already satisfied: traitlets>=5.13.0 in /opt/anaconda3/envs/getting_started_llmops/lib/python3.11/site-packages (from ipython>=5.3.0->pyvis>=0.3.2->crewai) (5.14.3)\n",
      "Requirement already satisfied: pexpect>4.3 in /opt/anaconda3/envs/getting_started_llmops/lib/python3.11/site-packages (from ipython>=5.3.0->pyvis>=0.3.2->crewai) (4.8.0)\n",
      "Requirement already satisfied: MarkupSafe>=2.0 in /opt/anaconda3/envs/getting_started_llmops/lib/python3.11/site-packages (from jinja2<4.0.0,>=3.1.2->litellm==1.60.2->crewai) (2.1.3)\n",
      "Requirement already satisfied: jsonschema-specifications>=2023.03.6 in /opt/anaconda3/envs/getting_started_llmops/lib/python3.11/site-packages (from jsonschema<5.0.0,>=4.22.0->litellm==1.60.2->crewai) (2023.7.1)\n",
      "Requirement already satisfied: referencing>=0.28.4 in /opt/anaconda3/envs/getting_started_llmops/lib/python3.11/site-packages (from jsonschema<5.0.0,>=4.22.0->litellm==1.60.2->crewai) (0.30.2)\n",
      "Requirement already satisfied: rpds-py>=0.7.1 in /opt/anaconda3/envs/getting_started_llmops/lib/python3.11/site-packages (from jsonschema<5.0.0,>=4.22.0->litellm==1.60.2->crewai) (0.10.6)\n",
      "Requirement already satisfied: six>=1.9.0 in /opt/anaconda3/envs/getting_started_llmops/lib/python3.11/site-packages (from kubernetes>=28.1.0->chromadb>=0.5.23->crewai) (1.16.0)\n",
      "Requirement already satisfied: python-dateutil>=2.5.3 in /opt/anaconda3/envs/getting_started_llmops/lib/python3.11/site-packages (from kubernetes>=28.1.0->chromadb>=0.5.23->crewai) (2.8.3+snowflake1)\n",
      "Requirement already satisfied: websocket-client!=0.40.0,!=0.41.*,!=0.42.*,>=0.32.0 in /opt/anaconda3/envs/getting_started_llmops/lib/python3.11/site-packages (from kubernetes>=28.1.0->chromadb>=0.5.23->crewai) (1.8.0)\n",
      "Requirement already satisfied: requests-oauthlib in /opt/anaconda3/envs/getting_started_llmops/lib/python3.11/site-packages (from kubernetes>=28.1.0->chromadb>=0.5.23->crewai) (2.0.0)\n",
      "Requirement already satisfied: oauthlib>=3.2.2 in /opt/anaconda3/envs/getting_started_llmops/lib/python3.11/site-packages (from kubernetes>=28.1.0->chromadb>=0.5.23->crewai) (3.2.2)\n",
      "Requirement already satisfied: durationpy>=0.7 in /opt/anaconda3/envs/getting_started_llmops/lib/python3.11/site-packages (from kubernetes>=28.1.0->chromadb>=0.5.23->crewai) (0.9)\n",
      "Requirement already satisfied: langchain-core<1.0.0,>=0.3.45 in /opt/anaconda3/envs/getting_started_llmops/lib/python3.11/site-packages (from langchain<0.4.0,>=0.3.1->embedchain>=0.1.114->crewai-tools) (0.3.47)\n",
      "Requirement already satisfied: langchain-text-splitters<1.0.0,>=0.3.7 in /opt/anaconda3/envs/getting_started_llmops/lib/python3.11/site-packages (from langchain<0.4.0,>=0.3.1->embedchain>=0.1.114->crewai-tools) (0.3.7)\n",
      "Requirement already satisfied: langchain-experimental<0.4.0,>=0.3.0 in /opt/anaconda3/envs/getting_started_llmops/lib/python3.11/site-packages (from langchain-cohere<0.4.0,>=0.3.0->embedchain>=0.1.114->crewai-tools) (0.3.4)\n",
      "Requirement already satisfied: pandas>=1.4.3 in /opt/anaconda3/envs/getting_started_llmops/lib/python3.11/site-packages (from langchain-cohere<0.4.0,>=0.3.0->embedchain>=0.1.114->crewai-tools) (2.2.3)\n",
      "Requirement already satisfied: tabulate<0.10.0,>=0.9.0 in /opt/anaconda3/envs/getting_started_llmops/lib/python3.11/site-packages (from langchain-cohere<0.4.0,>=0.3.0->embedchain>=0.1.114->crewai-tools) (0.9.0)\n",
      "Requirement already satisfied: dataclasses-json<0.7,>=0.5.7 in /opt/anaconda3/envs/getting_started_llmops/lib/python3.11/site-packages (from langchain-community<0.4.0,>=0.3.1->embedchain>=0.1.114->crewai-tools) (0.6.7)\n",
      "Requirement already satisfied: pydantic-settings<3.0.0,>=2.4.0 in /opt/anaconda3/envs/getting_started_llmops/lib/python3.11/site-packages (from langchain-community<0.4.0,>=0.3.1->embedchain>=0.1.114->crewai-tools) (2.6.1)\n",
      "Requirement already satisfied: requests-toolbelt<2.0.0,>=1.0.0 in /opt/anaconda3/envs/getting_started_llmops/lib/python3.11/site-packages (from langsmith<0.2.0,>=0.1.17->embedchain>=0.1.114->crewai-tools) (1.0.0)\n",
      "Requirement already satisfied: azure-search-documents<12.0.0,>=11.5.0 in /opt/anaconda3/envs/getting_started_llmops/lib/python3.11/site-packages (from mem0ai<0.2.0,>=0.1.54->embedchain>=0.1.114->crewai-tools) (11.5.2)\n",
      "Requirement already satisfied: psycopg2-binary<3.0.0,>=2.9.10 in /opt/anaconda3/envs/getting_started_llmops/lib/python3.11/site-packages (from mem0ai<0.2.0,>=0.1.54->embedchain>=0.1.114->crewai-tools) (2.9.10)\n",
      "Requirement already satisfied: pytz<2025.0,>=2024.1 in /opt/anaconda3/envs/getting_started_llmops/lib/python3.11/site-packages (from mem0ai<0.2.0,>=0.1.54->embedchain>=0.1.114->crewai-tools) (2024.1)\n",
      "Requirement already satisfied: qdrant-client<2.0.0,>=1.9.1 in /opt/anaconda3/envs/getting_started_llmops/lib/python3.11/site-packages (from mem0ai<0.2.0,>=0.1.54->embedchain>=0.1.114->crewai-tools) (1.13.3)\n",
      "Requirement already satisfied: coloredlogs in /opt/anaconda3/envs/getting_started_llmops/lib/python3.11/site-packages (from onnxruntime>=1.14.1->chromadb>=0.5.23->crewai) (15.0.1)\n",
      "Requirement already satisfied: flatbuffers in /opt/anaconda3/envs/getting_started_llmops/lib/python3.11/site-packages (from onnxruntime>=1.14.1->chromadb>=0.5.23->crewai) (25.2.10)\n",
      "Requirement already satisfied: sympy in /opt/anaconda3/envs/getting_started_llmops/lib/python3.11/site-packages (from onnxruntime>=1.14.1->chromadb>=0.5.23->crewai) (1.13.1)\n",
      "Requirement already satisfied: opentelemetry-instrumentation-asgi==0.52b1 in /opt/anaconda3/envs/getting_started_llmops/lib/python3.11/site-packages (from opentelemetry-instrumentation-fastapi>=0.41b0->chromadb>=0.5.23->crewai) (0.52b1)\n",
      "Requirement already satisfied: opentelemetry-instrumentation==0.52b1 in /opt/anaconda3/envs/getting_started_llmops/lib/python3.11/site-packages (from opentelemetry-instrumentation-fastapi>=0.41b0->chromadb>=0.5.23->crewai) (0.52b1)\n",
      "Requirement already satisfied: opentelemetry-util-http==0.52b1 in /opt/anaconda3/envs/getting_started_llmops/lib/python3.11/site-packages (from opentelemetry-instrumentation-fastapi>=0.41b0->chromadb>=0.5.23->crewai) (0.52b1)\n",
      "Requirement already satisfied: asgiref~=3.0 in /opt/anaconda3/envs/getting_started_llmops/lib/python3.11/site-packages (from opentelemetry-instrumentation-asgi==0.52b1->opentelemetry-instrumentation-fastapi>=0.41b0->chromadb>=0.5.23->crewai) (3.8.1)\n",
      "Requirement already satisfied: monotonic>=1.5 in /opt/anaconda3/envs/getting_started_llmops/lib/python3.11/site-packages (from posthog>=2.4.0->chromadb>=0.5.23->crewai) (1.6)\n",
      "Requirement already satisfied: backoff>=1.10.0 in /opt/anaconda3/envs/getting_started_llmops/lib/python3.11/site-packages (from posthog>=2.4.0->chromadb>=0.5.23->crewai) (2.2.1)\n",
      "Requirement already satisfied: markdown-it-py>=2.2.0 in /opt/anaconda3/envs/getting_started_llmops/lib/python3.11/site-packages (from rich>=10.11.0->chromadb>=0.5.23->crewai) (3.0.0)\n",
      "Requirement already satisfied: huggingface-hub<1.0,>=0.16.4 in /opt/anaconda3/envs/getting_started_llmops/lib/python3.11/site-packages (from tokenizers->litellm==1.60.2->crewai) (0.27.1)\n",
      "Requirement already satisfied: shellingham>=1.3.0 in /opt/anaconda3/envs/getting_started_llmops/lib/python3.11/site-packages (from typer>=0.9.0->chromadb>=0.5.23->crewai) (1.5.4)\n",
      "Requirement already satisfied: httptools>=0.6.3 in /opt/anaconda3/envs/getting_started_llmops/lib/python3.11/site-packages (from uvicorn[standard]>=0.18.3->chromadb>=0.5.23->crewai) (0.6.4)\n",
      "Requirement already satisfied: uvloop!=0.15.0,!=0.15.1,>=0.14.0 in /opt/anaconda3/envs/getting_started_llmops/lib/python3.11/site-packages (from uvicorn[standard]>=0.18.3->chromadb>=0.5.23->crewai) (0.21.0)\n",
      "Requirement already satisfied: watchfiles>=0.13 in /opt/anaconda3/envs/getting_started_llmops/lib/python3.11/site-packages (from uvicorn[standard]>=0.18.3->chromadb>=0.5.23->crewai) (1.0.4)\n",
      "Requirement already satisfied: websockets>=10.4 in /opt/anaconda3/envs/getting_started_llmops/lib/python3.11/site-packages (from uvicorn[standard]>=0.18.3->chromadb>=0.5.23->crewai) (14.2)\n",
      "Requirement already satisfied: azure-core>=1.28.0 in /opt/anaconda3/envs/getting_started_llmops/lib/python3.11/site-packages (from azure-search-documents<12.0.0,>=11.5.0->mem0ai<0.2.0,>=0.1.54->embedchain>=0.1.114->crewai-tools) (1.32.0)\n",
      "Requirement already satisfied: azure-common>=1.1 in /opt/anaconda3/envs/getting_started_llmops/lib/python3.11/site-packages (from azure-search-documents<12.0.0,>=11.5.0->mem0ai<0.2.0,>=0.1.54->embedchain>=0.1.114->crewai-tools) (1.1.28)\n",
      "Requirement already satisfied: isodate>=0.6.0 in /opt/anaconda3/envs/getting_started_llmops/lib/python3.11/site-packages (from azure-search-documents<12.0.0,>=11.5.0->mem0ai<0.2.0,>=0.1.54->embedchain>=0.1.114->crewai-tools) (0.7.2)\n",
      "Requirement already satisfied: pycparser in /opt/anaconda3/envs/getting_started_llmops/lib/python3.11/site-packages (from cffi>=1.12->cryptography>=43.0.1->auth0-python>=4.7.1->crewai) (2.21)\n",
      "Requirement already satisfied: marshmallow<4.0.0,>=3.18.0 in /opt/anaconda3/envs/getting_started_llmops/lib/python3.11/site-packages (from dataclasses-json<0.7,>=0.5.7->langchain-community<0.4.0,>=0.3.1->embedchain>=0.1.114->crewai-tools) (3.19.0)\n",
      "Requirement already satisfied: typing-inspect<1,>=0.4.0 in /opt/anaconda3/envs/getting_started_llmops/lib/python3.11/site-packages (from dataclasses-json<0.7,>=0.5.7->langchain-community<0.4.0,>=0.3.1->embedchain>=0.1.114->crewai-tools) (0.9.0)\n",
      "Requirement already satisfied: grpcio-status<2.0.dev0,>=1.33.2 in /opt/anaconda3/envs/getting_started_llmops/lib/python3.11/site-packages (from google-api-core[grpc]!=2.0.*,!=2.1.*,!=2.2.*,!=2.3.*,!=2.4.*,!=2.5.*,!=2.6.*,!=2.7.*,<3.0.0,>=1.34.1->google-cloud-aiplatform<2.0.0,>=1.26.1->embedchain>=0.1.114->crewai-tools) (1.71.0)\n",
      "Requirement already satisfied: pyasn1-modules>=0.2.1 in /opt/anaconda3/envs/getting_started_llmops/lib/python3.11/site-packages (from google-auth<3.0.0,>=2.14.1->google-cloud-aiplatform<2.0.0,>=1.26.1->embedchain>=0.1.114->crewai-tools) (0.4.1)\n",
      "Requirement already satisfied: rsa<5,>=3.1.4 in /opt/anaconda3/envs/getting_started_llmops/lib/python3.11/site-packages (from google-auth<3.0.0,>=2.14.1->google-cloud-aiplatform<2.0.0,>=1.26.1->embedchain>=0.1.114->crewai-tools) (4.9)\n",
      "Requirement already satisfied: google-cloud-core<3.0.0dev,>=2.4.1 in /opt/anaconda3/envs/getting_started_llmops/lib/python3.11/site-packages (from google-cloud-bigquery!=3.20.0,<4.0.0,>=1.15.0->google-cloud-aiplatform<2.0.0,>=1.26.1->embedchain>=0.1.114->crewai-tools) (2.4.3)\n",
      "Requirement already satisfied: google-resumable-media<3.0dev,>=2.0.0 in /opt/anaconda3/envs/getting_started_llmops/lib/python3.11/site-packages (from google-cloud-bigquery!=3.20.0,<4.0.0,>=1.15.0->google-cloud-aiplatform<2.0.0,>=1.26.1->embedchain>=0.1.114->crewai-tools) (2.7.2)\n",
      "Requirement already satisfied: grpc-google-iam-v1<1.0.0,>=0.14.0 in /opt/anaconda3/envs/getting_started_llmops/lib/python3.11/site-packages (from google-cloud-resource-manager<3.0.0,>=1.3.3->google-cloud-aiplatform<2.0.0,>=1.26.1->embedchain>=0.1.114->crewai-tools) (0.14.2)\n",
      "Requirement already satisfied: google-crc32c<2.0dev,>=1.0 in /opt/anaconda3/envs/getting_started_llmops/lib/python3.11/site-packages (from google-cloud-storage<3.0.0,>=1.32.0->google-cloud-aiplatform<2.0.0,>=1.26.1->embedchain>=0.1.114->crewai-tools) (1.7.0)\n",
      "Requirement already satisfied: filelock in /opt/anaconda3/envs/getting_started_llmops/lib/python3.11/site-packages (from huggingface-hub<1.0,>=0.16.4->tokenizers->litellm==1.60.2->crewai) (3.13.1)\n",
      "Requirement already satisfied: fsspec>=2023.5.0 in /opt/anaconda3/envs/getting_started_llmops/lib/python3.11/site-packages (from huggingface-hub<1.0,>=0.16.4->tokenizers->litellm==1.60.2->crewai) (2025.3.0)\n",
      "Requirement already satisfied: parso<0.9.0,>=0.8.4 in /opt/anaconda3/envs/getting_started_llmops/lib/python3.11/site-packages (from jedi>=0.16->ipython>=5.3.0->pyvis>=0.3.2->crewai) (0.8.4)\n",
      "Requirement already satisfied: jsonpatch<2.0,>=1.33 in /opt/anaconda3/envs/getting_started_llmops/lib/python3.11/site-packages (from langchain-core<1.0.0,>=0.3.45->langchain<0.4.0,>=0.3.1->embedchain>=0.1.114->crewai-tools) (1.33)\n",
      "Requirement already satisfied: mdurl~=0.1 in /opt/anaconda3/envs/getting_started_llmops/lib/python3.11/site-packages (from markdown-it-py>=2.2.0->rich>=10.11.0->chromadb>=0.5.23->crewai) (0.1.0)\n",
      "Requirement already satisfied: tzdata>=2022.7 in /opt/anaconda3/envs/getting_started_llmops/lib/python3.11/site-packages (from pandas>=1.4.3->langchain-cohere<0.4.0,>=0.3.0->embedchain>=0.1.114->crewai-tools) (2023.3)\n",
      "Requirement already satisfied: ptyprocess>=0.5 in /opt/anaconda3/envs/getting_started_llmops/lib/python3.11/site-packages (from pexpect>4.3->ipython>=5.3.0->pyvis>=0.3.2->crewai) (0.7.0)\n",
      "Requirement already satisfied: wcwidth in /opt/anaconda3/envs/getting_started_llmops/lib/python3.11/site-packages (from prompt-toolkit<3.1.0,>=3.0.41->ipython>=5.3.0->pyvis>=0.3.2->crewai) (0.2.5)\n",
      "Requirement already satisfied: grpcio-tools>=1.41.0 in /opt/anaconda3/envs/getting_started_llmops/lib/python3.11/site-packages (from qdrant-client<2.0.0,>=1.9.1->mem0ai<0.2.0,>=0.1.54->embedchain>=0.1.114->crewai-tools) (1.71.0)\n",
      "Requirement already satisfied: portalocker<3.0.0,>=2.7.0 in /opt/anaconda3/envs/getting_started_llmops/lib/python3.11/site-packages (from qdrant-client<2.0.0,>=1.9.1->mem0ai<0.2.0,>=0.1.54->embedchain>=0.1.114->crewai-tools) (2.10.1)\n",
      "Requirement already satisfied: propcache>=0.2.0 in /opt/anaconda3/envs/getting_started_llmops/lib/python3.11/site-packages (from yarl<2.0,>=1.12.0->aiohttp->litellm==1.60.2->crewai) (0.2.0)\n",
      "Requirement already satisfied: humanfriendly>=9.1 in /opt/anaconda3/envs/getting_started_llmops/lib/python3.11/site-packages (from coloredlogs->onnxruntime>=1.14.1->chromadb>=0.5.23->crewai) (10.0)\n",
      "Requirement already satisfied: executing in /opt/anaconda3/envs/getting_started_llmops/lib/python3.11/site-packages (from stack-data->ipython>=5.3.0->pyvis>=0.3.2->crewai) (0.8.3)\n",
      "Requirement already satisfied: asttokens in /opt/anaconda3/envs/getting_started_llmops/lib/python3.11/site-packages (from stack-data->ipython>=5.3.0->pyvis>=0.3.2->crewai) (2.0.5)\n",
      "Requirement already satisfied: pure-eval in /opt/anaconda3/envs/getting_started_llmops/lib/python3.11/site-packages (from stack-data->ipython>=5.3.0->pyvis>=0.3.2->crewai) (0.2.2)\n",
      "Requirement already satisfied: mpmath<1.4,>=1.1.0 in /opt/anaconda3/envs/getting_started_llmops/lib/python3.11/site-packages (from sympy->onnxruntime>=1.14.1->chromadb>=0.5.23->crewai) (1.3.0)\n",
      "Requirement already satisfied: setuptools in /opt/anaconda3/envs/getting_started_llmops/lib/python3.11/site-packages (from grpcio-tools>=1.41.0->qdrant-client<2.0.0,>=1.9.1->mem0ai<0.2.0,>=0.1.54->embedchain>=0.1.114->crewai-tools) (77.0.3)\n",
      "Requirement already satisfied: h2<5,>=3 in /opt/anaconda3/envs/getting_started_llmops/lib/python3.11/site-packages (from httpx[http2]>=0.20.0->qdrant-client<2.0.0,>=1.9.1->mem0ai<0.2.0,>=0.1.54->embedchain>=0.1.114->crewai-tools) (4.2.0)\n",
      "Requirement already satisfied: jsonpointer>=1.9 in /opt/anaconda3/envs/getting_started_llmops/lib/python3.11/site-packages (from jsonpatch<2.0,>=1.33->langchain-core<1.0.0,>=0.3.45->langchain<0.4.0,>=0.3.1->embedchain>=0.1.114->crewai-tools) (2.1)\n",
      "Requirement already satisfied: pyasn1<0.7.0,>=0.4.6 in /opt/anaconda3/envs/getting_started_llmops/lib/python3.11/site-packages (from pyasn1-modules>=0.2.1->google-auth<3.0.0,>=2.14.1->google-cloud-aiplatform<2.0.0,>=1.26.1->embedchain>=0.1.114->crewai-tools) (0.6.1)\n",
      "Requirement already satisfied: mypy-extensions>=0.3.0 in /opt/anaconda3/envs/getting_started_llmops/lib/python3.11/site-packages (from typing-inspect<1,>=0.4.0->dataclasses-json<0.7,>=0.5.7->langchain-community<0.4.0,>=0.3.1->embedchain>=0.1.114->crewai-tools) (1.0.0)\n",
      "Requirement already satisfied: hyperframe<7,>=6.1 in /opt/anaconda3/envs/getting_started_llmops/lib/python3.11/site-packages (from h2<5,>=3->httpx[http2]>=0.20.0->qdrant-client<2.0.0,>=1.9.1->mem0ai<0.2.0,>=0.1.54->embedchain>=0.1.114->crewai-tools) (6.1.0)\n",
      "Requirement already satisfied: hpack<5,>=4.1 in /opt/anaconda3/envs/getting_started_llmops/lib/python3.11/site-packages (from h2<5,>=3->httpx[http2]>=0.20.0->qdrant-client<2.0.0,>=1.9.1->mem0ai<0.2.0,>=0.1.54->embedchain>=0.1.114->crewai-tools) (4.1.0)\n",
      "Downloading tokenizers-0.20.3-cp311-cp311-macosx_11_0_arm64.whl (2.6 MB)\n",
      "\u001b[2K   \u001b[90m━━━━━━━━━━━━━━━━━━━━━━━━━━━━━━━━━━━━━━━━\u001b[0m \u001b[32m2.6/2.6 MB\u001b[0m \u001b[31m1.8 MB/s\u001b[0m eta \u001b[36m0:00:00\u001b[0ma \u001b[36m0:00:01\u001b[0m\n",
      "\u001b[?25hInstalling collected packages: tokenizers\n",
      "  Attempting uninstall: tokenizers\n",
      "    Found existing installation: tokenizers 0.21.1\n",
      "    Uninstalling tokenizers-0.21.1:\n",
      "      Successfully uninstalled tokenizers-0.21.1\n",
      "\u001b[31mERROR: pip's dependency resolver does not currently take into account all the packages that are installed. This behaviour is the source of the following dependency conflicts.\n",
      "transformers 4.50.1 requires tokenizers<0.22,>=0.21, but you have tokenizers 0.20.3 which is incompatible.\u001b[0m\u001b[31m\n",
      "\u001b[0mSuccessfully installed tokenizers-0.20.3\n"
     ]
    }
   ],
   "source": [
    "!pip install crewai crewai-tools"
   ]
  },
  {
   "cell_type": "markdown",
   "id": "6345202a",
   "metadata": {},
   "source": [
    "Now, let's import the required modules:"
   ]
  },
  {
   "cell_type": "code",
   "execution_count": 14,
   "id": "b14fffae",
   "metadata": {},
   "outputs": [],
   "source": [
    "import os\n",
    "import json\n",
    "from datetime import datetime\n",
    "from crewai import Agent, Task, Crew, Process, LLM\n",
    "from crewai_tools import SerperDevTool"
   ]
  },
  {
   "cell_type": "markdown",
   "id": "675f0ef1",
   "metadata": {},
   "source": [
    "## Setting Up API Keys\n",
    "\n",
    "The SerperDevTool requires an API key from Serper.dev. Let's set up our environment variable:"
   ]
  },
  {
   "cell_type": "code",
   "execution_count": null,
   "id": "cb56623d",
   "metadata": {},
   "outputs": [],
   "source": [
    "# Set your Serper API key here\n",
    "import os\n",
    "os.environ[\"SERPER_API_KEY\"] = \"\"  # Replace with your actual API key\n",
    "\n",
    "# Or load it from .env file\n",
    "# from dotenv import load_dotenv\n",
    "# load_dotenv()"
   ]
  },
  {
   "cell_type": "markdown",
   "id": "bc13b0a1",
   "metadata": {},
   "source": [
    "## Defining Our Agents and Tools\n",
    "\n",
    "Now, let's create our specialized agents and tools:"
   ]
  },
  {
   "cell_type": "code",
   "execution_count": null,
   "id": "6895be78",
   "metadata": {},
   "outputs": [],
   "source": [
    "# Define our LLM\n",
    "llm = LLM(model=\"ollama/gemma3:4b\")\n",
    "\n",
    "# Create our web search tool\n",
    "from typing import Type\n",
    "from crewai.tools import BaseTool\n",
    "from pydantic import BaseModel, Field\n",
    "import os\n",
    "import ssl\n",
    "import requests\n",
    "from dotenv import load_dotenv\n",
    "\n",
    "ssl._create_default_https_context = ssl._create_unverified_context\n",
    "\n",
    "class BrightDataWebSearchToolInput(BaseModel):\n",
    "    \"\"\"Input schema for BrightDataWebSearchTool.\"\"\"\n",
    "    title: str = Field(..., description=\"Topic of the book to write about and search Google for.\")\n",
    "\n",
    "class BrightDataWebSearchTool(BaseTool):\n",
    "    name: str = \"Web Search Tool\"\n",
    "    description: str = \"Use this tool to search Google and retrieve the top search results.\"\n",
    "    args_schema: Type[BaseModel] = BrightDataWebSearchToolInput\n",
    "\n",
    "    def _run(self, title: str) -> str:\n",
    "        \n",
    "        host = 'brd.superproxy.io'\n",
    "        port = 33335\n",
    "\n",
    "        username = os.getenv(\"BRIGHDATA_USERNAME\")\n",
    "        password = os.getenv(\"BRIGHDATA_PASSWORD\")        \n",
    "\n",
    "        proxy_url = f'http://{username}:{password}@{host}:{port}'\n",
    "\n",
    "        proxies = {\n",
    "            'http': proxy_url,\n",
    "            'https': proxy_url\n",
    "        }\n",
    "\n",
    "        query = \"+\".join(title.split(\" \"))\n",
    "\n",
    "        url = f\"https://www.google.com/search?q={query}&brd_json=1&num=50\"\n",
    "        response = requests.get(url, proxies=proxies, verify=False)\n",
    "\n",
    "        return response.json()['organic']\n",
    "\n",
    "\n",
    "search_tool = BrightDataWebSearchTool()\n",
    "# Create a researcher agent with search capabilities\n",
    "researcher = Agent(\n",
    "    role=\"Internet Researcher\",\n",
    "    goal=\"Find the most accurate, up-to-date information on topics using web searches\",\n",
    "    backstory=\"\"\"You are a highly skilled research specialist who excels at finding\n",
    "    and synthesizing information from multiple online sources. You're known for your\n",
    "    ability to quickly identify reliable sources and extract key information.\"\"\",\n",
    "    llm=llm,\n",
    "    verbose=True,\n",
    "    tools=[search_tool]\n",
    ")\n",
    "\n",
    "# Create an outliner agent\n",
    "outliner = Agent(\n",
    "    role=\"Content Strategist\",\n",
    "    goal=\"Organize research findings into clear, logical book outlines\",\n",
    "    backstory=\"\"\"You are an experienced content strategist who specializes in\n",
    "    structuring information for maximum clarity and impact. You excel at identifying\n",
    "    key themes and creating organizational frameworks that enhance understanding.\"\"\",\n",
    "    llm=llm,\n",
    "    verbose=True\n",
    ")\n",
    "\n",
    "# Create a writer agent\n",
    "writer = Agent(\n",
    "    role=\"Content Writer\",\n",
    "    goal=\"Transform outlines and research into engaging, informative book content\",\n",
    "    backstory=\"\"\"You are a talented writer with a gift for explaining complex topics\n",
    "    in accessible, engaging language. You excel at incorporating research into flowing\n",
    "    narratives while maintaining factual accuracy.\"\"\",\n",
    "    llm=llm,\n",
    "    verbose=True\n",
    ")"
   ]
  },
  {
   "cell_type": "markdown",
   "id": "19919e7d",
   "metadata": {},
   "source": [
    "## Creating a Function to Save the Book\n",
    "\n",
    "Let's create a function to save our book to the filesystem:"
   ]
  },
  {
   "cell_type": "code",
   "execution_count": 17,
   "id": "c25d493c",
   "metadata": {},
   "outputs": [],
   "source": [
    "def save_book_to_file(content, title):\n",
    "    \"\"\"Save book content to a markdown file.\"\"\"\n",
    "    # Clean the title for use as a filename\n",
    "    clean_title = title.lower().replace(\" \", \"_\").replace(\":\", \"\").replace(\"?\", \"\").replace(\"!\", \"\")\n",
    "    \n",
    "    # Ensure the filename has .md extension\n",
    "    if not clean_title.endswith(\".md\"):\n",
    "        clean_title += \".md\"\n",
    "    \n",
    "    # Create the books directory if it doesn't exist\n",
    "    books_dir = os.path.join(os.getcwd(), 'books')\n",
    "    os.makedirs(books_dir, exist_ok=True)\n",
    "    \n",
    "    # Create the full file path\n",
    "    file_path = os.path.join(books_dir, clean_title)\n",
    "    \n",
    "    # Write the content to the file\n",
    "    with open(file_path, \"w\", encoding=\"utf-8\") as f:\n",
    "        f.write(content)\n",
    "    \n",
    "    return f\"Book saved to {file_path}\""
   ]
  },
  {
   "cell_type": "markdown",
   "id": "dd2fb10f",
   "metadata": {},
   "source": [
    "## Creating Our Tasks\n",
    "\n",
    "Now, let's define the tasks for our book writing process:"
   ]
  },
  {
   "cell_type": "code",
   "execution_count": 18,
   "id": "bb05a4a8",
   "metadata": {},
   "outputs": [],
   "source": [
    "# Function to get the topic from user input\n",
    "def get_book_topic():\n",
    "    return input(\"Enter a topic for your book: \")\n",
    "\n",
    "# We'll use this topic in our tasks\n",
    "book_topic = get_book_topic()\n",
    "\n",
    "# Create a web research task\n",
    "research_task = Task(\n",
    "    description=f\"\"\"Conduct comprehensive web research on '{book_topic}'.\n",
    "    \n",
    "    Use the search tool to gather accurate, up-to-date information on:\n",
    "    1. Key concepts and definitions related to {book_topic}\n",
    "    2. Historical development or background\n",
    "    3. Current state or applications\n",
    "    4. Major subtopics or categories\n",
    "    5. Important debates or perspectives\n",
    "    6. Future trends or developments\n",
    "    \n",
    "    For each search, extract the most relevant information and organize it by subtopic.\n",
    "    Keep track of the sources for each piece of information.\n",
    "    \n",
    "    Your final research should be comprehensive enough to serve as the foundation for a book\n",
    "    with 2 chapters maximum.\"\"\",\n",
    "    expected_output=\"\"\"A comprehensive research document containing:\n",
    "    1. Key information organized by subtopics\n",
    "    2. Source citations for important facts\n",
    "    3. Quotes from authoritative sources (with attribution)\n",
    "    4. A suggested breakdown of 1-2 main chapters based on the research\"\"\",\n",
    "    agent=researcher\n",
    ")\n",
    "\n",
    "# Create an outline task\n",
    "outline_task = Task(\n",
    "    description=f\"\"\"Based on the research provided, create a detailed outline for a book on '{book_topic}'.\n",
    "    \n",
    "    The book should have no more than 2 chapters and should cover the most important aspects \n",
    "    of the topic based on the research.\n",
    "    \n",
    "    Your outline should include:\n",
    "    1. A compelling title for the book\n",
    "    2. An introduction section outlining the book's purpose and scope\n",
    "    3. 1-2 chapters with clear titles\n",
    "    4. 3-5 sections for each chapter with brief descriptions\n",
    "    5. A conclusion section\n",
    "    \n",
    "    Structure the outline logically, ensuring a smooth flow of information from basic \n",
    "    concepts to more advanced or specific content.\n",
    "    \n",
    "    Format the outline as JSON with the following structure:\n",
    "    {{\n",
    "        \"title\": \"Book Title\",\n",
    "        \"introduction\": \"Brief description of the introduction\",\n",
    "        \"chapters\": [\n",
    "            {{\n",
    "                \"title\": \"Chapter 1 Title\",\n",
    "                \"sections\": [\n",
    "                    {{\"title\": \"Section 1 Title\", \"description\": \"Brief description\"}},\n",
    "                    {{\"title\": \"Section 2 Title\", \"description\": \"Brief description\"}}\n",
    "                ]\n",
    "            }}\n",
    "        ],\n",
    "        \"conclusion\": \"Brief description of the conclusion\"\n",
    "    }}\"\"\",\n",
    "    expected_output=\"A JSON-formatted outline for a book with 1-2 chapters\",\n",
    "    agent=outliner,\n",
    "    context=[research_task]  # Give the outliner access to the research\n",
    ")\n",
    "\n",
    "# Create a writing task\n",
    "writing_task = Task(\n",
    "    description=f\"\"\"Based on the research and outline provided, write a complete book on '{book_topic}'.\n",
    "    \n",
    "    Follow the structure in the outline, ensuring that:\n",
    "    1. The content is accurate and based on the research\n",
    "    2. The writing is clear, engaging, and accessible\n",
    "    3. Each section flows logically to the next\n",
    "    4. The book maintains a consistent tone and style\n",
    "    5. Important facts are included from the research\n",
    "    \n",
    "    Format the book with proper Markdown:\n",
    "    - Use # for the book title\n",
    "    - Use ## for chapter titles\n",
    "    - Use ### for section titles\n",
    "    - Use appropriate formatting for emphasis, lists, etc.\n",
    "    \n",
    "    The final book should be ready for direct saving as a Markdown file.\"\"\",\n",
    "    expected_output=\"A complete book in Markdown format, following the outline structure\",\n",
    "    agent=writer,\n",
    "    context=[research_task, outline_task]  # Writer has access to both research and outline\n",
    ")"
   ]
  },
  {
   "cell_type": "markdown",
   "id": "a7fd2ee1",
   "metadata": {},
   "source": [
    "## Creating the Book Writing Process\n",
    "\n",
    "Now, let's put everything together in a function that executes the book writing process:"
   ]
  },
  {
   "cell_type": "code",
   "execution_count": 19,
   "id": "558f3ff5",
   "metadata": {},
   "outputs": [],
   "source": [
    "def write_book_with_web_research(topic):\n",
    "    \"\"\"Complete book writing process with web research.\"\"\"\n",
    "    print(f\"Starting book writing process on topic: '{topic}'\")\n",
    "    \n",
    "    # Create the agents and tasks with the specified topic\n",
    "    global book_topic\n",
    "    book_topic = topic\n",
    "    \n",
    "    # Create a crew to manage the book writing process\n",
    "    book_crew = Crew(\n",
    "        agents=[researcher, outliner, writer],\n",
    "        tasks=[research_task, outline_task, writing_task],\n",
    "        verbose=True,\n",
    "        process=Process.sequential\n",
    "    )\n",
    "    \n",
    "    # Execute the crew\n",
    "    print(\"\\nStarting the research and writing process...\")\n",
    "    result = book_crew.kickoff()\n",
    "    \n",
    "    # Extract the book title from the outline task result\n",
    "    outline_result = outline_task.output.raw\n",
    "    try:\n",
    "        # Find the JSON in the outline result\n",
    "        json_start = outline_result.find('{')\n",
    "        json_end = outline_result.rfind('}') + 1\n",
    "        if json_start >= 0 and json_end > json_start:\n",
    "            outline_json = outline_result[json_start:json_end]\n",
    "            outline_data = json.loads(outline_json)\n",
    "            book_title = outline_data.get(\"title\", topic)\n",
    "        else:\n",
    "            # Fallback if JSON extraction fails\n",
    "            book_title = f\"Book on {topic}\"\n",
    "    except Exception as e:\n",
    "        print(f\"Error extracting book title: {e}\")\n",
    "        book_title = f\"Book on {topic}\"\n",
    "    \n",
    "    # Get the final book content\n",
    "    book_content = result.raw\n",
    "    \n",
    "    # Add metadata\n",
    "    timestamp = datetime.now().strftime(\"%Y-%m-%d %H:%M:%S\")\n",
    "    metadata = f\"\\n\\n---\\nGenerated on {timestamp} using CrewAI with web research\"\n",
    "    book_content += metadata\n",
    "    \n",
    "    # Save the book to a file\n",
    "    file_path = save_book_to_file(book_content, book_title)\n",
    "    \n",
    "    print(f\"\\nBook writing completed!\")\n",
    "    print(file_path)\n",
    "    \n",
    "    return {\n",
    "        \"title\": book_title,\n",
    "        \"file_path\": file_path,\n",
    "        \"content_preview\": book_content[:500] + \"...\" if len(book_content) > 500 else book_content\n",
    "    }"
   ]
  },
  {
   "cell_type": "markdown",
   "id": "f3de14f1",
   "metadata": {},
   "source": [
    "## Executing the Process\n",
    "\n",
    "Now, let's run our book writing process:"
   ]
  },
  {
   "cell_type": "code",
   "execution_count": 20,
   "id": "05bdf795",
   "metadata": {},
   "outputs": [
    {
     "name": "stdout",
     "output_type": "stream",
     "text": [
      "Starting book writing process on topic: 'crewAi tools'\n",
      "\n",
      "Starting the research and writing process...\n"
     ]
    },
    {
     "data": {
      "text/html": [
       "<pre style=\"white-space:pre;overflow-x:auto;line-height:normal;font-family:Menlo,'DejaVu Sans Mono',consolas,'Courier New',monospace\"><span style=\"color: #008080; text-decoration-color: #008080\">╭──────────────────────────────────────────── Crew Execution Started ─────────────────────────────────────────────╮</span>\n",
       "<span style=\"color: #008080; text-decoration-color: #008080\">│</span>                                                                                                                 <span style=\"color: #008080; text-decoration-color: #008080\">│</span>\n",
       "<span style=\"color: #008080; text-decoration-color: #008080\">│</span>  <span style=\"color: #008080; text-decoration-color: #008080; font-weight: bold\">Crew Execution Started</span>                                                                                         <span style=\"color: #008080; text-decoration-color: #008080\">│</span>\n",
       "<span style=\"color: #008080; text-decoration-color: #008080\">│</span>  <span style=\"color: #c0c0c0; text-decoration-color: #c0c0c0\">Name: </span><span style=\"color: #008080; text-decoration-color: #008080\">crew</span>                                                                                                     <span style=\"color: #008080; text-decoration-color: #008080\">│</span>\n",
       "<span style=\"color: #008080; text-decoration-color: #008080\">│</span>  <span style=\"color: #c0c0c0; text-decoration-color: #c0c0c0\">ID: </span><span style=\"color: #008080; text-decoration-color: #008080\">2823145f-bf37-4fe4-93dc-6acdb5d2c641</span>                                                                       <span style=\"color: #008080; text-decoration-color: #008080\">│</span>\n",
       "<span style=\"color: #008080; text-decoration-color: #008080\">│</span>                                                                                                                 <span style=\"color: #008080; text-decoration-color: #008080\">│</span>\n",
       "<span style=\"color: #008080; text-decoration-color: #008080\">│</span>                                                                                                                 <span style=\"color: #008080; text-decoration-color: #008080\">│</span>\n",
       "<span style=\"color: #008080; text-decoration-color: #008080\">╰─────────────────────────────────────────────────────────────────────────────────────────────────────────────────╯</span>\n",
       "</pre>\n"
      ],
      "text/plain": [
       "\u001b[36m╭─\u001b[0m\u001b[36m───────────────────────────────────────────\u001b[0m\u001b[36m Crew Execution Started \u001b[0m\u001b[36m────────────────────────────────────────────\u001b[0m\u001b[36m─╮\u001b[0m\n",
       "\u001b[36m│\u001b[0m                                                                                                                 \u001b[36m│\u001b[0m\n",
       "\u001b[36m│\u001b[0m  \u001b[1;36mCrew Execution Started\u001b[0m                                                                                         \u001b[36m│\u001b[0m\n",
       "\u001b[36m│\u001b[0m  \u001b[37mName: \u001b[0m\u001b[36mcrew\u001b[0m                                                                                                     \u001b[36m│\u001b[0m\n",
       "\u001b[36m│\u001b[0m  \u001b[37mID: \u001b[0m\u001b[36m2823145f-bf37-4fe4-93dc-6acdb5d2c641\u001b[0m                                                                       \u001b[36m│\u001b[0m\n",
       "\u001b[36m│\u001b[0m                                                                                                                 \u001b[36m│\u001b[0m\n",
       "\u001b[36m│\u001b[0m                                                                                                                 \u001b[36m│\u001b[0m\n",
       "\u001b[36m╰─────────────────────────────────────────────────────────────────────────────────────────────────────────────────╯\u001b[0m\n"
      ]
     },
     "metadata": {},
     "output_type": "display_data"
    },
    {
     "data": {
      "text/html": [
       "<pre style=\"white-space:pre;overflow-x:auto;line-height:normal;font-family:Menlo,'DejaVu Sans Mono',consolas,'Courier New',monospace\">\n",
       "</pre>\n"
      ],
      "text/plain": [
       "\n"
      ]
     },
     "metadata": {},
     "output_type": "display_data"
    },
    {
     "data": {
      "text/html": [
       "<pre style=\"white-space:pre;overflow-x:auto;line-height:normal;font-family:Menlo,'DejaVu Sans Mono',consolas,'Courier New',monospace\"><span style=\"color: #008080; text-decoration-color: #008080; font-weight: bold\">🚀 Crew: crew</span>\n",
       "└── <span style=\"color: #808000; text-decoration-color: #808000; font-weight: bold\">📋 Task: fa00a864-6122-4cc4-9d5a-3e728596047f</span>\n",
       "    <span style=\"color: #c0c0c0; text-decoration-color: #c0c0c0\">   Status: </span><span style=\"color: #bfbf7f; text-decoration-color: #bfbf7f\">Executing Task...</span>\n",
       "</pre>\n"
      ],
      "text/plain": [
       "\u001b[1;36m🚀 Crew: \u001b[0m\u001b[1;36mcrew\u001b[0m\n",
       "└── \u001b[1;33m📋 Task: fa00a864-6122-4cc4-9d5a-3e728596047f\u001b[0m\n",
       "    \u001b[37m   Status: \u001b[0m\u001b[2;33mExecuting Task...\u001b[0m\n"
      ]
     },
     "metadata": {},
     "output_type": "display_data"
    },
    {
     "data": {
      "text/html": [
       "<pre style=\"white-space:pre;overflow-x:auto;line-height:normal;font-family:Menlo,'DejaVu Sans Mono',consolas,'Courier New',monospace\">\n",
       "</pre>\n"
      ],
      "text/plain": [
       "\n"
      ]
     },
     "metadata": {},
     "output_type": "display_data"
    },
    {
     "data": {
      "text/html": [
       "<pre style=\"white-space:pre;overflow-x:auto;line-height:normal;font-family:Menlo,'DejaVu Sans Mono',consolas,'Courier New',monospace\"><span style=\"color: #008080; text-decoration-color: #008080; font-weight: bold\">🚀 Crew: crew</span>\n",
       "└── <span style=\"color: #808000; text-decoration-color: #808000; font-weight: bold\">📋 Task: fa00a864-6122-4cc4-9d5a-3e728596047f</span>\n",
       "    <span style=\"color: #c0c0c0; text-decoration-color: #c0c0c0\">   Status: </span><span style=\"color: #bfbf7f; text-decoration-color: #bfbf7f\">Executing Task...</span>\n",
       "    └── <span style=\"color: #008000; text-decoration-color: #008000; font-weight: bold\">🤖 Agent: </span><span style=\"color: #008000; text-decoration-color: #008000\">Internet Researcher</span>\n",
       "        <span style=\"color: #c0c0c0; text-decoration-color: #c0c0c0\">    Status: </span><span style=\"color: #008000; text-decoration-color: #008000; font-weight: bold\">In Progress</span>\n",
       "</pre>\n"
      ],
      "text/plain": [
       "\u001b[1;36m🚀 Crew: \u001b[0m\u001b[1;36mcrew\u001b[0m\n",
       "└── \u001b[1;33m📋 Task: fa00a864-6122-4cc4-9d5a-3e728596047f\u001b[0m\n",
       "    \u001b[37m   Status: \u001b[0m\u001b[2;33mExecuting Task...\u001b[0m\n",
       "    └── \u001b[1;32m🤖 Agent: \u001b[0m\u001b[32mInternet Researcher\u001b[0m\n",
       "        \u001b[37m    Status: \u001b[0m\u001b[1;32mIn Progress\u001b[0m\n"
      ]
     },
     "metadata": {},
     "output_type": "display_data"
    },
    {
     "data": {
      "text/html": [
       "<pre style=\"white-space:pre;overflow-x:auto;line-height:normal;font-family:Menlo,'DejaVu Sans Mono',consolas,'Courier New',monospace\">\n",
       "</pre>\n"
      ],
      "text/plain": [
       "\n"
      ]
     },
     "metadata": {},
     "output_type": "display_data"
    },
    {
     "name": "stdout",
     "output_type": "stream",
     "text": [
      "\u001b[1m\u001b[95m# Agent:\u001b[00m \u001b[1m\u001b[92mInternet Researcher\u001b[00m\n",
      "\u001b[95m## Task:\u001b[00m \u001b[92mConduct comprehensive web research on 'crewAI tools'.\n",
      "    \n",
      "    Use the search tool to gather accurate, up-to-date information on:\n",
      "    1. Key concepts and definitions related to crewAI tools\n",
      "    2. Historical development or background\n",
      "    3. Current state or applications\n",
      "    4. Major subtopics or categories\n",
      "    5. Important debates or perspectives\n",
      "    6. Future trends or developments\n",
      "    \n",
      "    For each search, extract the most relevant information and organize it by subtopic.\n",
      "    Keep track of the sources for each piece of information.\n",
      "    \n",
      "    Your final research should be comprehensive enough to serve as the foundation for a book\n",
      "    with 2 chapters maximum.\u001b[00m\n"
     ]
    },
    {
     "data": {
      "text/html": [
       "<pre style=\"white-space:pre;overflow-x:auto;line-height:normal;font-family:Menlo,'DejaVu Sans Mono',consolas,'Courier New',monospace\"><span style=\"color: #008080; text-decoration-color: #008080; font-weight: bold\">🚀 Crew: crew</span>\n",
       "└── <span style=\"color: #808000; text-decoration-color: #808000; font-weight: bold\">📋 Task: fa00a864-6122-4cc4-9d5a-3e728596047f</span>\n",
       "    <span style=\"color: #c0c0c0; text-decoration-color: #c0c0c0\">   Status: </span><span style=\"color: #bfbf7f; text-decoration-color: #bfbf7f\">Executing Task...</span>\n",
       "    └── <span style=\"color: #008000; text-decoration-color: #008000; font-weight: bold\">🤖 Agent: </span><span style=\"color: #008000; text-decoration-color: #008000\">Internet Researcher</span>\n",
       "        <span style=\"color: #c0c0c0; text-decoration-color: #c0c0c0\">    Status: </span><span style=\"color: #008000; text-decoration-color: #008000; font-weight: bold\">In Progress</span>\n",
       "        └── <span style=\"color: #000080; text-decoration-color: #000080; font-weight: bold\">🧠 </span><span style=\"color: #000080; text-decoration-color: #000080\">Thinking...</span>\n",
       "</pre>\n"
      ],
      "text/plain": [
       "\u001b[1;36m🚀 Crew: \u001b[0m\u001b[1;36mcrew\u001b[0m\n",
       "└── \u001b[1;33m📋 Task: fa00a864-6122-4cc4-9d5a-3e728596047f\u001b[0m\n",
       "    \u001b[37m   Status: \u001b[0m\u001b[2;33mExecuting Task...\u001b[0m\n",
       "    └── \u001b[1;32m🤖 Agent: \u001b[0m\u001b[32mInternet Researcher\u001b[0m\n",
       "        \u001b[37m    Status: \u001b[0m\u001b[1;32mIn Progress\u001b[0m\n",
       "        └── \u001b[1;34m🧠 \u001b[0m\u001b[34mThinking...\u001b[0m\n"
      ]
     },
     "metadata": {},
     "output_type": "display_data"
    },
    {
     "data": {
      "text/html": [
       "<pre style=\"white-space:pre;overflow-x:auto;line-height:normal;font-family:Menlo,'DejaVu Sans Mono',consolas,'Courier New',monospace\">\n",
       "</pre>\n"
      ],
      "text/plain": [
       "\n"
      ]
     },
     "metadata": {},
     "output_type": "display_data"
    },
    {
     "data": {
      "text/html": [
       "<pre style=\"white-space:pre;overflow-x:auto;line-height:normal;font-family:Menlo,'DejaVu Sans Mono',consolas,'Courier New',monospace\"><span style=\"color: #008080; text-decoration-color: #008080; font-weight: bold\">🚀 Crew: crew</span>\n",
       "└── <span style=\"color: #808000; text-decoration-color: #808000; font-weight: bold\">📋 Task: fa00a864-6122-4cc4-9d5a-3e728596047f</span>\n",
       "    <span style=\"color: #c0c0c0; text-decoration-color: #c0c0c0\">   Status: </span><span style=\"color: #bfbf7f; text-decoration-color: #bfbf7f\">Executing Task...</span>\n",
       "    └── <span style=\"color: #008000; text-decoration-color: #008000; font-weight: bold\">🤖 Agent: </span><span style=\"color: #008000; text-decoration-color: #008000\">Internet Researcher</span>\n",
       "        <span style=\"color: #c0c0c0; text-decoration-color: #c0c0c0\">    Status: </span><span style=\"color: #008000; text-decoration-color: #008000; font-weight: bold\">In Progress</span>\n",
       "</pre>\n"
      ],
      "text/plain": [
       "\u001b[1;36m🚀 Crew: \u001b[0m\u001b[1;36mcrew\u001b[0m\n",
       "└── \u001b[1;33m📋 Task: fa00a864-6122-4cc4-9d5a-3e728596047f\u001b[0m\n",
       "    \u001b[37m   Status: \u001b[0m\u001b[2;33mExecuting Task...\u001b[0m\n",
       "    └── \u001b[1;32m🤖 Agent: \u001b[0m\u001b[32mInternet Researcher\u001b[0m\n",
       "        \u001b[37m    Status: \u001b[0m\u001b[1;32mIn Progress\u001b[0m\n"
      ]
     },
     "metadata": {},
     "output_type": "display_data"
    },
    {
     "data": {
      "text/html": [
       "<pre style=\"white-space:pre;overflow-x:auto;line-height:normal;font-family:Menlo,'DejaVu Sans Mono',consolas,'Courier New',monospace\">\n",
       "</pre>\n"
      ],
      "text/plain": [
       "\n"
      ]
     },
     "metadata": {},
     "output_type": "display_data"
    },
    {
     "data": {
      "text/html": [
       "<pre style=\"white-space:pre;overflow-x:auto;line-height:normal;font-family:Menlo,'DejaVu Sans Mono',consolas,'Courier New',monospace\"><span style=\"color: #008080; text-decoration-color: #008080; font-weight: bold\">🚀 Crew: crew</span>\n",
       "└── <span style=\"color: #808000; text-decoration-color: #808000; font-weight: bold\">📋 Task: fa00a864-6122-4cc4-9d5a-3e728596047f</span>\n",
       "    <span style=\"color: #c0c0c0; text-decoration-color: #c0c0c0\">   Status: </span><span style=\"color: #bfbf7f; text-decoration-color: #bfbf7f\">Executing Task...</span>\n",
       "    └── <span style=\"color: #008000; text-decoration-color: #008000; font-weight: bold\">🤖 Agent: </span><span style=\"color: #008000; text-decoration-color: #008000\">Internet Researcher</span>\n",
       "        <span style=\"color: #c0c0c0; text-decoration-color: #c0c0c0\">    Status: </span><span style=\"color: #008000; text-decoration-color: #008000; font-weight: bold\">In Progress</span>\n",
       "        └── <span style=\"color: #808000; text-decoration-color: #808000; font-weight: bold\">🔧 </span><span style=\"color: #808000; text-decoration-color: #808000\">Using Web Search Tool (1)</span>\n",
       "</pre>\n"
      ],
      "text/plain": [
       "\u001b[1;36m🚀 Crew: \u001b[0m\u001b[1;36mcrew\u001b[0m\n",
       "└── \u001b[1;33m📋 Task: fa00a864-6122-4cc4-9d5a-3e728596047f\u001b[0m\n",
       "    \u001b[37m   Status: \u001b[0m\u001b[2;33mExecuting Task...\u001b[0m\n",
       "    └── \u001b[1;32m🤖 Agent: \u001b[0m\u001b[32mInternet Researcher\u001b[0m\n",
       "        \u001b[37m    Status: \u001b[0m\u001b[1;32mIn Progress\u001b[0m\n",
       "        └── \u001b[1;33m🔧 \u001b[0m\u001b[33mUsing Web Search Tool (1)\u001b[0m\n"
      ]
     },
     "metadata": {},
     "output_type": "display_data"
    },
    {
     "data": {
      "text/html": [
       "<pre style=\"white-space:pre;overflow-x:auto;line-height:normal;font-family:Menlo,'DejaVu Sans Mono',consolas,'Courier New',monospace\">\n",
       "</pre>\n"
      ],
      "text/plain": [
       "\n"
      ]
     },
     "metadata": {},
     "output_type": "display_data"
    },
    {
     "name": "stderr",
     "output_type": "stream",
     "text": [
      "/opt/anaconda3/envs/getting_started_llmops/lib/python3.11/site-packages/urllib3/connectionpool.py:1097: InsecureRequestWarning: Unverified HTTPS request is being made to host 'brd.superproxy.io'. Adding certificate verification is strongly advised. See: https://urllib3.readthedocs.io/en/latest/advanced-usage.html#tls-warnings\n",
      "  warnings.warn(\n"
     ]
    },
    {
     "data": {
      "text/html": [
       "<pre style=\"white-space:pre;overflow-x:auto;line-height:normal;font-family:Menlo,'DejaVu Sans Mono',consolas,'Courier New',monospace\"><span style=\"color: #008080; text-decoration-color: #008080; font-weight: bold\">🚀 Crew: crew</span>\n",
       "└── <span style=\"color: #808000; text-decoration-color: #808000; font-weight: bold\">📋 Task: fa00a864-6122-4cc4-9d5a-3e728596047f</span>\n",
       "    <span style=\"color: #c0c0c0; text-decoration-color: #c0c0c0\">   Status: </span><span style=\"color: #bfbf7f; text-decoration-color: #bfbf7f\">Executing Task...</span>\n",
       "    └── <span style=\"color: #008000; text-decoration-color: #008000; font-weight: bold\">🤖 Agent: </span><span style=\"color: #008000; text-decoration-color: #008000\">Internet Researcher</span>\n",
       "        <span style=\"color: #c0c0c0; text-decoration-color: #c0c0c0\">    Status: </span><span style=\"color: #008000; text-decoration-color: #008000; font-weight: bold\">In Progress</span>\n",
       "        └── <span style=\"color: #008000; text-decoration-color: #008000; font-weight: bold\">🔧 </span><span style=\"color: #008000; text-decoration-color: #008000\">Used Web Search Tool (1)</span>\n",
       "</pre>\n"
      ],
      "text/plain": [
       "\u001b[1;36m🚀 Crew: \u001b[0m\u001b[1;36mcrew\u001b[0m\n",
       "└── \u001b[1;33m📋 Task: fa00a864-6122-4cc4-9d5a-3e728596047f\u001b[0m\n",
       "    \u001b[37m   Status: \u001b[0m\u001b[2;33mExecuting Task...\u001b[0m\n",
       "    └── \u001b[1;32m🤖 Agent: \u001b[0m\u001b[32mInternet Researcher\u001b[0m\n",
       "        \u001b[37m    Status: \u001b[0m\u001b[1;32mIn Progress\u001b[0m\n",
       "        └── \u001b[1;32m🔧 \u001b[0m\u001b[32mUsed Web Search Tool (1)\u001b[0m\n"
      ]
     },
     "metadata": {},
     "output_type": "display_data"
    },
    {
     "data": {
      "text/html": [
       "<pre style=\"white-space:pre;overflow-x:auto;line-height:normal;font-family:Menlo,'DejaVu Sans Mono',consolas,'Courier New',monospace\">\n",
       "</pre>\n"
      ],
      "text/plain": [
       "\n"
      ]
     },
     "metadata": {},
     "output_type": "display_data"
    },
    {
     "name": "stdout",
     "output_type": "stream",
     "text": [
      "\n",
      "\n",
      "\u001b[1m\u001b[95m# Agent:\u001b[00m \u001b[1m\u001b[92mInternet Researcher\u001b[00m\n",
      "\u001b[95m## Thought:\u001b[00m \u001b[92mOkay, let's start by gathering information on 'crewAI tools'. I need to perform a series of web searches to cover the requested subtopics. I'll start with a broad search to get an overview and then refine my searches based on the initial results.\u001b[00m\n",
      "\u001b[95m## Using tool:\u001b[00m \u001b[92mWeb Search Tool\u001b[00m\n",
      "\u001b[95m## Tool Input:\u001b[00m \u001b[92m\n",
      "\"{\\\"title\\\": \\\"crewAI tools\\\"}\"\u001b[00m\n",
      "\u001b[95m## Tool Output:\u001b[00m \u001b[92m\n",
      "[{'link': 'https://docs.crewai.com/concepts/tools', 'display_link': 'https://docs.crewai.com › concepts › tools', 'title': 'Tools', 'description': 'CrewAI tools empower agents with capabilities ranging from web searching and data analysis to collaboration and delegating tasks among coworkers. This ...', 'extensions': [{'type': 'site_link', 'text': 'Key Characteristics of Tools', 'link': 'https://docs.crewai.com/concepts/tools#key-characteristics-of-tools', 'rank': 1}, {'type': 'site_link', 'text': 'Using CrewAI Tools', 'link': 'https://docs.crewai.com/concepts/tools#using-crewai-tools', 'rank': 2}, {'type': 'site_link', 'text': 'Available CrewAI Tools', 'link': 'https://docs.crewai.com/concepts/tools#available-crewai-tools', 'rank': 3}], 'rank': 1, 'global_rank': 1}, {'link': 'https://github.com/crewAIInc/crewAI-tools', 'display_link': 'https://github.com › crewAIInc › crewAI-tools', 'title': 'crewAIInc/crewAI-tools', 'description': 'CrewAI Tools provide the essential functionality to extend your agents, helping you rapidly enhance your automations with reliable, ready-to-use tools or custom ...', 'rank': 2, 'global_rank': 2}, {'link': 'https://docs.crewai.com/introduction', 'display_link': 'https://docs.crewai.com › introduction', 'title': 'CrewAI: Introduction', 'description': 'CrewAI Crews: Optimize for autonomy and collaborative intelligence, enabling you to create AI teams where each agent has specific roles, tools, and goals.', 'extensions': [{'type': 'site_link', 'text': 'Agents', 'link': 'https://docs.crewai.com/concepts/agents', 'rank': 1}, {'type': 'site_link', 'text': 'Quickstart', 'link': 'https://docs.crewai.com/quickstart', 'rank': 2}, {'type': 'site_link', 'text': 'Installation', 'link': 'https://docs.crewai.com/installation', 'rank': 3}, {'type': 'site_link', 'text': 'Flows', 'link': 'https://docs.crewai.com/concepts/flows', 'rank': 4}], 'rank': 3, 'global_rank': 3}, {'link': 'https://docs.crewai.com/how-to/create-custom-tools', 'display_link': 'https://docs.crewai.com › how-to › create-custom-tools', 'title': 'Create Custom Tools', 'description': 'Comprehensive guide on crafting, using, and managing custom tools within the CrewAI framework, including new functionalities and error handling.', 'rank': 4, 'global_rank': 4}, {'link': 'https://www.youtube.com/watch?v=XrdPxV12QcE', 'display_link': '8.6K+ views · 2 months ago', 'title': '11 Tools to Save You Hours of Time in CrewAI', 'description': \"I'm going to show you 11 code examples of how to use crew AI tools to upgrade your AI agents.\", 'image': 'data:image/jpeg;base64,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', 'image_base64': 'data:image/jpeg;base64,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', 'duration': '20:29', 'duration_sec': 1229, 'rank': 5, 'global_rank': 5}, {'link': 'https://github.com/crewAIInc/crewAI', 'display_link': 'https://github.com › crewAIInc › crewAI', 'title': 'crewAIInc/crewAI', 'description': 'CrewAI is a lean, lightning-fast Python framework built entirely from scratch—completely independent of LangChain or other agent frameworks.', 'rank': 6, 'global_rank': 6}, {'link': 'https://www.crewai.com/', 'display_link': 'https://www.crewai.com', 'title': 'CrewAI', 'description': \"Start by using CrewAI's framework or UI Studio to build your multi-agent automations—whether coding from scratch or leveraging our no-code tools and templates.\", 'extensions': [{'type': 'site_link', 'text': 'Docs', 'link': 'https://docs.crewai.com/introduction', 'rank': 1}, {'type': 'site_link', 'text': 'CrewAI', 'link': 'https://blog.crewai.com/', 'rank': 2}, {'type': 'site_link', 'text': 'Open source', 'link': 'https://www.crewai.com/open-source', 'rank': 3}, {'type': 'site_link', 'text': 'Use Cases', 'link': 'https://www.crewai.com/use-cases', 'rank': 4}], 'rank': 7, 'global_rank': 7}, {'link': 'https://www.reddit.com/r/crewai/comments/1cjkc5s/can_some_please_post_a_super_simple_example_of_a/', 'display_link': '9 comments · 10 months ago', 'title': 'Can some please post a super simple example of a custom ...', 'description': 'Can some please post a super simple example of a custom tool in use? For example... I have a list of numbers that one of my tasks retreived ...', 'rank': 8, 'global_rank': 8}, {'link': 'https://medium.com/@smrati.katiyar/creating-custom-tooling-for-your-llm-using-crewai-69ce9859bb89', 'display_link': '6 likes · 4 months ago', 'title': 'Creating custom tooling for your LLM using CrewAI', 'description': 'Below i am going to show a very fundamental example about how you can create custom tool in crew AI and use it with your LLM.', 'rank': 9, 'global_rank': 9}, {'link': 'https://crewai.net/posts/crewai-tool/', 'display_link': 'https://crewai.net › posts › crewai-tool', 'title': 'Crewai:Tool', 'description': 'CrewAI framework introduces flexibility and efficiency to AI workflows through customized tasks, tool integration, and agent collaboration, ...', 'extensions': [{'inline': True, 'type': 'text', 'text': 'Feb 28, 2024', 'rank': 1}], 'rank': 10, 'global_rank': 10}, {'link': 'https://docs.exa.ai/reference/crewai', 'display_link': 'https://docs.exa.ai › reference › crewai', 'title': 'CrewAI agents with Exa', 'description': \"CrewAI is a framework for orchestrating AI agents that work together to accomplish complex tasks. In this guide, we'll create a crew of two agents that ...\", 'rank': 11, 'global_rank': 11}, {'link': 'https://www.youtube.com/watch?v=rcmMK-zkxrQ', 'display_link': '5.7K+ views · 5 months ago', 'title': \"Let's Create a CUSTOM AI Tool with CrewAI | [Day 4 of 8]\", 'description': \"In this video I'm going to show you how to create your own custom tool.\", 'image': 'https://i.ytimg.com/vi/rcmMK-zkxrQ/mqdefault.jpg?sqp=-oaymwEFCJQBEFM&rs=AMzJL3kvBvX8aEqGmrbzyoP5--rqadgG1w', 'image_url': 'https://i.ytimg.com/vi/rcmMK-zkxrQ/mqdefault.jpg?sqp=-oaymwEFCJQBEFM&rs=AMzJL3kvBvX8aEqGmrbzyoP5--rqadgG1w', 'duration': '10:45', 'duration_sec': 645, 'rank': 12, 'global_rank': 12}, {'link': 'https://pypi.org/project/crewai-tools/0.0.1/', 'display_link': 'https://pypi.org › project › crewai-tools', 'title': 'crewai-tools', 'description': 'Set of tools for the crewAI framework. Navigation. Project description; Release history; Download files. Verified details. These details have been verified ...', 'rank': 13, 'global_rank': 13}, {'link': 'https://www.restack.io/p/crewai-answer-tools-list-overview-cat-ai', 'display_link': 'https://www.restack.io › crewai-answer-tools-list-overvi...', 'title': 'CrewAI tools list overview | Restackio', 'description': 'CrewAI tools empower agents with capabilities ranging from web searching and data analysis to collaboration and delegating tasks among coworkers.', 'rank': 14, 'global_rank': 14}, {'link': 'https://docs.crewai.com/concepts/langchain-tools', 'display_link': 'https://docs.crewai.com › concepts › langchain-tools', 'title': 'Using LangChain Tools', 'description': 'Learn how to integrate LangChain tools with CrewAI agents to enhance search-based queries and more.', 'rank': 15, 'global_rank': 15}, {'link': 'https://www.deeplearning.ai/short-courses/multi-ai-agent-systems-with-crewai/', 'display_link': 'https://www.deeplearning.ai › Courses', 'title': 'Multi AI Agent Systems with crewAI', 'description': 'Tools: Assign pre-built and custom tools to each agent (e.g. for web search); Focus: Break down the tasks, goals, and tools and assign to multiple AI agents for ...', 'rank': 16, 'global_rank': 16}, {'link': 'https://medium.com/@pankaja.ambalgi/transform-your-content-creation-with-crewai-using-serperdev-and-youtube-search-tools-21bcc2ccc642', 'display_link': '3 likes · 8 months ago', 'title': 'With CrewAI using Agents and Tools | by Pankaja Ambalgi', 'description': '1. SerperDevTool from Crew AI: The SerperDevTool is used to interact with search engines and retrieve search results. · 2. YouTube Search Tool ...', 'rank': 17, 'global_rank': 17}, {'link': 'https://www.datacamp.com/tutorial/crew-ai', 'display_link': 'https://www.datacamp.com › tutorial › crew-ai', 'title': 'CrewAI: A Guide With Examples of Multi AI Agent Systems', 'description': 'CrewAI supports tools like web search engines, language models, data analysis tools, and even custom-built functionalities. This enables agents ...', 'extensions': [{'inline': True, 'type': 'text', 'text': 'Sep 12, 2024', 'rank': 1}], 'rank': 18, 'global_rank': 18}, {'link': 'https://www.ibm.com/think/topics/crew-ai', 'display_link': 'https://www.ibm.com › think › topics › crew-ai', 'title': 'What is crewAI?', 'description': 'crewAI is an open source multi-agent orchestration framework created by João Moura. This Python-based framework leverages artificial intelligence (AI) ...', 'rank': 19, 'global_rank': 19}, {'link': 'https://composio.dev/blog/crewai-examples/', 'display_link': 'https://composio.dev › blog › crewai-examples', 'title': 'Deep dive into CrewAI (With Examples)', 'description': \"This article aims to provide a comprehensive overview of the CrewAI platform's components through two CrewAI Examples walkthroughs.\", 'extensions': [{'inline': True, 'type': 'text', 'text': 'Apr 25, 2024', 'rank': 1}], 'rank': 20, 'global_rank': 20}, {'link': 'https://docs.firecrawl.dev/integrations/crewai', 'display_link': 'https://docs.firecrawl.dev › integrations › crewai', 'title': 'CrewAI', 'description': 'Firecrawl is integrated with CrewAI, the framework for orchestrating AI agents. This page introduces all of the Firecrawl tools added to the framework.', 'rank': 21, 'global_rank': 21}, {'link': 'https://www.linkedin.com/posts/andrewyng_ive-really-enjoyed-using-crewai-tools-to-activity-7189353879212290048-5a-n', 'display_link': '3.2K+ reactions · 11 months ago', 'title': \"I've really enjoyed using crewAI tools to build multiagent AI ...\", 'description': \"I've really enjoyed using crewAI tools to build multiagent AI systems -- in addition to being productive, it's also fun to use!\", 'rank': 22, 'global_rank': 22}, {'link': 'https://ai.plainenglish.io/crewais-task-tool-vs-agent-tool-the-differences-you-must-know-f466262951a0', 'display_link': 'https://ai.plainenglish.io › crewais-task-tool-vs-agent-to...', 'title': \"CrewAI's Task Tool vs. Agent Tool: The differences you MUST ...\", 'description': 'A tool in CrewAI is essentially a skill or function that an agent can utilize to perform various actions. Think of it as giving your AI ...', 'extensions': [{'inline': True, 'type': 'text', 'text': 'Sep 10, 2024', 'rank': 1}], 'rank': 23, 'global_rank': 23}, {'link': 'https://www.reddit.com/r/AI_Agents/comments/1iq72wb/crewai_not_able_to_generate_correct_arguments/', 'display_link': '3 comments · 1 month ago', 'title': 'Crewai not able to generate correct arguments input for ...', 'description': \"This appears to be a common issue when first working with CrewAI's tool system. The most likely cause is that the input key needs to be passed ...\", 'rank': 24, 'global_rank': 24}, {'link': 'https://crewai.net/', 'display_link': 'https://crewai.net', 'title': 'Crew AI', 'description': 'CrewAI framework introduces flexibility and efficiency to AI workflows through customized tasks, tool integration, and agent collaboration, ushering in a new ...', 'rank': 25, 'global_rank': 25}, {'link': 'https://www.youtube.com/watch?v=UV81LAb3x2g', 'display_link': '78.9K+ views · 10 months ago', 'title': 'crewAI Crash Course For Beginners-How To Create Multi AI ...', 'description': 'CrewAI tools empower agents with capabilities ranging from web searching and data analysis to collaboration and delegating tasks among ...', 'image': 'https://i.ytimg.com/vi/UV81LAb3x2g/mqdefault.jpg?sqp=-oaymwEFCJQBEFM&rs=AMzJL3mHaGo9EuZxCtVzwLakeOoqV4vuTA', 'image_url': 'https://i.ytimg.com/vi/UV81LAb3x2g/mqdefault.jpg?sqp=-oaymwEFCJQBEFM&rs=AMzJL3mHaGo9EuZxCtVzwLakeOoqV4vuTA', 'duration': '32:42', 'duration_sec': 1962, 'rank': 26, 'global_rank': 26}, {'link': 'https://learn.deeplearning.ai/courses/multi-ai-agent-systems-with-crewai/lesson/wwou5/introduction', 'display_link': 'https://learn.deeplearning.ai › wwou5 › introduction', 'title': 'Multi AI Agent Systems with crewAI - DeepLearning. ...', 'description': 'Automate business workflows with multi-AI agent systems. Exceed the performance of prompting a single LLM by designing and prompting a team of AI agents ...', 'rank': 27, 'global_rank': 27}, {'link': 'https://alejandro-ao.com/crew-ai-crash-course-step-by-step/', 'display_link': 'https://alejandro-ao.com › crew-ai-crash-course-step-by...', 'title': 'Crew AI Crash Course (Step by Step)', 'description': 'CrewAI is a new tool that allows us to create our own teams of autonomous agents, all of them working for us. CrewAI Agents. Each agent is an ...', 'extensions': [{'inline': True, 'type': 'text', 'text': 'Mar 28, 2024', 'rank': 1}], 'rank': 28, 'global_rank': 28}, {'link': 'https://www.analyticsvidhya.com/blog/2024/11/build-your-first-agent-with-no-code-tools/', 'display_link': 'https://www.analyticsvidhya.com › blog › 2024/11 › b...', 'title': 'Build LLM Agents on the Fly Without Code With CrewAI', 'description': 'You can easily build your agentic systems with no-code tools by using either pre-built templates or Crew Studio, which are available on the crewAI platform.', 'extensions': [{'inline': True, 'type': 'text', 'text': 'Nov 14, 2024', 'rank': 1}], 'rank': 29, 'global_rank': 29}, {'link': 'https://docs.browserbase.com/integrations/crew-ai/introduction', 'display_link': 'https://docs.browserbase.com › crew-ai › introduction', 'title': 'crewAI Integration', 'description': 'crewAI is a framework to create Crews, teams of Agents working together on a given problem. For example, searching for a flight.', 'rank': 30, 'global_rank': 30}, {'link': 'https://www.restack.io/p/crewai-answer-tools-control-procedure-cat-ai', 'display_link': 'https://www.restack.io › crewai-answer-tools-control-pr...', 'title': 'CrewAI tools control procedure | Restackio', 'description': 'CrewAI tools empower agents with capabilities ranging from web searching and data analysis to collaboration and delegating tasks among coworkers ...', 'extensions': [{'inline': True, 'type': 'text', 'text': 'Feb 21, 2025', 'rank': 1}], 'rank': 31, 'global_rank': 31}, {'link': 'https://pypi.org/project/crewai-tools/0.2.4/', 'display_link': 'https://pypi.org › project › crewai-tools', 'title': 'crewai-tools', 'description': 'This document provides a comprehensive guide for setting up sophisticated tools for crewAI agents, facilitating the creation of bespoke tooling ...', 'extensions': [{'inline': True, 'type': 'text', 'text': 'May 6, 2024', 'rank': 1}], 'rank': 32, 'global_rank': 32}, {'link': 'https://slashdot.org/software/ai-tools/for-crewai/', 'display_link': 'https://slashdot.org › ... › AI Tools', 'title': 'Top AI Tools for CrewAI in 2025', 'description': 'Find the top AI Tools for CrewAI in 2025 for your company. Compare the best AI Tools for CrewAI, read reviews, and learn about pricing and free demos.', 'rank': 33, 'global_rank': 33}, {'link': 'https://docs.crewai.com/concepts/llamaindex-tools', 'display_link': 'https://docs.crewai.com › concepts › llamaindex-tools', 'title': 'Using LlamaIndex Tools', 'description': 'Learn how to integrate LlamaIndex tools with CrewAI agents to enhance search-based queries and more.', 'rank': 34, 'global_rank': 34}, {'link': 'https://www.futuretools.io/tools/crewai', 'display_link': 'https://www.futuretools.io › tools › crewai', 'title': 'CrewAI', 'description': 'CrewAI is an open-source multi-agent orchestration framework that enables the creation of automated workflows using AI agents. It allows users to deploy ...', 'rank': 35, 'global_rank': 35}, {'link': 'https://www.youtube.com/watch?v=BAY71UzrT78', 'display_link': '6.1K+ views · 5 months ago', 'title': \"Let's Google Search and Website Scrape with CrewAI Tools ...\", 'description': 'Learn how to use Ser Dev for Google searching then use a scrape website tool to scrape the websites that Google search returns for us.', 'image': 'https://i.ytimg.com/vi/BAY71UzrT78/mqdefault.jpg?sqp=-oaymwEFCJQBEFM&rs=AMzJL3nw05jFpnBj0Lr8ccpTtNddrMG2Gg', 'image_url': 'https://i.ytimg.com/vi/BAY71UzrT78/mqdefault.jpg?sqp=-oaymwEFCJQBEFM&rs=AMzJL3nw05jFpnBj0Lr8ccpTtNddrMG2Gg', 'duration': '12:36', 'duration_sec': 756, 'rank': 36, 'global_rank': 36}, {'link': 'https://composio.dev/blog/openai-agents-sdk-vs-langgraph-vs-autogen-vs-crewai/', 'display_link': 'https://composio.dev › blog › openai-agents-sdk-vs-lan...', 'title': 'OpenAI Agents SDK vs LangGraph vs Autogen vs CrewAI', 'description': 'In this blog post, we explore OpenAI Agents SDK, its features and components and compare it with LangGraph, Autogen, and CrewAI.', 'extensions': [{'inline': True, 'type': 'text', 'text': '8 days ago', 'rank': 1}], 'rank': 37, 'global_rank': 37}, {'link': 'https://www.skool.com/ai-developer-accelerator/crewai-visualizer-v02', 'display_link': 'https://www.skool.com › ai-developer-accelerator › cre...', 'title': 'CrewAI Visualizer V0.2 · AI Developer Accelerator', 'description': '🛠️ New Tools: Now you can leverage ARXIV to search scientific articles and PubMed to answer health-related questions. Enhanced UI: Enjoy a smoother user ...', 'rank': 38, 'global_rank': 38}, {'link': 'https://www.youtube.com/watch?v=aXAXpwxp26M', 'display_link': '100+ views · 3 months ago', 'title': 'How to Implement Tools in CrewAI | Understanding The ...', 'description': 'Description. We look at the various tools that is available in crewai ecosystem already from a higher level, and then we dive into the tool ...', 'image': 'https://i.ytimg.com/vi/aXAXpwxp26M/mqdefault.jpg?sqp=-oaymwEFCJQBEFM&rs=AMzJL3lG824BeR0FoKWFOWSsJnpt8uANvg', 'image_url': 'https://i.ytimg.com/vi/aXAXpwxp26M/mqdefault.jpg?sqp=-oaymwEFCJQBEFM&rs=AMzJL3lG824BeR0FoKWFOWSsJnpt8uANvg', 'duration': '4:46', 'duration_sec': 286, 'rank': 39, 'global_rank': 39}, {'link': 'https://www.ionio.ai/blog/how-to-build-llm-agent-to-automate-your-code-review-workflow-using-crewai', 'display_link': 'https://www.ionio.ai › blog › how-to-build-llm-agent-to...', 'title': 'How to build LLM agent to automate your code review ...', 'description': 'In this blog, we will explore crewAI and its functionalities and also we will create one crew which will automate a code review workflow for us.', 'rank': 40, 'global_rank': 40}, {'link': 'https://sourceforge.net/software/ai-sales-tools/integrates-with-crewai/', 'display_link': 'https://sourceforge.net › ... › Sales › AI Sales Tools', 'title': 'Best AI Sales Tools for CrewAI', 'description': 'This a list of AI Sales Tools that integrate with CrewAI. Use the filters on the left to add additional filters for products that have integrations with ...', 'rank': 41, 'global_rank': 41}, {'link': 'https://docs.crewai.com/tools/websitesearchtool', 'display_link': 'https://docs.crewai.com › tools › websitesearchtool', 'title': 'Website RAG Search', 'description': \"pip install 'crewai[tools]'. This command installs the necessary dependencies to ensure that once the tool is fully integrated, users can start using it ...\", 'rank': 42, 'global_rank': 42}, {'link': 'https://dev.to/copilotkit/how-to-build-full-stack-ai-agents-crewai-copilotkit-1fn6', 'display_link': 'https://dev.to › copilotkit › how-to-build-full-stack-ai-a...', 'title': 'How To Build Full-Stack AI Agents 🚀 (CrewAI + CopilotKit)', 'description': 'crew.py - Crew orchestration and coordination. tools/ - Directory for custom agent tools. Next, create a .env file in the root directory. Then ...', 'extensions': [{'inline': True, 'type': 'text', 'text': '1 day ago', 'rank': 1}], 'rank': 43, 'global_rank': 43}, {'link': 'https://www.youtube.com/watch?v=YAtu_bQHcMs', 'display_link': '110+ views · 6 days ago', 'title': 'Create ANYTHING with bolt.new + CrewAI (5 Steps)', 'description': '11 Tools to Save You Hours of Time in CrewAI. Tyler AI•8.7K views · 22 ... Why Perplexity AI Is Becoming The MOST Essential Tool. Matt ...', 'image': 'https://i.ytimg.com/vi/YAtu_bQHcMs/mqdefault.jpg?sqp=-oaymwEFCJQBEFM&rs=AMzJL3k5p6twPpgiQRe5TK7FNz4mPUY1sg', 'image_url': 'https://i.ytimg.com/vi/YAtu_bQHcMs/mqdefault.jpg?sqp=-oaymwEFCJQBEFM&rs=AMzJL3k5p6twPpgiQRe5TK7FNz4mPUY1sg', 'duration': '16:42', 'duration_sec': 1002, 'rank': 44, 'global_rank': 44}, {'link': 'https://www.analyticsvidhya.com/blog/2024/01/building-collaborative-ai-agents-with-crewai/', 'display_link': 'https://www.analyticsvidhya.com › blog › 2024/01 › b...', 'title': 'Building Collaborative AI Agents With CrewAI', 'description': 'CrewAI is an open-source framework for orchestrating role-playing and autonomous AI agents. It helps create collaborative AI agents to ...', 'extensions': [{'inline': True, 'type': 'text', 'text': 'Jan 30, 2024', 'rank': 1}], 'rank': 45, 'global_rank': 45}, {'link': 'https://www.youtube.com/watch?v=Sf9WSgKOxyM', 'display_link': '560+ views · 2 months ago', 'title': 'CrewAI - Crash Course | Tools in CrewAI | Part - 4', 'description': 'CrewAI - Crash Course | Tools in CrewAI | Part - 4 Crew AI is getting well-established as one of the go-to Python frameworks for developing ...', 'image': 'https://i.ytimg.com/vi/Sf9WSgKOxyM/mqdefault.jpg?sqp=-oaymwEFCJQBEFM&rs=AMzJL3nRwfz_DTJhKUA7XN2B3lfabhhPCQ', 'image_url': 'https://i.ytimg.com/vi/Sf9WSgKOxyM/mqdefault.jpg?sqp=-oaymwEFCJQBEFM&rs=AMzJL3nRwfz_DTJhKUA7XN2B3lfabhhPCQ', 'duration': '12:27', 'duration_sec': 747, 'rank': 46, 'global_rank': 46}, {'link': 'https://www.toolify.ai/ai-news/automate-realworld-tasks-with-crewai-a-comprehensive-tutorial-2442068', 'display_link': 'https://www.toolify.ai › ai-news › automate-realworld-tas...', 'title': 'Automate Real-World Tasks with CrewAI', 'description': 'Introduction · Setting Up Crew AI · Accessing Native Tools · Building Custom Tools · Using Lightning AI IDE · Creating Agents · Defining Roles and ...', 'extensions': [{'inline': True, 'type': 'text', 'text': 'Mar 1, 2024', 'rank': 1}], 'rank': 47, 'global_rank': 47}, {'link': 'https://docs.crewai.com/installation', 'display_link': 'https://docs.crewai.com › installation', 'title': 'Installation', 'description': 'uv tool install crewai. If you encounter a PATH warning, run this command to update your shell: Copy. uv tool update-shell. To verify that crewai is installed, ...', 'rank': 48, 'global_rank': 48}, {'link': 'https://huggingface.co/blog/Kseniase/mcp', 'display_link': 'https://huggingface.co › blog › Kseniase › mcp', 'title': '14: What Is MCP, and Why Is Everyone – Suddenly!', 'description': 'It complements agent orchestration tools like LangChain, LangGraph, CrewAI, or LlamaIndex by serving as a unified \"toolbox\" from which AI agents ...', 'extensions': [{'inline': True, 'type': 'text', 'text': 'Mar 17, 2025', 'rank': 1}], 'rank': 49, 'global_rank': 49}]\u001b[00m\n"
     ]
    },
    {
     "data": {
      "text/html": [
       "<pre style=\"white-space:pre;overflow-x:auto;line-height:normal;font-family:Menlo,'DejaVu Sans Mono',consolas,'Courier New',monospace\"><span style=\"color: #008080; text-decoration-color: #008080; font-weight: bold\">🚀 Crew: crew</span>\n",
       "└── <span style=\"color: #808000; text-decoration-color: #808000; font-weight: bold\">📋 Task: fa00a864-6122-4cc4-9d5a-3e728596047f</span>\n",
       "    <span style=\"color: #c0c0c0; text-decoration-color: #c0c0c0\">   Status: </span><span style=\"color: #bfbf7f; text-decoration-color: #bfbf7f\">Executing Task...</span>\n",
       "    └── <span style=\"color: #008000; text-decoration-color: #008000; font-weight: bold\">🤖 Agent: </span><span style=\"color: #008000; text-decoration-color: #008000\">Internet Researcher</span>\n",
       "        <span style=\"color: #c0c0c0; text-decoration-color: #c0c0c0\">    Status: </span><span style=\"color: #008000; text-decoration-color: #008000; font-weight: bold\">In Progress</span>\n",
       "        ├── <span style=\"color: #008000; text-decoration-color: #008000; font-weight: bold\">🔧 </span><span style=\"color: #008000; text-decoration-color: #008000\">Used Web Search Tool (1)</span>\n",
       "        └── <span style=\"color: #000080; text-decoration-color: #000080; font-weight: bold\">🧠 </span><span style=\"color: #000080; text-decoration-color: #000080\">Thinking...</span>\n",
       "</pre>\n"
      ],
      "text/plain": [
       "\u001b[1;36m🚀 Crew: \u001b[0m\u001b[1;36mcrew\u001b[0m\n",
       "└── \u001b[1;33m📋 Task: fa00a864-6122-4cc4-9d5a-3e728596047f\u001b[0m\n",
       "    \u001b[37m   Status: \u001b[0m\u001b[2;33mExecuting Task...\u001b[0m\n",
       "    └── \u001b[1;32m🤖 Agent: \u001b[0m\u001b[32mInternet Researcher\u001b[0m\n",
       "        \u001b[37m    Status: \u001b[0m\u001b[1;32mIn Progress\u001b[0m\n",
       "        ├── \u001b[1;32m🔧 \u001b[0m\u001b[32mUsed Web Search Tool (1)\u001b[0m\n",
       "        └── \u001b[1;34m🧠 \u001b[0m\u001b[34mThinking...\u001b[0m\n"
      ]
     },
     "metadata": {},
     "output_type": "display_data"
    },
    {
     "data": {
      "text/html": [
       "<pre style=\"white-space:pre;overflow-x:auto;line-height:normal;font-family:Menlo,'DejaVu Sans Mono',consolas,'Courier New',monospace\">\n",
       "</pre>\n"
      ],
      "text/plain": [
       "\n"
      ]
     },
     "metadata": {},
     "output_type": "display_data"
    },
    {
     "data": {
      "text/html": [
       "<pre style=\"white-space:pre;overflow-x:auto;line-height:normal;font-family:Menlo,'DejaVu Sans Mono',consolas,'Courier New',monospace\"><span style=\"color: #008080; text-decoration-color: #008080; font-weight: bold\">🚀 Crew: crew</span>\n",
       "└── <span style=\"color: #808000; text-decoration-color: #808000; font-weight: bold\">📋 Task: fa00a864-6122-4cc4-9d5a-3e728596047f</span>\n",
       "    <span style=\"color: #c0c0c0; text-decoration-color: #c0c0c0\">   Status: </span><span style=\"color: #bfbf7f; text-decoration-color: #bfbf7f\">Executing Task...</span>\n",
       "    └── <span style=\"color: #008000; text-decoration-color: #008000; font-weight: bold\">🤖 Agent: </span><span style=\"color: #008000; text-decoration-color: #008000\">Internet Researcher</span>\n",
       "        <span style=\"color: #c0c0c0; text-decoration-color: #c0c0c0\">    Status: </span><span style=\"color: #008000; text-decoration-color: #008000; font-weight: bold\">In Progress</span>\n",
       "        └── <span style=\"color: #008000; text-decoration-color: #008000; font-weight: bold\">🔧 </span><span style=\"color: #008000; text-decoration-color: #008000\">Used Web Search Tool (1)</span>\n",
       "</pre>\n"
      ],
      "text/plain": [
       "\u001b[1;36m🚀 Crew: \u001b[0m\u001b[1;36mcrew\u001b[0m\n",
       "└── \u001b[1;33m📋 Task: fa00a864-6122-4cc4-9d5a-3e728596047f\u001b[0m\n",
       "    \u001b[37m   Status: \u001b[0m\u001b[2;33mExecuting Task...\u001b[0m\n",
       "    └── \u001b[1;32m🤖 Agent: \u001b[0m\u001b[32mInternet Researcher\u001b[0m\n",
       "        \u001b[37m    Status: \u001b[0m\u001b[1;32mIn Progress\u001b[0m\n",
       "        └── \u001b[1;32m🔧 \u001b[0m\u001b[32mUsed Web Search Tool (1)\u001b[0m\n"
      ]
     },
     "metadata": {},
     "output_type": "display_data"
    },
    {
     "data": {
      "text/html": [
       "<pre style=\"white-space:pre;overflow-x:auto;line-height:normal;font-family:Menlo,'DejaVu Sans Mono',consolas,'Courier New',monospace\">\n",
       "</pre>\n"
      ],
      "text/plain": [
       "\n"
      ]
     },
     "metadata": {},
     "output_type": "display_data"
    },
    {
     "data": {
      "text/html": [
       "<pre style=\"white-space:pre;overflow-x:auto;line-height:normal;font-family:Menlo,'DejaVu Sans Mono',consolas,'Courier New',monospace\"><span style=\"color: #008080; text-decoration-color: #008080; font-weight: bold\">🚀 Crew: crew</span>\n",
       "└── <span style=\"color: #808000; text-decoration-color: #808000; font-weight: bold\">📋 Task: fa00a864-6122-4cc4-9d5a-3e728596047f</span>\n",
       "    <span style=\"color: #c0c0c0; text-decoration-color: #c0c0c0\">   Status: </span><span style=\"color: #bfbf7f; text-decoration-color: #bfbf7f\">Executing Task...</span>\n",
       "    └── <span style=\"color: #008000; text-decoration-color: #008000; font-weight: bold\">🤖 Agent: </span><span style=\"color: #008000; text-decoration-color: #008000\">Internet Researcher</span>\n",
       "        <span style=\"color: #c0c0c0; text-decoration-color: #c0c0c0\">    Status: </span><span style=\"color: #008000; text-decoration-color: #008000; font-weight: bold\">In Progress</span>\n",
       "        ├── <span style=\"color: #008000; text-decoration-color: #008000; font-weight: bold\">🔧 </span><span style=\"color: #008000; text-decoration-color: #008000\">Used Web Search Tool (1)</span>\n",
       "        └── <span style=\"color: #000080; text-decoration-color: #000080; font-weight: bold\">🧠 </span><span style=\"color: #000080; text-decoration-color: #000080\">Thinking...</span>\n",
       "</pre>\n"
      ],
      "text/plain": [
       "\u001b[1;36m🚀 Crew: \u001b[0m\u001b[1;36mcrew\u001b[0m\n",
       "└── \u001b[1;33m📋 Task: fa00a864-6122-4cc4-9d5a-3e728596047f\u001b[0m\n",
       "    \u001b[37m   Status: \u001b[0m\u001b[2;33mExecuting Task...\u001b[0m\n",
       "    └── \u001b[1;32m🤖 Agent: \u001b[0m\u001b[32mInternet Researcher\u001b[0m\n",
       "        \u001b[37m    Status: \u001b[0m\u001b[1;32mIn Progress\u001b[0m\n",
       "        ├── \u001b[1;32m🔧 \u001b[0m\u001b[32mUsed Web Search Tool (1)\u001b[0m\n",
       "        └── \u001b[1;34m🧠 \u001b[0m\u001b[34mThinking...\u001b[0m\n"
      ]
     },
     "metadata": {},
     "output_type": "display_data"
    },
    {
     "data": {
      "text/html": [
       "<pre style=\"white-space:pre;overflow-x:auto;line-height:normal;font-family:Menlo,'DejaVu Sans Mono',consolas,'Courier New',monospace\">\n",
       "</pre>\n"
      ],
      "text/plain": [
       "\n"
      ]
     },
     "metadata": {},
     "output_type": "display_data"
    },
    {
     "data": {
      "text/html": [
       "<pre style=\"white-space:pre;overflow-x:auto;line-height:normal;font-family:Menlo,'DejaVu Sans Mono',consolas,'Courier New',monospace\"><span style=\"color: #008080; text-decoration-color: #008080; font-weight: bold\">🚀 Crew: crew</span>\n",
       "└── <span style=\"color: #808000; text-decoration-color: #808000; font-weight: bold\">📋 Task: fa00a864-6122-4cc4-9d5a-3e728596047f</span>\n",
       "    <span style=\"color: #c0c0c0; text-decoration-color: #c0c0c0\">   Status: </span><span style=\"color: #bfbf7f; text-decoration-color: #bfbf7f\">Executing Task...</span>\n",
       "    └── <span style=\"color: #008000; text-decoration-color: #008000; font-weight: bold\">🤖 Agent: </span><span style=\"color: #008000; text-decoration-color: #008000\">Internet Researcher</span>\n",
       "        <span style=\"color: #c0c0c0; text-decoration-color: #c0c0c0\">    Status: </span><span style=\"color: #008000; text-decoration-color: #008000; font-weight: bold\">In Progress</span>\n",
       "        └── <span style=\"color: #008000; text-decoration-color: #008000; font-weight: bold\">🔧 </span><span style=\"color: #008000; text-decoration-color: #008000\">Used Web Search Tool (1)</span>\n",
       "</pre>\n"
      ],
      "text/plain": [
       "\u001b[1;36m🚀 Crew: \u001b[0m\u001b[1;36mcrew\u001b[0m\n",
       "└── \u001b[1;33m📋 Task: fa00a864-6122-4cc4-9d5a-3e728596047f\u001b[0m\n",
       "    \u001b[37m   Status: \u001b[0m\u001b[2;33mExecuting Task...\u001b[0m\n",
       "    └── \u001b[1;32m🤖 Agent: \u001b[0m\u001b[32mInternet Researcher\u001b[0m\n",
       "        \u001b[37m    Status: \u001b[0m\u001b[1;32mIn Progress\u001b[0m\n",
       "        └── \u001b[1;32m🔧 \u001b[0m\u001b[32mUsed Web Search Tool (1)\u001b[0m\n"
      ]
     },
     "metadata": {},
     "output_type": "display_data"
    },
    {
     "data": {
      "text/html": [
       "<pre style=\"white-space:pre;overflow-x:auto;line-height:normal;font-family:Menlo,'DejaVu Sans Mono',consolas,'Courier New',monospace\">\n",
       "</pre>\n"
      ],
      "text/plain": [
       "\n"
      ]
     },
     "metadata": {},
     "output_type": "display_data"
    },
    {
     "name": "stdout",
     "output_type": "stream",
     "text": [
      "\n",
      "\n",
      "\u001b[1m\u001b[95m# Agent:\u001b[00m \u001b[1m\u001b[92mInternet Researcher\u001b[00m\n",
      "\u001b[95m## Final Answer:\u001b[00m \u001b[92m\n",
      "CrewAI is an open-source framework for orchestrating role-playing and autonomous AI agents. It helps create collaborative AI agents to solve complex problems by allowing multiple AI agents to interact and work together. The framework provides tools for defining roles, setting up environments, and managing the flow of information between agents. It’s particularly useful for scenarios requiring complex reasoning, problem-solving, and creative collaboration.\u001b[00m\n",
      "\n",
      "\n"
     ]
    },
    {
     "data": {
      "text/html": [
       "<pre style=\"white-space:pre;overflow-x:auto;line-height:normal;font-family:Menlo,'DejaVu Sans Mono',consolas,'Courier New',monospace\"><span style=\"color: #008080; text-decoration-color: #008080; font-weight: bold\">🚀 Crew: crew</span>\n",
       "└── <span style=\"color: #808000; text-decoration-color: #808000; font-weight: bold\">📋 Task: fa00a864-6122-4cc4-9d5a-3e728596047f</span>\n",
       "    <span style=\"color: #c0c0c0; text-decoration-color: #c0c0c0\">   Status: </span><span style=\"color: #bfbf7f; text-decoration-color: #bfbf7f\">Executing Task...</span>\n",
       "    └── <span style=\"color: #008000; text-decoration-color: #008000; font-weight: bold\">🤖 Agent: </span><span style=\"color: #008000; text-decoration-color: #008000\">Internet Researcher</span>\n",
       "        <span style=\"color: #c0c0c0; text-decoration-color: #c0c0c0\">    Status: </span><span style=\"color: #008000; text-decoration-color: #008000; font-weight: bold\">✅ Completed</span>\n",
       "        └── <span style=\"color: #008000; text-decoration-color: #008000; font-weight: bold\">🔧 </span><span style=\"color: #008000; text-decoration-color: #008000\">Used Web Search Tool (1)</span>\n",
       "</pre>\n"
      ],
      "text/plain": [
       "\u001b[1;36m🚀 Crew: \u001b[0m\u001b[1;36mcrew\u001b[0m\n",
       "└── \u001b[1;33m📋 Task: fa00a864-6122-4cc4-9d5a-3e728596047f\u001b[0m\n",
       "    \u001b[37m   Status: \u001b[0m\u001b[2;33mExecuting Task...\u001b[0m\n",
       "    └── \u001b[1;32m🤖 Agent: \u001b[0m\u001b[32mInternet Researcher\u001b[0m\n",
       "        \u001b[37m    Status: \u001b[0m\u001b[1;32m✅ Completed\u001b[0m\n",
       "        └── \u001b[1;32m🔧 \u001b[0m\u001b[32mUsed Web Search Tool (1)\u001b[0m\n"
      ]
     },
     "metadata": {},
     "output_type": "display_data"
    },
    {
     "data": {
      "text/html": [
       "<pre style=\"white-space:pre;overflow-x:auto;line-height:normal;font-family:Menlo,'DejaVu Sans Mono',consolas,'Courier New',monospace\">\n",
       "</pre>\n"
      ],
      "text/plain": [
       "\n"
      ]
     },
     "metadata": {},
     "output_type": "display_data"
    },
    {
     "data": {
      "text/html": [
       "<pre style=\"white-space:pre;overflow-x:auto;line-height:normal;font-family:Menlo,'DejaVu Sans Mono',consolas,'Courier New',monospace\"><span style=\"color: #008080; text-decoration-color: #008080; font-weight: bold\">🚀 Crew: crew</span>\n",
       "└── <span style=\"color: #008000; text-decoration-color: #008000; font-weight: bold\">📋 Task: fa00a864-6122-4cc4-9d5a-3e728596047f</span>\n",
       "    <span style=\"color: #c0c0c0; text-decoration-color: #c0c0c0\">   Assigned to: </span><span style=\"color: #008000; text-decoration-color: #008000\">Internet Researcher</span>\n",
       "    <span style=\"color: #c0c0c0; text-decoration-color: #c0c0c0\">   Status: </span><span style=\"color: #008000; text-decoration-color: #008000; font-weight: bold\">✅ Completed</span>\n",
       "    └── <span style=\"color: #008000; text-decoration-color: #008000; font-weight: bold\">🤖 Agent: </span><span style=\"color: #008000; text-decoration-color: #008000\">Internet Researcher</span>\n",
       "        <span style=\"color: #c0c0c0; text-decoration-color: #c0c0c0\">    Status: </span><span style=\"color: #008000; text-decoration-color: #008000; font-weight: bold\">✅ Completed</span>\n",
       "        └── <span style=\"color: #008000; text-decoration-color: #008000; font-weight: bold\">🔧 </span><span style=\"color: #008000; text-decoration-color: #008000\">Used Web Search Tool (1)</span>\n",
       "</pre>\n"
      ],
      "text/plain": [
       "\u001b[1;36m🚀 Crew: \u001b[0m\u001b[1;36mcrew\u001b[0m\n",
       "└── \u001b[1;32m📋 Task: fa00a864-6122-4cc4-9d5a-3e728596047f\u001b[0m\n",
       "    \u001b[37m   Assigned to: \u001b[0m\u001b[32mInternet Researcher\u001b[0m\n",
       "    \u001b[37m   Status: \u001b[0m\u001b[1;32m✅ Completed\u001b[0m\n",
       "    └── \u001b[1;32m🤖 Agent: \u001b[0m\u001b[32mInternet Researcher\u001b[0m\n",
       "        \u001b[37m    Status: \u001b[0m\u001b[1;32m✅ Completed\u001b[0m\n",
       "        └── \u001b[1;32m🔧 \u001b[0m\u001b[32mUsed Web Search Tool (1)\u001b[0m\n"
      ]
     },
     "metadata": {},
     "output_type": "display_data"
    },
    {
     "data": {
      "text/html": [
       "<pre style=\"white-space:pre;overflow-x:auto;line-height:normal;font-family:Menlo,'DejaVu Sans Mono',consolas,'Courier New',monospace\"><span style=\"color: #008000; text-decoration-color: #008000\">╭──────────────────────────────────────────────── Task Completion ────────────────────────────────────────────────╮</span>\n",
       "<span style=\"color: #008000; text-decoration-color: #008000\">│</span>                                                                                                                 <span style=\"color: #008000; text-decoration-color: #008000\">│</span>\n",
       "<span style=\"color: #008000; text-decoration-color: #008000\">│</span>  <span style=\"color: #008000; text-decoration-color: #008000; font-weight: bold\">Task Completed</span>                                                                                                 <span style=\"color: #008000; text-decoration-color: #008000\">│</span>\n",
       "<span style=\"color: #008000; text-decoration-color: #008000\">│</span>  <span style=\"color: #c0c0c0; text-decoration-color: #c0c0c0\">Name: </span><span style=\"color: #008000; text-decoration-color: #008000\">fa00a864-6122-4cc4-9d5a-3e728596047f</span>                                                                     <span style=\"color: #008000; text-decoration-color: #008000\">│</span>\n",
       "<span style=\"color: #008000; text-decoration-color: #008000\">│</span>  <span style=\"color: #c0c0c0; text-decoration-color: #c0c0c0\">Agent: </span><span style=\"color: #008000; text-decoration-color: #008000\">Internet Researcher</span>                                                                                     <span style=\"color: #008000; text-decoration-color: #008000\">│</span>\n",
       "<span style=\"color: #008000; text-decoration-color: #008000\">│</span>                                                                                                                 <span style=\"color: #008000; text-decoration-color: #008000\">│</span>\n",
       "<span style=\"color: #008000; text-decoration-color: #008000\">│</span>                                                                                                                 <span style=\"color: #008000; text-decoration-color: #008000\">│</span>\n",
       "<span style=\"color: #008000; text-decoration-color: #008000\">╰─────────────────────────────────────────────────────────────────────────────────────────────────────────────────╯</span>\n",
       "</pre>\n"
      ],
      "text/plain": [
       "\u001b[32m╭─\u001b[0m\u001b[32m───────────────────────────────────────────────\u001b[0m\u001b[32m Task Completion \u001b[0m\u001b[32m───────────────────────────────────────────────\u001b[0m\u001b[32m─╮\u001b[0m\n",
       "\u001b[32m│\u001b[0m                                                                                                                 \u001b[32m│\u001b[0m\n",
       "\u001b[32m│\u001b[0m  \u001b[1;32mTask Completed\u001b[0m                                                                                                 \u001b[32m│\u001b[0m\n",
       "\u001b[32m│\u001b[0m  \u001b[37mName: \u001b[0m\u001b[32mfa00a864-6122-4cc4-9d5a-3e728596047f\u001b[0m                                                                     \u001b[32m│\u001b[0m\n",
       "\u001b[32m│\u001b[0m  \u001b[37mAgent: \u001b[0m\u001b[32mInternet Researcher\u001b[0m                                                                                     \u001b[32m│\u001b[0m\n",
       "\u001b[32m│\u001b[0m                                                                                                                 \u001b[32m│\u001b[0m\n",
       "\u001b[32m│\u001b[0m                                                                                                                 \u001b[32m│\u001b[0m\n",
       "\u001b[32m╰─────────────────────────────────────────────────────────────────────────────────────────────────────────────────╯\u001b[0m\n"
      ]
     },
     "metadata": {},
     "output_type": "display_data"
    },
    {
     "data": {
      "text/html": [
       "<pre style=\"white-space:pre;overflow-x:auto;line-height:normal;font-family:Menlo,'DejaVu Sans Mono',consolas,'Courier New',monospace\">\n",
       "</pre>\n"
      ],
      "text/plain": [
       "\n"
      ]
     },
     "metadata": {},
     "output_type": "display_data"
    },
    {
     "data": {
      "text/html": [
       "<pre style=\"white-space:pre;overflow-x:auto;line-height:normal;font-family:Menlo,'DejaVu Sans Mono',consolas,'Courier New',monospace\"><span style=\"color: #008080; text-decoration-color: #008080; font-weight: bold\">🚀 Crew: crew</span>\n",
       "├── <span style=\"color: #008000; text-decoration-color: #008000; font-weight: bold\">📋 Task: fa00a864-6122-4cc4-9d5a-3e728596047f</span>\n",
       "│   <span style=\"color: #c0c0c0; text-decoration-color: #c0c0c0\">   Assigned to: </span><span style=\"color: #008000; text-decoration-color: #008000\">Internet Researcher</span>\n",
       "│   <span style=\"color: #c0c0c0; text-decoration-color: #c0c0c0\">   Status: </span><span style=\"color: #008000; text-decoration-color: #008000; font-weight: bold\">✅ Completed</span>\n",
       "│   └── <span style=\"color: #008000; text-decoration-color: #008000; font-weight: bold\">🤖 Agent: </span><span style=\"color: #008000; text-decoration-color: #008000\">Internet Researcher</span>\n",
       "│       <span style=\"color: #c0c0c0; text-decoration-color: #c0c0c0\">    Status: </span><span style=\"color: #008000; text-decoration-color: #008000; font-weight: bold\">✅ Completed</span>\n",
       "│       └── <span style=\"color: #008000; text-decoration-color: #008000; font-weight: bold\">🔧 </span><span style=\"color: #008000; text-decoration-color: #008000\">Used Web Search Tool (1)</span>\n",
       "└── <span style=\"color: #808000; text-decoration-color: #808000; font-weight: bold\">📋 Task: 0894ef31-0356-40c4-8d88-96f923bcff80</span>\n",
       "    <span style=\"color: #c0c0c0; text-decoration-color: #c0c0c0\">   Status: </span><span style=\"color: #bfbf7f; text-decoration-color: #bfbf7f\">Executing Task...</span>\n",
       "</pre>\n"
      ],
      "text/plain": [
       "\u001b[1;36m🚀 Crew: \u001b[0m\u001b[1;36mcrew\u001b[0m\n",
       "├── \u001b[1;32m📋 Task: fa00a864-6122-4cc4-9d5a-3e728596047f\u001b[0m\n",
       "│   \u001b[37m   Assigned to: \u001b[0m\u001b[32mInternet Researcher\u001b[0m\n",
       "│   \u001b[37m   Status: \u001b[0m\u001b[1;32m✅ Completed\u001b[0m\n",
       "│   └── \u001b[1;32m🤖 Agent: \u001b[0m\u001b[32mInternet Researcher\u001b[0m\n",
       "│       \u001b[37m    Status: \u001b[0m\u001b[1;32m✅ Completed\u001b[0m\n",
       "│       └── \u001b[1;32m🔧 \u001b[0m\u001b[32mUsed Web Search Tool (1)\u001b[0m\n",
       "└── \u001b[1;33m📋 Task: 0894ef31-0356-40c4-8d88-96f923bcff80\u001b[0m\n",
       "    \u001b[37m   Status: \u001b[0m\u001b[2;33mExecuting Task...\u001b[0m\n"
      ]
     },
     "metadata": {},
     "output_type": "display_data"
    },
    {
     "data": {
      "text/html": [
       "<pre style=\"white-space:pre;overflow-x:auto;line-height:normal;font-family:Menlo,'DejaVu Sans Mono',consolas,'Courier New',monospace\">\n",
       "</pre>\n"
      ],
      "text/plain": [
       "\n"
      ]
     },
     "metadata": {},
     "output_type": "display_data"
    },
    {
     "data": {
      "text/html": [
       "<pre style=\"white-space:pre;overflow-x:auto;line-height:normal;font-family:Menlo,'DejaVu Sans Mono',consolas,'Courier New',monospace\"><span style=\"color: #008080; text-decoration-color: #008080; font-weight: bold\">🚀 Crew: crew</span>\n",
       "├── <span style=\"color: #008000; text-decoration-color: #008000; font-weight: bold\">📋 Task: fa00a864-6122-4cc4-9d5a-3e728596047f</span>\n",
       "│   <span style=\"color: #c0c0c0; text-decoration-color: #c0c0c0\">   Assigned to: </span><span style=\"color: #008000; text-decoration-color: #008000\">Internet Researcher</span>\n",
       "│   <span style=\"color: #c0c0c0; text-decoration-color: #c0c0c0\">   Status: </span><span style=\"color: #008000; text-decoration-color: #008000; font-weight: bold\">✅ Completed</span>\n",
       "│   └── <span style=\"color: #008000; text-decoration-color: #008000; font-weight: bold\">🤖 Agent: </span><span style=\"color: #008000; text-decoration-color: #008000\">Internet Researcher</span>\n",
       "│       <span style=\"color: #c0c0c0; text-decoration-color: #c0c0c0\">    Status: </span><span style=\"color: #008000; text-decoration-color: #008000; font-weight: bold\">✅ Completed</span>\n",
       "│       └── <span style=\"color: #008000; text-decoration-color: #008000; font-weight: bold\">🔧 </span><span style=\"color: #008000; text-decoration-color: #008000\">Used Web Search Tool (1)</span>\n",
       "└── <span style=\"color: #808000; text-decoration-color: #808000; font-weight: bold\">📋 Task: 0894ef31-0356-40c4-8d88-96f923bcff80</span>\n",
       "    <span style=\"color: #c0c0c0; text-decoration-color: #c0c0c0\">   Status: </span><span style=\"color: #bfbf7f; text-decoration-color: #bfbf7f\">Executing Task...</span>\n",
       "    └── <span style=\"color: #008000; text-decoration-color: #008000; font-weight: bold\">🤖 Agent: </span><span style=\"color: #008000; text-decoration-color: #008000\">Content Strategist</span>\n",
       "        <span style=\"color: #c0c0c0; text-decoration-color: #c0c0c0\">    Status: </span><span style=\"color: #008000; text-decoration-color: #008000; font-weight: bold\">In Progress</span>\n",
       "</pre>\n"
      ],
      "text/plain": [
       "\u001b[1;36m🚀 Crew: \u001b[0m\u001b[1;36mcrew\u001b[0m\n",
       "├── \u001b[1;32m📋 Task: fa00a864-6122-4cc4-9d5a-3e728596047f\u001b[0m\n",
       "│   \u001b[37m   Assigned to: \u001b[0m\u001b[32mInternet Researcher\u001b[0m\n",
       "│   \u001b[37m   Status: \u001b[0m\u001b[1;32m✅ Completed\u001b[0m\n",
       "│   └── \u001b[1;32m🤖 Agent: \u001b[0m\u001b[32mInternet Researcher\u001b[0m\n",
       "│       \u001b[37m    Status: \u001b[0m\u001b[1;32m✅ Completed\u001b[0m\n",
       "│       └── \u001b[1;32m🔧 \u001b[0m\u001b[32mUsed Web Search Tool (1)\u001b[0m\n",
       "└── \u001b[1;33m📋 Task: 0894ef31-0356-40c4-8d88-96f923bcff80\u001b[0m\n",
       "    \u001b[37m   Status: \u001b[0m\u001b[2;33mExecuting Task...\u001b[0m\n",
       "    └── \u001b[1;32m🤖 Agent: \u001b[0m\u001b[32mContent Strategist\u001b[0m\n",
       "        \u001b[37m    Status: \u001b[0m\u001b[1;32mIn Progress\u001b[0m\n"
      ]
     },
     "metadata": {},
     "output_type": "display_data"
    },
    {
     "data": {
      "text/html": [
       "<pre style=\"white-space:pre;overflow-x:auto;line-height:normal;font-family:Menlo,'DejaVu Sans Mono',consolas,'Courier New',monospace\">\n",
       "</pre>\n"
      ],
      "text/plain": [
       "\n"
      ]
     },
     "metadata": {},
     "output_type": "display_data"
    },
    {
     "name": "stdout",
     "output_type": "stream",
     "text": [
      "\u001b[1m\u001b[95m# Agent:\u001b[00m \u001b[1m\u001b[92mContent Strategist\u001b[00m\n",
      "\u001b[95m## Task:\u001b[00m \u001b[92mBased on the research provided, create a detailed outline for a book on 'crewAI tools'.\n",
      "    \n",
      "    The book should have no more than 2 chapters and should cover the most important aspects \n",
      "    of the topic based on the research.\n",
      "    \n",
      "    Your outline should include:\n",
      "    1. A compelling title for the book\n",
      "    2. An introduction section outlining the book's purpose and scope\n",
      "    3. 1-2 chapters with clear titles\n",
      "    4. 3-5 sections for each chapter with brief descriptions\n",
      "    5. A conclusion section\n",
      "    \n",
      "    Structure the outline logically, ensuring a smooth flow of information from basic \n",
      "    concepts to more advanced or specific content.\n",
      "    \n",
      "    Format the outline as JSON with the following structure:\n",
      "    {\n",
      "        \"title\": \"Book Title\",\n",
      "        \"introduction\": \"Brief description of the introduction\",\n",
      "        \"chapters\": [\n",
      "            {\n",
      "                \"title\": \"Chapter 1 Title\",\n",
      "                \"sections\": [\n",
      "                    {\"title\": \"Section 1 Title\", \"description\": \"Brief description\"},\n",
      "                    {\"title\": \"Section 2 Title\", \"description\": \"Brief description\"}\n",
      "                ]\n",
      "            }\n",
      "        ],\n",
      "        \"conclusion\": \"Brief description of the conclusion\"\n",
      "    }\u001b[00m\n"
     ]
    },
    {
     "data": {
      "text/html": [
       "<pre style=\"white-space:pre;overflow-x:auto;line-height:normal;font-family:Menlo,'DejaVu Sans Mono',consolas,'Courier New',monospace\"><span style=\"color: #008080; text-decoration-color: #008080; font-weight: bold\">🚀 Crew: crew</span>\n",
       "├── <span style=\"color: #008000; text-decoration-color: #008000; font-weight: bold\">📋 Task: fa00a864-6122-4cc4-9d5a-3e728596047f</span>\n",
       "│   <span style=\"color: #c0c0c0; text-decoration-color: #c0c0c0\">   Assigned to: </span><span style=\"color: #008000; text-decoration-color: #008000\">Internet Researcher</span>\n",
       "│   <span style=\"color: #c0c0c0; text-decoration-color: #c0c0c0\">   Status: </span><span style=\"color: #008000; text-decoration-color: #008000; font-weight: bold\">✅ Completed</span>\n",
       "│   └── <span style=\"color: #008000; text-decoration-color: #008000; font-weight: bold\">🤖 Agent: </span><span style=\"color: #008000; text-decoration-color: #008000\">Internet Researcher</span>\n",
       "│       <span style=\"color: #c0c0c0; text-decoration-color: #c0c0c0\">    Status: </span><span style=\"color: #008000; text-decoration-color: #008000; font-weight: bold\">✅ Completed</span>\n",
       "│       └── <span style=\"color: #008000; text-decoration-color: #008000; font-weight: bold\">🔧 </span><span style=\"color: #008000; text-decoration-color: #008000\">Used Web Search Tool (1)</span>\n",
       "└── <span style=\"color: #808000; text-decoration-color: #808000; font-weight: bold\">📋 Task: 0894ef31-0356-40c4-8d88-96f923bcff80</span>\n",
       "    <span style=\"color: #c0c0c0; text-decoration-color: #c0c0c0\">   Status: </span><span style=\"color: #bfbf7f; text-decoration-color: #bfbf7f\">Executing Task...</span>\n",
       "    └── <span style=\"color: #008000; text-decoration-color: #008000; font-weight: bold\">🤖 Agent: </span><span style=\"color: #008000; text-decoration-color: #008000\">Content Strategist</span>\n",
       "        <span style=\"color: #c0c0c0; text-decoration-color: #c0c0c0\">    Status: </span><span style=\"color: #008000; text-decoration-color: #008000; font-weight: bold\">In Progress</span>\n",
       "        └── <span style=\"color: #000080; text-decoration-color: #000080; font-weight: bold\">🧠 </span><span style=\"color: #000080; text-decoration-color: #000080\">Thinking...</span>\n",
       "</pre>\n"
      ],
      "text/plain": [
       "\u001b[1;36m🚀 Crew: \u001b[0m\u001b[1;36mcrew\u001b[0m\n",
       "├── \u001b[1;32m📋 Task: fa00a864-6122-4cc4-9d5a-3e728596047f\u001b[0m\n",
       "│   \u001b[37m   Assigned to: \u001b[0m\u001b[32mInternet Researcher\u001b[0m\n",
       "│   \u001b[37m   Status: \u001b[0m\u001b[1;32m✅ Completed\u001b[0m\n",
       "│   └── \u001b[1;32m🤖 Agent: \u001b[0m\u001b[32mInternet Researcher\u001b[0m\n",
       "│       \u001b[37m    Status: \u001b[0m\u001b[1;32m✅ Completed\u001b[0m\n",
       "│       └── \u001b[1;32m🔧 \u001b[0m\u001b[32mUsed Web Search Tool (1)\u001b[0m\n",
       "└── \u001b[1;33m📋 Task: 0894ef31-0356-40c4-8d88-96f923bcff80\u001b[0m\n",
       "    \u001b[37m   Status: \u001b[0m\u001b[2;33mExecuting Task...\u001b[0m\n",
       "    └── \u001b[1;32m🤖 Agent: \u001b[0m\u001b[32mContent Strategist\u001b[0m\n",
       "        \u001b[37m    Status: \u001b[0m\u001b[1;32mIn Progress\u001b[0m\n",
       "        └── \u001b[1;34m🧠 \u001b[0m\u001b[34mThinking...\u001b[0m\n"
      ]
     },
     "metadata": {},
     "output_type": "display_data"
    },
    {
     "data": {
      "text/html": [
       "<pre style=\"white-space:pre;overflow-x:auto;line-height:normal;font-family:Menlo,'DejaVu Sans Mono',consolas,'Courier New',monospace\">\n",
       "</pre>\n"
      ],
      "text/plain": [
       "\n"
      ]
     },
     "metadata": {},
     "output_type": "display_data"
    },
    {
     "data": {
      "text/html": [
       "<pre style=\"white-space:pre;overflow-x:auto;line-height:normal;font-family:Menlo,'DejaVu Sans Mono',consolas,'Courier New',monospace\"><span style=\"color: #008080; text-decoration-color: #008080; font-weight: bold\">🚀 Crew: crew</span>\n",
       "├── <span style=\"color: #008000; text-decoration-color: #008000; font-weight: bold\">📋 Task: fa00a864-6122-4cc4-9d5a-3e728596047f</span>\n",
       "│   <span style=\"color: #c0c0c0; text-decoration-color: #c0c0c0\">   Assigned to: </span><span style=\"color: #008000; text-decoration-color: #008000\">Internet Researcher</span>\n",
       "│   <span style=\"color: #c0c0c0; text-decoration-color: #c0c0c0\">   Status: </span><span style=\"color: #008000; text-decoration-color: #008000; font-weight: bold\">✅ Completed</span>\n",
       "│   └── <span style=\"color: #008000; text-decoration-color: #008000; font-weight: bold\">🤖 Agent: </span><span style=\"color: #008000; text-decoration-color: #008000\">Internet Researcher</span>\n",
       "│       <span style=\"color: #c0c0c0; text-decoration-color: #c0c0c0\">    Status: </span><span style=\"color: #008000; text-decoration-color: #008000; font-weight: bold\">✅ Completed</span>\n",
       "│       └── <span style=\"color: #008000; text-decoration-color: #008000; font-weight: bold\">🔧 </span><span style=\"color: #008000; text-decoration-color: #008000\">Used Web Search Tool (1)</span>\n",
       "└── <span style=\"color: #808000; text-decoration-color: #808000; font-weight: bold\">📋 Task: 0894ef31-0356-40c4-8d88-96f923bcff80</span>\n",
       "    <span style=\"color: #c0c0c0; text-decoration-color: #c0c0c0\">   Status: </span><span style=\"color: #bfbf7f; text-decoration-color: #bfbf7f\">Executing Task...</span>\n",
       "    └── <span style=\"color: #008000; text-decoration-color: #008000; font-weight: bold\">🤖 Agent: </span><span style=\"color: #008000; text-decoration-color: #008000\">Content Strategist</span>\n",
       "        <span style=\"color: #c0c0c0; text-decoration-color: #c0c0c0\">    Status: </span><span style=\"color: #008000; text-decoration-color: #008000; font-weight: bold\">In Progress</span>\n",
       "</pre>\n"
      ],
      "text/plain": [
       "\u001b[1;36m🚀 Crew: \u001b[0m\u001b[1;36mcrew\u001b[0m\n",
       "├── \u001b[1;32m📋 Task: fa00a864-6122-4cc4-9d5a-3e728596047f\u001b[0m\n",
       "│   \u001b[37m   Assigned to: \u001b[0m\u001b[32mInternet Researcher\u001b[0m\n",
       "│   \u001b[37m   Status: \u001b[0m\u001b[1;32m✅ Completed\u001b[0m\n",
       "│   └── \u001b[1;32m🤖 Agent: \u001b[0m\u001b[32mInternet Researcher\u001b[0m\n",
       "│       \u001b[37m    Status: \u001b[0m\u001b[1;32m✅ Completed\u001b[0m\n",
       "│       └── \u001b[1;32m🔧 \u001b[0m\u001b[32mUsed Web Search Tool (1)\u001b[0m\n",
       "└── \u001b[1;33m📋 Task: 0894ef31-0356-40c4-8d88-96f923bcff80\u001b[0m\n",
       "    \u001b[37m   Status: \u001b[0m\u001b[2;33mExecuting Task...\u001b[0m\n",
       "    └── \u001b[1;32m🤖 Agent: \u001b[0m\u001b[32mContent Strategist\u001b[0m\n",
       "        \u001b[37m    Status: \u001b[0m\u001b[1;32mIn Progress\u001b[0m\n"
      ]
     },
     "metadata": {},
     "output_type": "display_data"
    },
    {
     "data": {
      "text/html": [
       "<pre style=\"white-space:pre;overflow-x:auto;line-height:normal;font-family:Menlo,'DejaVu Sans Mono',consolas,'Courier New',monospace\">\n",
       "</pre>\n"
      ],
      "text/plain": [
       "\n"
      ]
     },
     "metadata": {},
     "output_type": "display_data"
    },
    {
     "name": "stdout",
     "output_type": "stream",
     "text": [
      "\n",
      "\n",
      "\u001b[1m\u001b[95m# Agent:\u001b[00m \u001b[1m\u001b[92mContent Strategist\u001b[00m\n",
      "\u001b[95m## Final Answer:\u001b[00m \u001b[92m\n",
      "```json\n",
      "{\n",
      "  \"title\": \"CrewAI Tools: Orchestrating Collaborative AI Agents\",\n",
      "  \"introduction\": \"This book provides a comprehensive introduction to CrewAI, an open-source framework designed for building and managing collaborative AI agents. It explores the core concepts, tools, and techniques for leveraging CrewAI to tackle complex problems requiring reasoning, problem-solving, and creative collaboration. The book is aimed at developers, researchers, and anyone interested in exploring the potential of orchestrating autonomous AI agents.\",\n",
      "  \"chapters\": [\n",
      "    {\n",
      "      \"title\": \"Understanding CrewAI: Core Concepts and Architecture\",\n",
      "      \"sections\": [\n",
      "        {\"title\": \"What is CrewAI?\", \"description\": \"An overview of the CrewAI framework, its purpose, and key features. Explains the core concept of orchestrating AI agents.\"},\n",
      "        {\"title\": \"Roles and Agent Definition\", \"description\": \"Details how to define roles for AI agents within the CrewAI framework. Covers agent attributes, capabilities, and interaction protocols.\"},\n",
      "        {\"title\": \"Environment Setup and Management\", \"description\": \"Explains how to configure and manage the environments in which CrewAI agents operate. Includes considerations for simulation, data input, and output.\"},\n",
      "        {\"title\": \"Information Flow and Communication\", \"description\": \"Discusses the mechanisms for agents to exchange information. Covers protocols, data formats, and potential challenges.\"},\n",
      "        {\"title\": \"CrewAI Components Overview\", \"description\": \"A breakdown of the key components within the CrewAI framework, including the orchestrator, agent runtime, and associated libraries.\"}\n",
      "      ]\n",
      "    },\n",
      "    {\n",
      "      \"title\": \"Building Collaborative AI Systems with CrewAI\",\n",
      "      \"sections\": [\n",
      "        {\"title\": \"Designing Agent Interactions\", \"description\": \"Guidance on structuring interactions between agents to achieve specific goals. Includes strategies for task decomposition and coordination.\"},\n",
      "        {\"title\": \"Workflow Automation\", \"description\": \"Demonstrates how to use CrewAI to automate complex workflows involving multiple agents.\"},\n",
      "        {\"title\": \"Debugging and Monitoring CrewAI Systems\", \"description\": \"Techniques for identifying and resolving issues within CrewAI systems. Covers logging, tracing, and performance analysis.\"},\n",
      "        {\"title\": \"Advanced Features: Customization and Extensions\", \"description\": \"Exploring options for extending CrewAI's functionality through custom agents, plugins, and integrations.\"},\n",
      "        {\"title\": \"Real-World Use Cases\", \"description\": \"Examples of how CrewAI can be applied to various domains, such as research, simulation, and problem-solving.\"}\n",
      "      ]\n",
      "    }\n",
      "  ],\n",
      "  \"conclusion\": \"CrewAI represents a powerful tool for building and managing collaborative AI systems. This book has provided a foundational understanding of the framework's core concepts and techniques. Continued exploration and experimentation with CrewAI will unlock its full potential for tackling increasingly complex and challenging problems.\"\n",
      "}\n",
      "```\u001b[00m\n",
      "\n",
      "\n"
     ]
    },
    {
     "data": {
      "text/html": [
       "<pre style=\"white-space:pre;overflow-x:auto;line-height:normal;font-family:Menlo,'DejaVu Sans Mono',consolas,'Courier New',monospace\"><span style=\"color: #008080; text-decoration-color: #008080; font-weight: bold\">🚀 Crew: crew</span>\n",
       "├── <span style=\"color: #008000; text-decoration-color: #008000; font-weight: bold\">📋 Task: fa00a864-6122-4cc4-9d5a-3e728596047f</span>\n",
       "│   <span style=\"color: #c0c0c0; text-decoration-color: #c0c0c0\">   Assigned to: </span><span style=\"color: #008000; text-decoration-color: #008000\">Internet Researcher</span>\n",
       "│   <span style=\"color: #c0c0c0; text-decoration-color: #c0c0c0\">   Status: </span><span style=\"color: #008000; text-decoration-color: #008000; font-weight: bold\">✅ Completed</span>\n",
       "│   └── <span style=\"color: #008000; text-decoration-color: #008000; font-weight: bold\">🤖 Agent: </span><span style=\"color: #008000; text-decoration-color: #008000\">Internet Researcher</span>\n",
       "│       <span style=\"color: #c0c0c0; text-decoration-color: #c0c0c0\">    Status: </span><span style=\"color: #008000; text-decoration-color: #008000; font-weight: bold\">✅ Completed</span>\n",
       "│       └── <span style=\"color: #008000; text-decoration-color: #008000; font-weight: bold\">🔧 </span><span style=\"color: #008000; text-decoration-color: #008000\">Used Web Search Tool (1)</span>\n",
       "└── <span style=\"color: #808000; text-decoration-color: #808000; font-weight: bold\">📋 Task: 0894ef31-0356-40c4-8d88-96f923bcff80</span>\n",
       "    <span style=\"color: #c0c0c0; text-decoration-color: #c0c0c0\">   Status: </span><span style=\"color: #bfbf7f; text-decoration-color: #bfbf7f\">Executing Task...</span>\n",
       "    └── <span style=\"color: #008000; text-decoration-color: #008000; font-weight: bold\">🤖 Agent: </span><span style=\"color: #008000; text-decoration-color: #008000\">Content Strategist</span>\n",
       "        <span style=\"color: #c0c0c0; text-decoration-color: #c0c0c0\">    Status: </span><span style=\"color: #008000; text-decoration-color: #008000; font-weight: bold\">✅ Completed</span>\n",
       "</pre>\n"
      ],
      "text/plain": [
       "\u001b[1;36m🚀 Crew: \u001b[0m\u001b[1;36mcrew\u001b[0m\n",
       "├── \u001b[1;32m📋 Task: fa00a864-6122-4cc4-9d5a-3e728596047f\u001b[0m\n",
       "│   \u001b[37m   Assigned to: \u001b[0m\u001b[32mInternet Researcher\u001b[0m\n",
       "│   \u001b[37m   Status: \u001b[0m\u001b[1;32m✅ Completed\u001b[0m\n",
       "│   └── \u001b[1;32m🤖 Agent: \u001b[0m\u001b[32mInternet Researcher\u001b[0m\n",
       "│       \u001b[37m    Status: \u001b[0m\u001b[1;32m✅ Completed\u001b[0m\n",
       "│       └── \u001b[1;32m🔧 \u001b[0m\u001b[32mUsed Web Search Tool (1)\u001b[0m\n",
       "└── \u001b[1;33m📋 Task: 0894ef31-0356-40c4-8d88-96f923bcff80\u001b[0m\n",
       "    \u001b[37m   Status: \u001b[0m\u001b[2;33mExecuting Task...\u001b[0m\n",
       "    └── \u001b[1;32m🤖 Agent: \u001b[0m\u001b[32mContent Strategist\u001b[0m\n",
       "        \u001b[37m    Status: \u001b[0m\u001b[1;32m✅ Completed\u001b[0m\n"
      ]
     },
     "metadata": {},
     "output_type": "display_data"
    },
    {
     "data": {
      "text/html": [
       "<pre style=\"white-space:pre;overflow-x:auto;line-height:normal;font-family:Menlo,'DejaVu Sans Mono',consolas,'Courier New',monospace\">\n",
       "</pre>\n"
      ],
      "text/plain": [
       "\n"
      ]
     },
     "metadata": {},
     "output_type": "display_data"
    },
    {
     "data": {
      "text/html": [
       "<pre style=\"white-space:pre;overflow-x:auto;line-height:normal;font-family:Menlo,'DejaVu Sans Mono',consolas,'Courier New',monospace\"><span style=\"color: #008080; text-decoration-color: #008080; font-weight: bold\">🚀 Crew: crew</span>\n",
       "├── <span style=\"color: #008000; text-decoration-color: #008000; font-weight: bold\">📋 Task: fa00a864-6122-4cc4-9d5a-3e728596047f</span>\n",
       "│   <span style=\"color: #c0c0c0; text-decoration-color: #c0c0c0\">   Assigned to: </span><span style=\"color: #008000; text-decoration-color: #008000\">Internet Researcher</span>\n",
       "│   <span style=\"color: #c0c0c0; text-decoration-color: #c0c0c0\">   Status: </span><span style=\"color: #008000; text-decoration-color: #008000; font-weight: bold\">✅ Completed</span>\n",
       "│   └── <span style=\"color: #008000; text-decoration-color: #008000; font-weight: bold\">🤖 Agent: </span><span style=\"color: #008000; text-decoration-color: #008000\">Internet Researcher</span>\n",
       "│       <span style=\"color: #c0c0c0; text-decoration-color: #c0c0c0\">    Status: </span><span style=\"color: #008000; text-decoration-color: #008000; font-weight: bold\">✅ Completed</span>\n",
       "│       └── <span style=\"color: #008000; text-decoration-color: #008000; font-weight: bold\">🔧 </span><span style=\"color: #008000; text-decoration-color: #008000\">Used Web Search Tool (1)</span>\n",
       "└── <span style=\"color: #008000; text-decoration-color: #008000; font-weight: bold\">📋 Task: 0894ef31-0356-40c4-8d88-96f923bcff80</span>\n",
       "    <span style=\"color: #c0c0c0; text-decoration-color: #c0c0c0\">   Assigned to: </span><span style=\"color: #008000; text-decoration-color: #008000\">Content Strategist</span>\n",
       "    <span style=\"color: #c0c0c0; text-decoration-color: #c0c0c0\">   Status: </span><span style=\"color: #008000; text-decoration-color: #008000; font-weight: bold\">✅ Completed</span>\n",
       "    └── <span style=\"color: #008000; text-decoration-color: #008000; font-weight: bold\">🤖 Agent: </span><span style=\"color: #008000; text-decoration-color: #008000\">Content Strategist</span>\n",
       "        <span style=\"color: #c0c0c0; text-decoration-color: #c0c0c0\">    Status: </span><span style=\"color: #008000; text-decoration-color: #008000; font-weight: bold\">✅ Completed</span>\n",
       "</pre>\n"
      ],
      "text/plain": [
       "\u001b[1;36m🚀 Crew: \u001b[0m\u001b[1;36mcrew\u001b[0m\n",
       "├── \u001b[1;32m📋 Task: fa00a864-6122-4cc4-9d5a-3e728596047f\u001b[0m\n",
       "│   \u001b[37m   Assigned to: \u001b[0m\u001b[32mInternet Researcher\u001b[0m\n",
       "│   \u001b[37m   Status: \u001b[0m\u001b[1;32m✅ Completed\u001b[0m\n",
       "│   └── \u001b[1;32m🤖 Agent: \u001b[0m\u001b[32mInternet Researcher\u001b[0m\n",
       "│       \u001b[37m    Status: \u001b[0m\u001b[1;32m✅ Completed\u001b[0m\n",
       "│       └── \u001b[1;32m🔧 \u001b[0m\u001b[32mUsed Web Search Tool (1)\u001b[0m\n",
       "└── \u001b[1;32m📋 Task: 0894ef31-0356-40c4-8d88-96f923bcff80\u001b[0m\n",
       "    \u001b[37m   Assigned to: \u001b[0m\u001b[32mContent Strategist\u001b[0m\n",
       "    \u001b[37m   Status: \u001b[0m\u001b[1;32m✅ Completed\u001b[0m\n",
       "    └── \u001b[1;32m🤖 Agent: \u001b[0m\u001b[32mContent Strategist\u001b[0m\n",
       "        \u001b[37m    Status: \u001b[0m\u001b[1;32m✅ Completed\u001b[0m\n"
      ]
     },
     "metadata": {},
     "output_type": "display_data"
    },
    {
     "data": {
      "text/html": [
       "<pre style=\"white-space:pre;overflow-x:auto;line-height:normal;font-family:Menlo,'DejaVu Sans Mono',consolas,'Courier New',monospace\"><span style=\"color: #008000; text-decoration-color: #008000\">╭──────────────────────────────────────────────── Task Completion ────────────────────────────────────────────────╮</span>\n",
       "<span style=\"color: #008000; text-decoration-color: #008000\">│</span>                                                                                                                 <span style=\"color: #008000; text-decoration-color: #008000\">│</span>\n",
       "<span style=\"color: #008000; text-decoration-color: #008000\">│</span>  <span style=\"color: #008000; text-decoration-color: #008000; font-weight: bold\">Task Completed</span>                                                                                                 <span style=\"color: #008000; text-decoration-color: #008000\">│</span>\n",
       "<span style=\"color: #008000; text-decoration-color: #008000\">│</span>  <span style=\"color: #c0c0c0; text-decoration-color: #c0c0c0\">Name: </span><span style=\"color: #008000; text-decoration-color: #008000\">0894ef31-0356-40c4-8d88-96f923bcff80</span>                                                                     <span style=\"color: #008000; text-decoration-color: #008000\">│</span>\n",
       "<span style=\"color: #008000; text-decoration-color: #008000\">│</span>  <span style=\"color: #c0c0c0; text-decoration-color: #c0c0c0\">Agent: </span><span style=\"color: #008000; text-decoration-color: #008000\">Content Strategist</span>                                                                                      <span style=\"color: #008000; text-decoration-color: #008000\">│</span>\n",
       "<span style=\"color: #008000; text-decoration-color: #008000\">│</span>                                                                                                                 <span style=\"color: #008000; text-decoration-color: #008000\">│</span>\n",
       "<span style=\"color: #008000; text-decoration-color: #008000\">│</span>                                                                                                                 <span style=\"color: #008000; text-decoration-color: #008000\">│</span>\n",
       "<span style=\"color: #008000; text-decoration-color: #008000\">╰─────────────────────────────────────────────────────────────────────────────────────────────────────────────────╯</span>\n",
       "</pre>\n"
      ],
      "text/plain": [
       "\u001b[32m╭─\u001b[0m\u001b[32m───────────────────────────────────────────────\u001b[0m\u001b[32m Task Completion \u001b[0m\u001b[32m───────────────────────────────────────────────\u001b[0m\u001b[32m─╮\u001b[0m\n",
       "\u001b[32m│\u001b[0m                                                                                                                 \u001b[32m│\u001b[0m\n",
       "\u001b[32m│\u001b[0m  \u001b[1;32mTask Completed\u001b[0m                                                                                                 \u001b[32m│\u001b[0m\n",
       "\u001b[32m│\u001b[0m  \u001b[37mName: \u001b[0m\u001b[32m0894ef31-0356-40c4-8d88-96f923bcff80\u001b[0m                                                                     \u001b[32m│\u001b[0m\n",
       "\u001b[32m│\u001b[0m  \u001b[37mAgent: \u001b[0m\u001b[32mContent Strategist\u001b[0m                                                                                      \u001b[32m│\u001b[0m\n",
       "\u001b[32m│\u001b[0m                                                                                                                 \u001b[32m│\u001b[0m\n",
       "\u001b[32m│\u001b[0m                                                                                                                 \u001b[32m│\u001b[0m\n",
       "\u001b[32m╰─────────────────────────────────────────────────────────────────────────────────────────────────────────────────╯\u001b[0m\n"
      ]
     },
     "metadata": {},
     "output_type": "display_data"
    },
    {
     "data": {
      "text/html": [
       "<pre style=\"white-space:pre;overflow-x:auto;line-height:normal;font-family:Menlo,'DejaVu Sans Mono',consolas,'Courier New',monospace\">\n",
       "</pre>\n"
      ],
      "text/plain": [
       "\n"
      ]
     },
     "metadata": {},
     "output_type": "display_data"
    },
    {
     "data": {
      "text/html": [
       "<pre style=\"white-space:pre;overflow-x:auto;line-height:normal;font-family:Menlo,'DejaVu Sans Mono',consolas,'Courier New',monospace\"><span style=\"color: #008080; text-decoration-color: #008080; font-weight: bold\">🚀 Crew: crew</span>\n",
       "├── <span style=\"color: #008000; text-decoration-color: #008000; font-weight: bold\">📋 Task: fa00a864-6122-4cc4-9d5a-3e728596047f</span>\n",
       "│   <span style=\"color: #c0c0c0; text-decoration-color: #c0c0c0\">   Assigned to: </span><span style=\"color: #008000; text-decoration-color: #008000\">Internet Researcher</span>\n",
       "│   <span style=\"color: #c0c0c0; text-decoration-color: #c0c0c0\">   Status: </span><span style=\"color: #008000; text-decoration-color: #008000; font-weight: bold\">✅ Completed</span>\n",
       "│   └── <span style=\"color: #008000; text-decoration-color: #008000; font-weight: bold\">🤖 Agent: </span><span style=\"color: #008000; text-decoration-color: #008000\">Internet Researcher</span>\n",
       "│       <span style=\"color: #c0c0c0; text-decoration-color: #c0c0c0\">    Status: </span><span style=\"color: #008000; text-decoration-color: #008000; font-weight: bold\">✅ Completed</span>\n",
       "│       └── <span style=\"color: #008000; text-decoration-color: #008000; font-weight: bold\">🔧 </span><span style=\"color: #008000; text-decoration-color: #008000\">Used Web Search Tool (1)</span>\n",
       "├── <span style=\"color: #008000; text-decoration-color: #008000; font-weight: bold\">📋 Task: 0894ef31-0356-40c4-8d88-96f923bcff80</span>\n",
       "│   <span style=\"color: #c0c0c0; text-decoration-color: #c0c0c0\">   Assigned to: </span><span style=\"color: #008000; text-decoration-color: #008000\">Content Strategist</span>\n",
       "│   <span style=\"color: #c0c0c0; text-decoration-color: #c0c0c0\">   Status: </span><span style=\"color: #008000; text-decoration-color: #008000; font-weight: bold\">✅ Completed</span>\n",
       "│   └── <span style=\"color: #008000; text-decoration-color: #008000; font-weight: bold\">🤖 Agent: </span><span style=\"color: #008000; text-decoration-color: #008000\">Content Strategist</span>\n",
       "│       <span style=\"color: #c0c0c0; text-decoration-color: #c0c0c0\">    Status: </span><span style=\"color: #008000; text-decoration-color: #008000; font-weight: bold\">✅ Completed</span>\n",
       "└── <span style=\"color: #808000; text-decoration-color: #808000; font-weight: bold\">📋 Task: 97028e6d-dbb5-4f1a-b092-145d210215c0</span>\n",
       "    <span style=\"color: #c0c0c0; text-decoration-color: #c0c0c0\">   Status: </span><span style=\"color: #bfbf7f; text-decoration-color: #bfbf7f\">Executing Task...</span>\n",
       "</pre>\n"
      ],
      "text/plain": [
       "\u001b[1;36m🚀 Crew: \u001b[0m\u001b[1;36mcrew\u001b[0m\n",
       "├── \u001b[1;32m📋 Task: fa00a864-6122-4cc4-9d5a-3e728596047f\u001b[0m\n",
       "│   \u001b[37m   Assigned to: \u001b[0m\u001b[32mInternet Researcher\u001b[0m\n",
       "│   \u001b[37m   Status: \u001b[0m\u001b[1;32m✅ Completed\u001b[0m\n",
       "│   └── \u001b[1;32m🤖 Agent: \u001b[0m\u001b[32mInternet Researcher\u001b[0m\n",
       "│       \u001b[37m    Status: \u001b[0m\u001b[1;32m✅ Completed\u001b[0m\n",
       "│       └── \u001b[1;32m🔧 \u001b[0m\u001b[32mUsed Web Search Tool (1)\u001b[0m\n",
       "├── \u001b[1;32m📋 Task: 0894ef31-0356-40c4-8d88-96f923bcff80\u001b[0m\n",
       "│   \u001b[37m   Assigned to: \u001b[0m\u001b[32mContent Strategist\u001b[0m\n",
       "│   \u001b[37m   Status: \u001b[0m\u001b[1;32m✅ Completed\u001b[0m\n",
       "│   └── \u001b[1;32m🤖 Agent: \u001b[0m\u001b[32mContent Strategist\u001b[0m\n",
       "│       \u001b[37m    Status: \u001b[0m\u001b[1;32m✅ Completed\u001b[0m\n",
       "└── \u001b[1;33m📋 Task: 97028e6d-dbb5-4f1a-b092-145d210215c0\u001b[0m\n",
       "    \u001b[37m   Status: \u001b[0m\u001b[2;33mExecuting Task...\u001b[0m\n"
      ]
     },
     "metadata": {},
     "output_type": "display_data"
    },
    {
     "data": {
      "text/html": [
       "<pre style=\"white-space:pre;overflow-x:auto;line-height:normal;font-family:Menlo,'DejaVu Sans Mono',consolas,'Courier New',monospace\">\n",
       "</pre>\n"
      ],
      "text/plain": [
       "\n"
      ]
     },
     "metadata": {},
     "output_type": "display_data"
    },
    {
     "data": {
      "text/html": [
       "<pre style=\"white-space:pre;overflow-x:auto;line-height:normal;font-family:Menlo,'DejaVu Sans Mono',consolas,'Courier New',monospace\"><span style=\"color: #008080; text-decoration-color: #008080; font-weight: bold\">🚀 Crew: crew</span>\n",
       "├── <span style=\"color: #008000; text-decoration-color: #008000; font-weight: bold\">📋 Task: fa00a864-6122-4cc4-9d5a-3e728596047f</span>\n",
       "│   <span style=\"color: #c0c0c0; text-decoration-color: #c0c0c0\">   Assigned to: </span><span style=\"color: #008000; text-decoration-color: #008000\">Internet Researcher</span>\n",
       "│   <span style=\"color: #c0c0c0; text-decoration-color: #c0c0c0\">   Status: </span><span style=\"color: #008000; text-decoration-color: #008000; font-weight: bold\">✅ Completed</span>\n",
       "│   └── <span style=\"color: #008000; text-decoration-color: #008000; font-weight: bold\">🤖 Agent: </span><span style=\"color: #008000; text-decoration-color: #008000\">Internet Researcher</span>\n",
       "│       <span style=\"color: #c0c0c0; text-decoration-color: #c0c0c0\">    Status: </span><span style=\"color: #008000; text-decoration-color: #008000; font-weight: bold\">✅ Completed</span>\n",
       "│       └── <span style=\"color: #008000; text-decoration-color: #008000; font-weight: bold\">🔧 </span><span style=\"color: #008000; text-decoration-color: #008000\">Used Web Search Tool (1)</span>\n",
       "├── <span style=\"color: #008000; text-decoration-color: #008000; font-weight: bold\">📋 Task: 0894ef31-0356-40c4-8d88-96f923bcff80</span>\n",
       "│   <span style=\"color: #c0c0c0; text-decoration-color: #c0c0c0\">   Assigned to: </span><span style=\"color: #008000; text-decoration-color: #008000\">Content Strategist</span>\n",
       "│   <span style=\"color: #c0c0c0; text-decoration-color: #c0c0c0\">   Status: </span><span style=\"color: #008000; text-decoration-color: #008000; font-weight: bold\">✅ Completed</span>\n",
       "│   └── <span style=\"color: #008000; text-decoration-color: #008000; font-weight: bold\">🤖 Agent: </span><span style=\"color: #008000; text-decoration-color: #008000\">Content Strategist</span>\n",
       "│       <span style=\"color: #c0c0c0; text-decoration-color: #c0c0c0\">    Status: </span><span style=\"color: #008000; text-decoration-color: #008000; font-weight: bold\">✅ Completed</span>\n",
       "└── <span style=\"color: #808000; text-decoration-color: #808000; font-weight: bold\">📋 Task: 97028e6d-dbb5-4f1a-b092-145d210215c0</span>\n",
       "    <span style=\"color: #c0c0c0; text-decoration-color: #c0c0c0\">   Status: </span><span style=\"color: #bfbf7f; text-decoration-color: #bfbf7f\">Executing Task...</span>\n",
       "    └── <span style=\"color: #008000; text-decoration-color: #008000; font-weight: bold\">🤖 Agent: </span><span style=\"color: #008000; text-decoration-color: #008000\">Content Writer</span>\n",
       "        <span style=\"color: #c0c0c0; text-decoration-color: #c0c0c0\">    Status: </span><span style=\"color: #008000; text-decoration-color: #008000; font-weight: bold\">In Progress</span>\n",
       "</pre>\n"
      ],
      "text/plain": [
       "\u001b[1;36m🚀 Crew: \u001b[0m\u001b[1;36mcrew\u001b[0m\n",
       "├── \u001b[1;32m📋 Task: fa00a864-6122-4cc4-9d5a-3e728596047f\u001b[0m\n",
       "│   \u001b[37m   Assigned to: \u001b[0m\u001b[32mInternet Researcher\u001b[0m\n",
       "│   \u001b[37m   Status: \u001b[0m\u001b[1;32m✅ Completed\u001b[0m\n",
       "│   └── \u001b[1;32m🤖 Agent: \u001b[0m\u001b[32mInternet Researcher\u001b[0m\n",
       "│       \u001b[37m    Status: \u001b[0m\u001b[1;32m✅ Completed\u001b[0m\n",
       "│       └── \u001b[1;32m🔧 \u001b[0m\u001b[32mUsed Web Search Tool (1)\u001b[0m\n",
       "├── \u001b[1;32m📋 Task: 0894ef31-0356-40c4-8d88-96f923bcff80\u001b[0m\n",
       "│   \u001b[37m   Assigned to: \u001b[0m\u001b[32mContent Strategist\u001b[0m\n",
       "│   \u001b[37m   Status: \u001b[0m\u001b[1;32m✅ Completed\u001b[0m\n",
       "│   └── \u001b[1;32m🤖 Agent: \u001b[0m\u001b[32mContent Strategist\u001b[0m\n",
       "│       \u001b[37m    Status: \u001b[0m\u001b[1;32m✅ Completed\u001b[0m\n",
       "└── \u001b[1;33m📋 Task: 97028e6d-dbb5-4f1a-b092-145d210215c0\u001b[0m\n",
       "    \u001b[37m   Status: \u001b[0m\u001b[2;33mExecuting Task...\u001b[0m\n",
       "    └── \u001b[1;32m🤖 Agent: \u001b[0m\u001b[32mContent Writer\u001b[0m\n",
       "        \u001b[37m    Status: \u001b[0m\u001b[1;32mIn Progress\u001b[0m\n"
      ]
     },
     "metadata": {},
     "output_type": "display_data"
    },
    {
     "data": {
      "text/html": [
       "<pre style=\"white-space:pre;overflow-x:auto;line-height:normal;font-family:Menlo,'DejaVu Sans Mono',consolas,'Courier New',monospace\">\n",
       "</pre>\n"
      ],
      "text/plain": [
       "\n"
      ]
     },
     "metadata": {},
     "output_type": "display_data"
    },
    {
     "name": "stdout",
     "output_type": "stream",
     "text": [
      "\u001b[1m\u001b[95m# Agent:\u001b[00m \u001b[1m\u001b[92mContent Writer\u001b[00m\n",
      "\u001b[95m## Task:\u001b[00m \u001b[92mBased on the research and outline provided, write a complete book on 'crewAI tools'.\n",
      "    \n",
      "    Follow the structure in the outline, ensuring that:\n",
      "    1. The content is accurate and based on the research\n",
      "    2. The writing is clear, engaging, and accessible\n",
      "    3. Each section flows logically to the next\n",
      "    4. The book maintains a consistent tone and style\n",
      "    5. Important facts are included from the research\n",
      "    \n",
      "    Format the book with proper Markdown:\n",
      "    - Use # for the book title\n",
      "    - Use ## for chapter titles\n",
      "    - Use ### for section titles\n",
      "    - Use appropriate formatting for emphasis, lists, etc.\n",
      "    \n",
      "    The final book should be ready for direct saving as a Markdown file.\u001b[00m\n"
     ]
    },
    {
     "data": {
      "text/html": [
       "<pre style=\"white-space:pre;overflow-x:auto;line-height:normal;font-family:Menlo,'DejaVu Sans Mono',consolas,'Courier New',monospace\"><span style=\"color: #008080; text-decoration-color: #008080; font-weight: bold\">🚀 Crew: crew</span>\n",
       "├── <span style=\"color: #008000; text-decoration-color: #008000; font-weight: bold\">📋 Task: fa00a864-6122-4cc4-9d5a-3e728596047f</span>\n",
       "│   <span style=\"color: #c0c0c0; text-decoration-color: #c0c0c0\">   Assigned to: </span><span style=\"color: #008000; text-decoration-color: #008000\">Internet Researcher</span>\n",
       "│   <span style=\"color: #c0c0c0; text-decoration-color: #c0c0c0\">   Status: </span><span style=\"color: #008000; text-decoration-color: #008000; font-weight: bold\">✅ Completed</span>\n",
       "│   └── <span style=\"color: #008000; text-decoration-color: #008000; font-weight: bold\">🤖 Agent: </span><span style=\"color: #008000; text-decoration-color: #008000\">Internet Researcher</span>\n",
       "│       <span style=\"color: #c0c0c0; text-decoration-color: #c0c0c0\">    Status: </span><span style=\"color: #008000; text-decoration-color: #008000; font-weight: bold\">✅ Completed</span>\n",
       "│       └── <span style=\"color: #008000; text-decoration-color: #008000; font-weight: bold\">🔧 </span><span style=\"color: #008000; text-decoration-color: #008000\">Used Web Search Tool (1)</span>\n",
       "├── <span style=\"color: #008000; text-decoration-color: #008000; font-weight: bold\">📋 Task: 0894ef31-0356-40c4-8d88-96f923bcff80</span>\n",
       "│   <span style=\"color: #c0c0c0; text-decoration-color: #c0c0c0\">   Assigned to: </span><span style=\"color: #008000; text-decoration-color: #008000\">Content Strategist</span>\n",
       "│   <span style=\"color: #c0c0c0; text-decoration-color: #c0c0c0\">   Status: </span><span style=\"color: #008000; text-decoration-color: #008000; font-weight: bold\">✅ Completed</span>\n",
       "│   └── <span style=\"color: #008000; text-decoration-color: #008000; font-weight: bold\">🤖 Agent: </span><span style=\"color: #008000; text-decoration-color: #008000\">Content Strategist</span>\n",
       "│       <span style=\"color: #c0c0c0; text-decoration-color: #c0c0c0\">    Status: </span><span style=\"color: #008000; text-decoration-color: #008000; font-weight: bold\">✅ Completed</span>\n",
       "└── <span style=\"color: #808000; text-decoration-color: #808000; font-weight: bold\">📋 Task: 97028e6d-dbb5-4f1a-b092-145d210215c0</span>\n",
       "    <span style=\"color: #c0c0c0; text-decoration-color: #c0c0c0\">   Status: </span><span style=\"color: #bfbf7f; text-decoration-color: #bfbf7f\">Executing Task...</span>\n",
       "    └── <span style=\"color: #008000; text-decoration-color: #008000; font-weight: bold\">🤖 Agent: </span><span style=\"color: #008000; text-decoration-color: #008000\">Content Writer</span>\n",
       "        <span style=\"color: #c0c0c0; text-decoration-color: #c0c0c0\">    Status: </span><span style=\"color: #008000; text-decoration-color: #008000; font-weight: bold\">In Progress</span>\n",
       "        └── <span style=\"color: #000080; text-decoration-color: #000080; font-weight: bold\">🧠 </span><span style=\"color: #000080; text-decoration-color: #000080\">Thinking...</span>\n",
       "</pre>\n"
      ],
      "text/plain": [
       "\u001b[1;36m🚀 Crew: \u001b[0m\u001b[1;36mcrew\u001b[0m\n",
       "├── \u001b[1;32m📋 Task: fa00a864-6122-4cc4-9d5a-3e728596047f\u001b[0m\n",
       "│   \u001b[37m   Assigned to: \u001b[0m\u001b[32mInternet Researcher\u001b[0m\n",
       "│   \u001b[37m   Status: \u001b[0m\u001b[1;32m✅ Completed\u001b[0m\n",
       "│   └── \u001b[1;32m🤖 Agent: \u001b[0m\u001b[32mInternet Researcher\u001b[0m\n",
       "│       \u001b[37m    Status: \u001b[0m\u001b[1;32m✅ Completed\u001b[0m\n",
       "│       └── \u001b[1;32m🔧 \u001b[0m\u001b[32mUsed Web Search Tool (1)\u001b[0m\n",
       "├── \u001b[1;32m📋 Task: 0894ef31-0356-40c4-8d88-96f923bcff80\u001b[0m\n",
       "│   \u001b[37m   Assigned to: \u001b[0m\u001b[32mContent Strategist\u001b[0m\n",
       "│   \u001b[37m   Status: \u001b[0m\u001b[1;32m✅ Completed\u001b[0m\n",
       "│   └── \u001b[1;32m🤖 Agent: \u001b[0m\u001b[32mContent Strategist\u001b[0m\n",
       "│       \u001b[37m    Status: \u001b[0m\u001b[1;32m✅ Completed\u001b[0m\n",
       "└── \u001b[1;33m📋 Task: 97028e6d-dbb5-4f1a-b092-145d210215c0\u001b[0m\n",
       "    \u001b[37m   Status: \u001b[0m\u001b[2;33mExecuting Task...\u001b[0m\n",
       "    └── \u001b[1;32m🤖 Agent: \u001b[0m\u001b[32mContent Writer\u001b[0m\n",
       "        \u001b[37m    Status: \u001b[0m\u001b[1;32mIn Progress\u001b[0m\n",
       "        └── \u001b[1;34m🧠 \u001b[0m\u001b[34mThinking...\u001b[0m\n"
      ]
     },
     "metadata": {},
     "output_type": "display_data"
    },
    {
     "data": {
      "text/html": [
       "<pre style=\"white-space:pre;overflow-x:auto;line-height:normal;font-family:Menlo,'DejaVu Sans Mono',consolas,'Courier New',monospace\">\n",
       "</pre>\n"
      ],
      "text/plain": [
       "\n"
      ]
     },
     "metadata": {},
     "output_type": "display_data"
    },
    {
     "data": {
      "text/html": [
       "<pre style=\"white-space:pre;overflow-x:auto;line-height:normal;font-family:Menlo,'DejaVu Sans Mono',consolas,'Courier New',monospace\"><span style=\"color: #008080; text-decoration-color: #008080; font-weight: bold\">🚀 Crew: crew</span>\n",
       "├── <span style=\"color: #008000; text-decoration-color: #008000; font-weight: bold\">📋 Task: fa00a864-6122-4cc4-9d5a-3e728596047f</span>\n",
       "│   <span style=\"color: #c0c0c0; text-decoration-color: #c0c0c0\">   Assigned to: </span><span style=\"color: #008000; text-decoration-color: #008000\">Internet Researcher</span>\n",
       "│   <span style=\"color: #c0c0c0; text-decoration-color: #c0c0c0\">   Status: </span><span style=\"color: #008000; text-decoration-color: #008000; font-weight: bold\">✅ Completed</span>\n",
       "│   └── <span style=\"color: #008000; text-decoration-color: #008000; font-weight: bold\">🤖 Agent: </span><span style=\"color: #008000; text-decoration-color: #008000\">Internet Researcher</span>\n",
       "│       <span style=\"color: #c0c0c0; text-decoration-color: #c0c0c0\">    Status: </span><span style=\"color: #008000; text-decoration-color: #008000; font-weight: bold\">✅ Completed</span>\n",
       "│       └── <span style=\"color: #008000; text-decoration-color: #008000; font-weight: bold\">🔧 </span><span style=\"color: #008000; text-decoration-color: #008000\">Used Web Search Tool (1)</span>\n",
       "├── <span style=\"color: #008000; text-decoration-color: #008000; font-weight: bold\">📋 Task: 0894ef31-0356-40c4-8d88-96f923bcff80</span>\n",
       "│   <span style=\"color: #c0c0c0; text-decoration-color: #c0c0c0\">   Assigned to: </span><span style=\"color: #008000; text-decoration-color: #008000\">Content Strategist</span>\n",
       "│   <span style=\"color: #c0c0c0; text-decoration-color: #c0c0c0\">   Status: </span><span style=\"color: #008000; text-decoration-color: #008000; font-weight: bold\">✅ Completed</span>\n",
       "│   └── <span style=\"color: #008000; text-decoration-color: #008000; font-weight: bold\">🤖 Agent: </span><span style=\"color: #008000; text-decoration-color: #008000\">Content Strategist</span>\n",
       "│       <span style=\"color: #c0c0c0; text-decoration-color: #c0c0c0\">    Status: </span><span style=\"color: #008000; text-decoration-color: #008000; font-weight: bold\">✅ Completed</span>\n",
       "└── <span style=\"color: #808000; text-decoration-color: #808000; font-weight: bold\">📋 Task: 97028e6d-dbb5-4f1a-b092-145d210215c0</span>\n",
       "    <span style=\"color: #c0c0c0; text-decoration-color: #c0c0c0\">   Status: </span><span style=\"color: #bfbf7f; text-decoration-color: #bfbf7f\">Executing Task...</span>\n",
       "    └── <span style=\"color: #008000; text-decoration-color: #008000; font-weight: bold\">🤖 Agent: </span><span style=\"color: #008000; text-decoration-color: #008000\">Content Writer</span>\n",
       "        <span style=\"color: #c0c0c0; text-decoration-color: #c0c0c0\">    Status: </span><span style=\"color: #008000; text-decoration-color: #008000; font-weight: bold\">In Progress</span>\n",
       "</pre>\n"
      ],
      "text/plain": [
       "\u001b[1;36m🚀 Crew: \u001b[0m\u001b[1;36mcrew\u001b[0m\n",
       "├── \u001b[1;32m📋 Task: fa00a864-6122-4cc4-9d5a-3e728596047f\u001b[0m\n",
       "│   \u001b[37m   Assigned to: \u001b[0m\u001b[32mInternet Researcher\u001b[0m\n",
       "│   \u001b[37m   Status: \u001b[0m\u001b[1;32m✅ Completed\u001b[0m\n",
       "│   └── \u001b[1;32m🤖 Agent: \u001b[0m\u001b[32mInternet Researcher\u001b[0m\n",
       "│       \u001b[37m    Status: \u001b[0m\u001b[1;32m✅ Completed\u001b[0m\n",
       "│       └── \u001b[1;32m🔧 \u001b[0m\u001b[32mUsed Web Search Tool (1)\u001b[0m\n",
       "├── \u001b[1;32m📋 Task: 0894ef31-0356-40c4-8d88-96f923bcff80\u001b[0m\n",
       "│   \u001b[37m   Assigned to: \u001b[0m\u001b[32mContent Strategist\u001b[0m\n",
       "│   \u001b[37m   Status: \u001b[0m\u001b[1;32m✅ Completed\u001b[0m\n",
       "│   └── \u001b[1;32m🤖 Agent: \u001b[0m\u001b[32mContent Strategist\u001b[0m\n",
       "│       \u001b[37m    Status: \u001b[0m\u001b[1;32m✅ Completed\u001b[0m\n",
       "└── \u001b[1;33m📋 Task: 97028e6d-dbb5-4f1a-b092-145d210215c0\u001b[0m\n",
       "    \u001b[37m   Status: \u001b[0m\u001b[2;33mExecuting Task...\u001b[0m\n",
       "    └── \u001b[1;32m🤖 Agent: \u001b[0m\u001b[32mContent Writer\u001b[0m\n",
       "        \u001b[37m    Status: \u001b[0m\u001b[1;32mIn Progress\u001b[0m\n"
      ]
     },
     "metadata": {},
     "output_type": "display_data"
    },
    {
     "data": {
      "text/html": [
       "<pre style=\"white-space:pre;overflow-x:auto;line-height:normal;font-family:Menlo,'DejaVu Sans Mono',consolas,'Courier New',monospace\">\n",
       "</pre>\n"
      ],
      "text/plain": [
       "\n"
      ]
     },
     "metadata": {},
     "output_type": "display_data"
    },
    {
     "name": "stdout",
     "output_type": "stream",
     "text": [
      "\n",
      "\n",
      "\u001b[1m\u001b[95m# Agent:\u001b[00m \u001b[1m\u001b[92mContent Writer\u001b[00m\n",
      "\u001b[95m## Final Answer:\u001b[00m \u001b[92m\n",
      "```markdown\n",
      "# CrewAI Tools: Orchestrating Collaborative AI Agents\n",
      "\n",
      "## Introduction\n",
      "\n",
      "This book provides a comprehensive introduction to CrewAI, an open-source framework designed for building and managing collaborative AI agents. It explores the core concepts, tools, and techniques for leveraging CrewAI to tackle complex problems requiring reasoning, problem-solving, and creative collaboration. The book is aimed at developers, researchers, and anyone interested in exploring the potential of orchestrating autonomous AI agents.\n",
      "\n",
      "## Chapter 1: Understanding CrewAI: Core Concepts and Architecture\n",
      "\n",
      "### What is CrewAI?\n",
      "\n",
      "CrewAI is an open-source framework that enables the orchestration of role-playing and autonomous AI agents. At its core, it provides the tools necessary to build systems where multiple AI agents can interact and work together to solve complex problems. The framework’s primary purpose is to facilitate collaborative AI, allowing agents to leverage each other's strengths and capabilities to achieve a shared goal. Key features include:\n",
      "\n",
      "*   **Agent Orchestration:**  CrewAI provides the mechanisms to control and coordinate the actions of multiple AI agents.\n",
      "*   **Role-Based Interaction:** Agents are defined by their roles, dictating their responsibilities and interaction protocols.\n",
      "*   **Flexible Environment Support:** The framework supports various environments, from simulated scenarios to real-world data inputs.\n",
      "*   **Open-Source and Extensible:** Being open-source, CrewAI fosters community contributions and allows for customization and extension.\n",
      "\n",
      "### Roles and Agent Definition\n",
      "\n",
      "Within the CrewAI framework, agents are defined through a structured process that includes:\n",
      "\n",
      "*   **Agent Attributes:** Each agent possesses a set of attributes that describe its characteristics, such as its knowledge domain, capabilities, and limitations.\n",
      "*   **Capabilities:** These define what an agent *can* do – for example, data analysis, natural language processing, or decision-making.\n",
      "*   **Interaction Protocols:**  These protocols dictate how agents communicate with each other, including the data formats they use and the rules governing their interactions.  This ensures a structured and predictable exchange of information.\n",
      "\n",
      "### Environment Setup and Management\n",
      "\n",
      "CrewAI systems operate within environments.  Setting up and managing these environments is crucial for realistic agent behavior. Considerations include:\n",
      "\n",
      "*   **Simulation:** CrewAI can be used to simulate complex scenarios, allowing agents to interact in a controlled environment.\n",
      "*   **Data Input:**  Agents can receive data from various sources, including databases, APIs, and sensor inputs.\n",
      "*   **Output:** Agents can generate outputs, such as reports, recommendations, or actions, which can be used to inform further decisions or trigger external events.\n",
      "\n",
      "### Information Flow and Communication\n",
      "\n",
      "Effective information flow is paramount to successful agent collaboration. CrewAI provides mechanisms for agents to exchange information, including:\n",
      "\n",
      "*   **Protocols:** Standardized protocols govern the exchange of data, ensuring compatibility and consistency.\n",
      "*   **Data Formats:**  Common data formats (e.g., JSON, XML) are used to represent information, facilitating seamless data transfer.\n",
      "*   **Challenges:** Potential challenges include data synchronization, ensuring data integrity, and handling conflicting information.\n",
      "\n",
      "### CrewAI Components Overview\n",
      "\n",
      "The CrewAI framework is composed of several key components:\n",
      "\n",
      "*   **Orchestrator:** The central component that manages the overall flow of execution, coordinating the actions of the agents.\n",
      "*   **Agent Runtime:** The environment in which individual agents execute their tasks.\n",
      "*   **Associated Libraries:** A collection of libraries providing support for various functionalities, such as communication, data processing, and simulation.\n",
      "\n",
      "\n",
      "\n",
      "## Chapter 2: Building Collaborative AI Systems with CrewAI\n",
      "\n",
      "### Designing Agent Interactions\n",
      "\n",
      "When designing interactions between agents, consider the following strategies:\n",
      "\n",
      "*   **Task Decomposition:** Break down complex tasks into smaller, manageable subtasks that can be assigned to individual agents.\n",
      "*   **Coordination:** Establish mechanisms for agents to coordinate their efforts, ensuring that they are working towards a common goal.\n",
      "*   **Feedback Loops:** Implement feedback loops to allow agents to learn from their interactions and adjust their behavior accordingly.\n",
      "\n",
      "### Workflow Automation\n",
      "\n",
      "CrewAI can be used to automate complex workflows involving multiple agents. For example, an agent could be responsible for monitoring data streams, while another agent could be responsible for generating alerts when certain thresholds are exceeded.\n",
      "\n",
      "### Expanding CrewAI\n",
      "\n",
      "CrewAI’s flexibility allows for expansion and integration with other systems.  Consider using APIs to connect CrewAI to external data sources or services.\n",
      "\n",
      "```\u001b[00m\n",
      "\n",
      "\n"
     ]
    },
    {
     "data": {
      "text/html": [
       "<pre style=\"white-space:pre;overflow-x:auto;line-height:normal;font-family:Menlo,'DejaVu Sans Mono',consolas,'Courier New',monospace\"><span style=\"color: #008080; text-decoration-color: #008080; font-weight: bold\">🚀 Crew: crew</span>\n",
       "├── <span style=\"color: #008000; text-decoration-color: #008000; font-weight: bold\">📋 Task: fa00a864-6122-4cc4-9d5a-3e728596047f</span>\n",
       "│   <span style=\"color: #c0c0c0; text-decoration-color: #c0c0c0\">   Assigned to: </span><span style=\"color: #008000; text-decoration-color: #008000\">Internet Researcher</span>\n",
       "│   <span style=\"color: #c0c0c0; text-decoration-color: #c0c0c0\">   Status: </span><span style=\"color: #008000; text-decoration-color: #008000; font-weight: bold\">✅ Completed</span>\n",
       "│   └── <span style=\"color: #008000; text-decoration-color: #008000; font-weight: bold\">🤖 Agent: </span><span style=\"color: #008000; text-decoration-color: #008000\">Internet Researcher</span>\n",
       "│       <span style=\"color: #c0c0c0; text-decoration-color: #c0c0c0\">    Status: </span><span style=\"color: #008000; text-decoration-color: #008000; font-weight: bold\">✅ Completed</span>\n",
       "│       └── <span style=\"color: #008000; text-decoration-color: #008000; font-weight: bold\">🔧 </span><span style=\"color: #008000; text-decoration-color: #008000\">Used Web Search Tool (1)</span>\n",
       "├── <span style=\"color: #008000; text-decoration-color: #008000; font-weight: bold\">📋 Task: 0894ef31-0356-40c4-8d88-96f923bcff80</span>\n",
       "│   <span style=\"color: #c0c0c0; text-decoration-color: #c0c0c0\">   Assigned to: </span><span style=\"color: #008000; text-decoration-color: #008000\">Content Strategist</span>\n",
       "│   <span style=\"color: #c0c0c0; text-decoration-color: #c0c0c0\">   Status: </span><span style=\"color: #008000; text-decoration-color: #008000; font-weight: bold\">✅ Completed</span>\n",
       "│   └── <span style=\"color: #008000; text-decoration-color: #008000; font-weight: bold\">🤖 Agent: </span><span style=\"color: #008000; text-decoration-color: #008000\">Content Strategist</span>\n",
       "│       <span style=\"color: #c0c0c0; text-decoration-color: #c0c0c0\">    Status: </span><span style=\"color: #008000; text-decoration-color: #008000; font-weight: bold\">✅ Completed</span>\n",
       "└── <span style=\"color: #808000; text-decoration-color: #808000; font-weight: bold\">📋 Task: 97028e6d-dbb5-4f1a-b092-145d210215c0</span>\n",
       "    <span style=\"color: #c0c0c0; text-decoration-color: #c0c0c0\">   Status: </span><span style=\"color: #bfbf7f; text-decoration-color: #bfbf7f\">Executing Task...</span>\n",
       "    └── <span style=\"color: #008000; text-decoration-color: #008000; font-weight: bold\">🤖 Agent: </span><span style=\"color: #008000; text-decoration-color: #008000\">Content Writer</span>\n",
       "        <span style=\"color: #c0c0c0; text-decoration-color: #c0c0c0\">    Status: </span><span style=\"color: #008000; text-decoration-color: #008000; font-weight: bold\">✅ Completed</span>\n",
       "</pre>\n"
      ],
      "text/plain": [
       "\u001b[1;36m🚀 Crew: \u001b[0m\u001b[1;36mcrew\u001b[0m\n",
       "├── \u001b[1;32m📋 Task: fa00a864-6122-4cc4-9d5a-3e728596047f\u001b[0m\n",
       "│   \u001b[37m   Assigned to: \u001b[0m\u001b[32mInternet Researcher\u001b[0m\n",
       "│   \u001b[37m   Status: \u001b[0m\u001b[1;32m✅ Completed\u001b[0m\n",
       "│   └── \u001b[1;32m🤖 Agent: \u001b[0m\u001b[32mInternet Researcher\u001b[0m\n",
       "│       \u001b[37m    Status: \u001b[0m\u001b[1;32m✅ Completed\u001b[0m\n",
       "│       └── \u001b[1;32m🔧 \u001b[0m\u001b[32mUsed Web Search Tool (1)\u001b[0m\n",
       "├── \u001b[1;32m📋 Task: 0894ef31-0356-40c4-8d88-96f923bcff80\u001b[0m\n",
       "│   \u001b[37m   Assigned to: \u001b[0m\u001b[32mContent Strategist\u001b[0m\n",
       "│   \u001b[37m   Status: \u001b[0m\u001b[1;32m✅ Completed\u001b[0m\n",
       "│   └── \u001b[1;32m🤖 Agent: \u001b[0m\u001b[32mContent Strategist\u001b[0m\n",
       "│       \u001b[37m    Status: \u001b[0m\u001b[1;32m✅ Completed\u001b[0m\n",
       "└── \u001b[1;33m📋 Task: 97028e6d-dbb5-4f1a-b092-145d210215c0\u001b[0m\n",
       "    \u001b[37m   Status: \u001b[0m\u001b[2;33mExecuting Task...\u001b[0m\n",
       "    └── \u001b[1;32m🤖 Agent: \u001b[0m\u001b[32mContent Writer\u001b[0m\n",
       "        \u001b[37m    Status: \u001b[0m\u001b[1;32m✅ Completed\u001b[0m\n"
      ]
     },
     "metadata": {},
     "output_type": "display_data"
    },
    {
     "data": {
      "text/html": [
       "<pre style=\"white-space:pre;overflow-x:auto;line-height:normal;font-family:Menlo,'DejaVu Sans Mono',consolas,'Courier New',monospace\">\n",
       "</pre>\n"
      ],
      "text/plain": [
       "\n"
      ]
     },
     "metadata": {},
     "output_type": "display_data"
    },
    {
     "data": {
      "text/html": [
       "<pre style=\"white-space:pre;overflow-x:auto;line-height:normal;font-family:Menlo,'DejaVu Sans Mono',consolas,'Courier New',monospace\"><span style=\"color: #008080; text-decoration-color: #008080; font-weight: bold\">🚀 Crew: crew</span>\n",
       "├── <span style=\"color: #008000; text-decoration-color: #008000; font-weight: bold\">📋 Task: fa00a864-6122-4cc4-9d5a-3e728596047f</span>\n",
       "│   <span style=\"color: #c0c0c0; text-decoration-color: #c0c0c0\">   Assigned to: </span><span style=\"color: #008000; text-decoration-color: #008000\">Internet Researcher</span>\n",
       "│   <span style=\"color: #c0c0c0; text-decoration-color: #c0c0c0\">   Status: </span><span style=\"color: #008000; text-decoration-color: #008000; font-weight: bold\">✅ Completed</span>\n",
       "│   └── <span style=\"color: #008000; text-decoration-color: #008000; font-weight: bold\">🤖 Agent: </span><span style=\"color: #008000; text-decoration-color: #008000\">Internet Researcher</span>\n",
       "│       <span style=\"color: #c0c0c0; text-decoration-color: #c0c0c0\">    Status: </span><span style=\"color: #008000; text-decoration-color: #008000; font-weight: bold\">✅ Completed</span>\n",
       "│       └── <span style=\"color: #008000; text-decoration-color: #008000; font-weight: bold\">🔧 </span><span style=\"color: #008000; text-decoration-color: #008000\">Used Web Search Tool (1)</span>\n",
       "├── <span style=\"color: #008000; text-decoration-color: #008000; font-weight: bold\">📋 Task: 0894ef31-0356-40c4-8d88-96f923bcff80</span>\n",
       "│   <span style=\"color: #c0c0c0; text-decoration-color: #c0c0c0\">   Assigned to: </span><span style=\"color: #008000; text-decoration-color: #008000\">Content Strategist</span>\n",
       "│   <span style=\"color: #c0c0c0; text-decoration-color: #c0c0c0\">   Status: </span><span style=\"color: #008000; text-decoration-color: #008000; font-weight: bold\">✅ Completed</span>\n",
       "│   └── <span style=\"color: #008000; text-decoration-color: #008000; font-weight: bold\">🤖 Agent: </span><span style=\"color: #008000; text-decoration-color: #008000\">Content Strategist</span>\n",
       "│       <span style=\"color: #c0c0c0; text-decoration-color: #c0c0c0\">    Status: </span><span style=\"color: #008000; text-decoration-color: #008000; font-weight: bold\">✅ Completed</span>\n",
       "└── <span style=\"color: #008000; text-decoration-color: #008000; font-weight: bold\">📋 Task: 97028e6d-dbb5-4f1a-b092-145d210215c0</span>\n",
       "    <span style=\"color: #c0c0c0; text-decoration-color: #c0c0c0\">   Assigned to: </span><span style=\"color: #008000; text-decoration-color: #008000\">Content Writer</span>\n",
       "    <span style=\"color: #c0c0c0; text-decoration-color: #c0c0c0\">   Status: </span><span style=\"color: #008000; text-decoration-color: #008000; font-weight: bold\">✅ Completed</span>\n",
       "    └── <span style=\"color: #008000; text-decoration-color: #008000; font-weight: bold\">🤖 Agent: </span><span style=\"color: #008000; text-decoration-color: #008000\">Content Writer</span>\n",
       "        <span style=\"color: #c0c0c0; text-decoration-color: #c0c0c0\">    Status: </span><span style=\"color: #008000; text-decoration-color: #008000; font-weight: bold\">✅ Completed</span>\n",
       "</pre>\n"
      ],
      "text/plain": [
       "\u001b[1;36m🚀 Crew: \u001b[0m\u001b[1;36mcrew\u001b[0m\n",
       "├── \u001b[1;32m📋 Task: fa00a864-6122-4cc4-9d5a-3e728596047f\u001b[0m\n",
       "│   \u001b[37m   Assigned to: \u001b[0m\u001b[32mInternet Researcher\u001b[0m\n",
       "│   \u001b[37m   Status: \u001b[0m\u001b[1;32m✅ Completed\u001b[0m\n",
       "│   └── \u001b[1;32m🤖 Agent: \u001b[0m\u001b[32mInternet Researcher\u001b[0m\n",
       "│       \u001b[37m    Status: \u001b[0m\u001b[1;32m✅ Completed\u001b[0m\n",
       "│       └── \u001b[1;32m🔧 \u001b[0m\u001b[32mUsed Web Search Tool (1)\u001b[0m\n",
       "├── \u001b[1;32m📋 Task: 0894ef31-0356-40c4-8d88-96f923bcff80\u001b[0m\n",
       "│   \u001b[37m   Assigned to: \u001b[0m\u001b[32mContent Strategist\u001b[0m\n",
       "│   \u001b[37m   Status: \u001b[0m\u001b[1;32m✅ Completed\u001b[0m\n",
       "│   └── \u001b[1;32m🤖 Agent: \u001b[0m\u001b[32mContent Strategist\u001b[0m\n",
       "│       \u001b[37m    Status: \u001b[0m\u001b[1;32m✅ Completed\u001b[0m\n",
       "└── \u001b[1;32m📋 Task: 97028e6d-dbb5-4f1a-b092-145d210215c0\u001b[0m\n",
       "    \u001b[37m   Assigned to: \u001b[0m\u001b[32mContent Writer\u001b[0m\n",
       "    \u001b[37m   Status: \u001b[0m\u001b[1;32m✅ Completed\u001b[0m\n",
       "    └── \u001b[1;32m🤖 Agent: \u001b[0m\u001b[32mContent Writer\u001b[0m\n",
       "        \u001b[37m    Status: \u001b[0m\u001b[1;32m✅ Completed\u001b[0m\n"
      ]
     },
     "metadata": {},
     "output_type": "display_data"
    },
    {
     "data": {
      "text/html": [
       "<pre style=\"white-space:pre;overflow-x:auto;line-height:normal;font-family:Menlo,'DejaVu Sans Mono',consolas,'Courier New',monospace\"><span style=\"color: #008000; text-decoration-color: #008000\">╭──────────────────────────────────────────────── Task Completion ────────────────────────────────────────────────╮</span>\n",
       "<span style=\"color: #008000; text-decoration-color: #008000\">│</span>                                                                                                                 <span style=\"color: #008000; text-decoration-color: #008000\">│</span>\n",
       "<span style=\"color: #008000; text-decoration-color: #008000\">│</span>  <span style=\"color: #008000; text-decoration-color: #008000; font-weight: bold\">Task Completed</span>                                                                                                 <span style=\"color: #008000; text-decoration-color: #008000\">│</span>\n",
       "<span style=\"color: #008000; text-decoration-color: #008000\">│</span>  <span style=\"color: #c0c0c0; text-decoration-color: #c0c0c0\">Name: </span><span style=\"color: #008000; text-decoration-color: #008000\">97028e6d-dbb5-4f1a-b092-145d210215c0</span>                                                                     <span style=\"color: #008000; text-decoration-color: #008000\">│</span>\n",
       "<span style=\"color: #008000; text-decoration-color: #008000\">│</span>  <span style=\"color: #c0c0c0; text-decoration-color: #c0c0c0\">Agent: </span><span style=\"color: #008000; text-decoration-color: #008000\">Content Writer</span>                                                                                          <span style=\"color: #008000; text-decoration-color: #008000\">│</span>\n",
       "<span style=\"color: #008000; text-decoration-color: #008000\">│</span>                                                                                                                 <span style=\"color: #008000; text-decoration-color: #008000\">│</span>\n",
       "<span style=\"color: #008000; text-decoration-color: #008000\">│</span>                                                                                                                 <span style=\"color: #008000; text-decoration-color: #008000\">│</span>\n",
       "<span style=\"color: #008000; text-decoration-color: #008000\">╰─────────────────────────────────────────────────────────────────────────────────────────────────────────────────╯</span>\n",
       "</pre>\n"
      ],
      "text/plain": [
       "\u001b[32m╭─\u001b[0m\u001b[32m───────────────────────────────────────────────\u001b[0m\u001b[32m Task Completion \u001b[0m\u001b[32m───────────────────────────────────────────────\u001b[0m\u001b[32m─╮\u001b[0m\n",
       "\u001b[32m│\u001b[0m                                                                                                                 \u001b[32m│\u001b[0m\n",
       "\u001b[32m│\u001b[0m  \u001b[1;32mTask Completed\u001b[0m                                                                                                 \u001b[32m│\u001b[0m\n",
       "\u001b[32m│\u001b[0m  \u001b[37mName: \u001b[0m\u001b[32m97028e6d-dbb5-4f1a-b092-145d210215c0\u001b[0m                                                                     \u001b[32m│\u001b[0m\n",
       "\u001b[32m│\u001b[0m  \u001b[37mAgent: \u001b[0m\u001b[32mContent Writer\u001b[0m                                                                                          \u001b[32m│\u001b[0m\n",
       "\u001b[32m│\u001b[0m                                                                                                                 \u001b[32m│\u001b[0m\n",
       "\u001b[32m│\u001b[0m                                                                                                                 \u001b[32m│\u001b[0m\n",
       "\u001b[32m╰─────────────────────────────────────────────────────────────────────────────────────────────────────────────────╯\u001b[0m\n"
      ]
     },
     "metadata": {},
     "output_type": "display_data"
    },
    {
     "data": {
      "text/html": [
       "<pre style=\"white-space:pre;overflow-x:auto;line-height:normal;font-family:Menlo,'DejaVu Sans Mono',consolas,'Courier New',monospace\">\n",
       "</pre>\n"
      ],
      "text/plain": [
       "\n"
      ]
     },
     "metadata": {},
     "output_type": "display_data"
    },
    {
     "data": {
      "text/html": [
       "<pre style=\"white-space:pre;overflow-x:auto;line-height:normal;font-family:Menlo,'DejaVu Sans Mono',consolas,'Courier New',monospace\"><span style=\"color: #008000; text-decoration-color: #008000\">╭──────────────────────────────────────────────── Crew Completion ────────────────────────────────────────────────╮</span>\n",
       "<span style=\"color: #008000; text-decoration-color: #008000\">│</span>                                                                                                                 <span style=\"color: #008000; text-decoration-color: #008000\">│</span>\n",
       "<span style=\"color: #008000; text-decoration-color: #008000\">│</span>  <span style=\"color: #008000; text-decoration-color: #008000; font-weight: bold\">Crew Execution Completed</span>                                                                                       <span style=\"color: #008000; text-decoration-color: #008000\">│</span>\n",
       "<span style=\"color: #008000; text-decoration-color: #008000\">│</span>  <span style=\"color: #c0c0c0; text-decoration-color: #c0c0c0\">Name: </span><span style=\"color: #008000; text-decoration-color: #008000\">crew</span>                                                                                                     <span style=\"color: #008000; text-decoration-color: #008000\">│</span>\n",
       "<span style=\"color: #008000; text-decoration-color: #008000\">│</span>  <span style=\"color: #c0c0c0; text-decoration-color: #c0c0c0\">ID: </span><span style=\"color: #008000; text-decoration-color: #008000\">2823145f-bf37-4fe4-93dc-6acdb5d2c641</span>                                                                       <span style=\"color: #008000; text-decoration-color: #008000\">│</span>\n",
       "<span style=\"color: #008000; text-decoration-color: #008000\">│</span>                                                                                                                 <span style=\"color: #008000; text-decoration-color: #008000\">│</span>\n",
       "<span style=\"color: #008000; text-decoration-color: #008000\">│</span>                                                                                                                 <span style=\"color: #008000; text-decoration-color: #008000\">│</span>\n",
       "<span style=\"color: #008000; text-decoration-color: #008000\">╰─────────────────────────────────────────────────────────────────────────────────────────────────────────────────╯</span>\n",
       "</pre>\n"
      ],
      "text/plain": [
       "\u001b[32m╭─\u001b[0m\u001b[32m───────────────────────────────────────────────\u001b[0m\u001b[32m Crew Completion \u001b[0m\u001b[32m───────────────────────────────────────────────\u001b[0m\u001b[32m─╮\u001b[0m\n",
       "\u001b[32m│\u001b[0m                                                                                                                 \u001b[32m│\u001b[0m\n",
       "\u001b[32m│\u001b[0m  \u001b[1;32mCrew Execution Completed\u001b[0m                                                                                       \u001b[32m│\u001b[0m\n",
       "\u001b[32m│\u001b[0m  \u001b[37mName: \u001b[0m\u001b[32mcrew\u001b[0m                                                                                                     \u001b[32m│\u001b[0m\n",
       "\u001b[32m│\u001b[0m  \u001b[37mID: \u001b[0m\u001b[32m2823145f-bf37-4fe4-93dc-6acdb5d2c641\u001b[0m                                                                       \u001b[32m│\u001b[0m\n",
       "\u001b[32m│\u001b[0m                                                                                                                 \u001b[32m│\u001b[0m\n",
       "\u001b[32m│\u001b[0m                                                                                                                 \u001b[32m│\u001b[0m\n",
       "\u001b[32m╰─────────────────────────────────────────────────────────────────────────────────────────────────────────────────╯\u001b[0m\n"
      ]
     },
     "metadata": {},
     "output_type": "display_data"
    },
    {
     "data": {
      "text/html": [
       "<pre style=\"white-space:pre;overflow-x:auto;line-height:normal;font-family:Menlo,'DejaVu Sans Mono',consolas,'Courier New',monospace\">\n",
       "</pre>\n"
      ],
      "text/plain": [
       "\n"
      ]
     },
     "metadata": {},
     "output_type": "display_data"
    },
    {
     "name": "stdout",
     "output_type": "stream",
     "text": [
      "\n",
      "Book writing completed!\n",
      "Book saved to /Users/saisuryamadhav/Documents/Personal/CrewAI-Experiments/notebooks/books/crewai_tools_orchestrating_collaborative_ai_agents.md\n",
      "\n",
      "--- Book Information ---\n",
      "Title: CrewAI Tools: Orchestrating Collaborative AI Agents\n",
      "Saved to: Book saved to /Users/saisuryamadhav/Documents/Personal/CrewAI-Experiments/notebooks/books/crewai_tools_orchestrating_collaborative_ai_agents.md\n",
      "\n",
      "Preview:\n",
      "```markdown\n",
      "# CrewAI Tools: Orchestrating Collaborative AI Agents\n",
      "\n",
      "## Introduction\n",
      "\n",
      "This book provides a comprehensive introduction to CrewAI, an open-source framework designed for building and managing collaborative AI agents. It explores the core concepts, tools, and techniques for leveraging CrewAI to tackle complex problems requiring reasoning, problem-solving, and creative collaboration. The book is aimed at developers, researchers, and anyone interested in exploring the potential of orches...\n"
     ]
    }
   ],
   "source": [
    "# Get a topic from the user\n",
    "topic = input(\"What topic would you like a book on? \")\n",
    "\n",
    "# Run the book writing process\n",
    "book_info = write_book_with_web_research(topic)\n",
    "\n",
    "# Print information about the generated book\n",
    "print(\"\\n--- Book Information ---\")\n",
    "print(f\"Title: {book_info['title']}\")\n",
    "print(f\"Saved to: {book_info['file_path']}\")\n",
    "print(\"\\nPreview:\")\n",
    "print(book_info['content_preview'])"
   ]
  },
  {
   "cell_type": "markdown",
   "id": "13692d15",
   "metadata": {},
   "source": [
    "## Complete Processing Example\n",
    "\n",
    "Let's run through the complete process for a sample topic like \"Machine Learning for Beginners\":"
   ]
  },
  {
   "cell_type": "code",
   "execution_count": 21,
   "id": "b1e61b0e",
   "metadata": {},
   "outputs": [],
   "source": [
    "# Example execution with a specific topic\n",
    "# sample_book = write_book_with_web_research(\"Machine Learning for Beginners\")"
   ]
  },
  {
   "cell_type": "markdown",
   "id": "6c7efff6",
   "metadata": {},
   "source": [
    "## How the Process Works\n",
    "\n",
    "Let's explain how this web research-based book writing process works:\n",
    "\n",
    "1. **Web Research**: The researcher agent uses the SerperDevTool to perform searches on the topic, gathering the most relevant and up-to-date information from across the internet.\n",
    "\n",
    "2. **Outline Creation**: The outliner agent analyzes the research and creates a structured outline for the book, organizing the information into logical chapters and sections.\n",
    "\n",
    "3. **Content Writing**: The writer agent takes the research and outline to create engaging, informative content that accurately reflects the gathered information.\n",
    "\n",
    "4. **Book Saving**: The completed book is saved to the filesystem as a Markdown file, ready for viewing or further editing.\n",
    "\n",
    "This approach combines the power of web search with the creative and organizational capabilities of AI agents, resulting in informative content grounded in real-world information.\n",
    "\n",
    "## Extending the System\n",
    "\n",
    "This system could be extended in several ways:\n",
    "\n",
    "1. **Adding a Fact-Checker Agent**: Create an agent that verifies facts and checks for accuracy.\n",
    "\n",
    "2. **Incorporating Image Generation**: Add tools to generate relevant images or diagrams.\n",
    "\n",
    "3. **Adding Citations**: Enhance the writing to include formal citations of sources.\n",
    "\n",
    "4. **Interactive Feedback**: Allow for human review and feedback during the process.\n",
    "\n",
    "By leveraging the combination of web search and collaborative AI agents, this system demonstrates how complex creative and informational tasks can be automated while maintaining quality and accuracy.\n",
    "\n",
    "## Conclusion\n",
    "\n",
    "In this notebook, we've built a system that:\n",
    "\n",
    "1. Uses web search to gather accurate, up-to-date information on any topic\n",
    "2. Creates a structured outline based on the research\n",
    "3. Writes a comprehensive book with up to 2 chapters\n",
    "4. Saves the completed book as a Markdown file\n",
    "\n",
    "This demonstrates the power of combining web search capabilities with the collaborative agent framework of CrewAI to create informative, well-researched content."
   ]
  }
 ],
 "metadata": {
  "jupytext": {
   "cell_metadata_filter": "-all",
   "main_language": "python",
   "notebook_metadata_filter": "-all"
  },
  "kernelspec": {
   "display_name": "getting-started-llmops",
   "language": "python",
   "name": "getting-started-llmops"
  },
  "language_info": {
   "codemirror_mode": {
    "name": "ipython",
    "version": 3
   },
   "file_extension": ".py",
   "mimetype": "text/x-python",
   "name": "python",
   "nbconvert_exporter": "python",
   "pygments_lexer": "ipython3",
   "version": "3.11.8"
  }
 },
 "nbformat": 4,
 "nbformat_minor": 5
}
